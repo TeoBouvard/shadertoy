{
 "cells": [
  {
   "cell_type": "code",
   "execution_count": 31,
   "metadata": {},
   "outputs": [],
   "source": [
    "import sys\n",
    "import json\n",
    "import string\n",
    "\n",
    "import pandas as pd\n",
    "import numpy as np\n",
    "\n",
    "from random import randint, choice\n",
    "from collections import Counter\n",
    "from tqdm import tqdm\n",
    "from collections import defaultdict\n",
    "from nltk import ngrams\n",
    "from nltk.corpus import stopwords\n",
    "from scipy.sparse import csr_matrix,  lil_matrix\n",
    "from matplotlib import pyplot as plt\n",
    "\n",
    "plt.rcParams['figure.figsize'] = (16, 4)\n",
    "STOP_WORDS = stopwords.words('english')"
   ]
  },
  {
   "cell_type": "code",
   "execution_count": 64,
   "metadata": {},
   "outputs": [],
   "source": [
    "original_articles = pd.read_json('data/articles.json')\n",
    "original_articles.set_index('article_id', inplace=True)\n",
    "articles = (original_articles['Title'] + ' ' + original_articles['Content']).to_dict()"
   ]
  },
  {
   "cell_type": "markdown",
   "metadata": {},
   "source": [
    "# Preprocessing"
   ]
  },
  {
   "cell_type": "code",
   "execution_count": 3,
   "metadata": {},
   "outputs": [],
   "source": [
    "def preprocess(s):\n",
    "    mapping = {c:' ' for c in string.punctuation.join(string.whitespace)}\n",
    "    s = s.lower()\n",
    "    s = s.translate(str.maketrans(mapping))\n",
    "    return [word for word in s.split() if word not in STOP_WORDS]"
   ]
  },
  {
   "cell_type": "markdown",
   "metadata": {},
   "source": [
    "## Extracting n-grams"
   ]
  },
  {
   "cell_type": "code",
   "execution_count": 4,
   "metadata": {
    "scrolled": true
   },
   "outputs": [],
   "source": [
    "def get_vocabulary(documents, n=2):   \n",
    "    vocabulary = defaultdict(set)\n",
    "\n",
    "    for doc_id, doc in tqdm(documents.items()):\n",
    "        doc = preprocess(doc)\n",
    "        shingles = ngrams(doc, n)\n",
    "        for shingle in shingles:\n",
    "            vocabulary[shingle].add(doc_id)\n",
    "            \n",
    "    return vocabulary"
   ]
  },
  {
   "cell_type": "code",
   "execution_count": 5,
   "metadata": {},
   "outputs": [
    {
     "name": "stderr",
     "output_type": "stream",
     "text": [
      "100%|██████████| 48505/48505 [00:34<00:00, 1404.92it/s]"
     ]
    },
    {
     "name": "stdout",
     "output_type": "stream",
     "text": [
      "Full vocabulary contains 4197134 distinct n-grams\n"
     ]
    },
    {
     "name": "stderr",
     "output_type": "stream",
     "text": [
      "\n"
     ]
    }
   ],
   "source": [
    "full_vocab = get_vocabulary(articles)\n",
    "print(f'Full vocabulary contains {len(full_vocab)} distinct n-grams')"
   ]
  },
  {
   "cell_type": "markdown",
   "metadata": {},
   "source": [
    "In order to speed up the computation of the signature matrix, we discard all terms which appear only in a single document. As our goal is to find nearest duplicates among all documents, we can safely discard these terms as they do not help in finding similarities."
   ]
  },
  {
   "cell_type": "code",
   "execution_count": 6,
   "metadata": {},
   "outputs": [
    {
     "name": "stdout",
     "output_type": "stream",
     "text": [
      "Reduced vocabulary contains 1212935 distinct n-grams (28.9% of original)\n"
     ]
    }
   ],
   "source": [
    "vocab = dict(filter(lambda x:len(x[1])>1, full_vocab.items()))\n",
    "compression = len(vocab)/len(full_vocab)\n",
    "print(f'Reduced vocabulary contains {len(vocab)} distinct n-grams ({compression:.1%} of original)')"
   ]
  },
  {
   "cell_type": "markdown",
   "metadata": {},
   "source": [
    "# Building a term-document matrix\n",
    "\n",
    "According to [scipy docs](https://docs.scipy.org/doc/scipy/reference/generated/scipy.sparse.lil_matrix.html), it's more efficient to build the sparse matrix incrementally using `lil_matrix`, and then convert it to `csr_matrix` for faster operations.\n"
   ]
  },
  {
   "cell_type": "code",
   "execution_count": 7,
   "metadata": {},
   "outputs": [],
   "source": [
    "def binarize(vocabulary):\n",
    "    documents = set.union(*vocabulary.values())\n",
    "    binary_matrix = lil_matrix((len(vocabulary), max(documents)+1), dtype=bool)\n",
    "    vocab_idx = {word:i for i, word in enumerate(vocabulary.keys())}\n",
    "\n",
    "    for shingle, docs in tqdm(vocabulary.items()):\n",
    "        for doc in docs:\n",
    "            binary_matrix[vocab_idx[shingle], doc] = True\n",
    "\n",
    "    return binary_matrix.tocsr()"
   ]
  },
  {
   "cell_type": "code",
   "execution_count": 8,
   "metadata": {},
   "outputs": [
    {
     "name": "stderr",
     "output_type": "stream",
     "text": [
      "100%|██████████| 1212935/1212935 [00:24<00:00, 49214.79it/s] \n"
     ]
    },
    {
     "name": "stdout",
     "output_type": "stream",
     "text": [
      "Binary matrix of shape (1212935, 48505) with 8089485 true values\n"
     ]
    }
   ],
   "source": [
    "bin_mat = binarize(vocab)\n",
    "print(f'Binary matrix of shape {bin_mat.shape} with {bin_mat.nnz} true values')"
   ]
  },
  {
   "cell_type": "markdown",
   "metadata": {},
   "source": [
    "# Computing hash function values"
   ]
  },
  {
   "cell_type": "code",
   "execution_count": 9,
   "metadata": {},
   "outputs": [],
   "source": [
    "def hash_matrix(n_rows, n_hash):\n",
    "    hash_mat = np.empty((n_rows, n_hash), dtype=int)\n",
    "    for column in tqdm(range(n_hash)):\n",
    "        rand = randint(1, sys.maxsize)\n",
    "        hash_mat[:, column] = (np.arange(n_rows) * rand) % n_rows\n",
    "        #hash_val = int(sha256(str(row).encode()).hexdigest(), 16)\n",
    "        #hash_mat[:, column] = (hash_val ^ rand) % len(vocab)\n",
    "    return hash_mat"
   ]
  },
  {
   "cell_type": "code",
   "execution_count": 10,
   "metadata": {},
   "outputs": [
    {
     "name": "stderr",
     "output_type": "stream",
     "text": [
      "100%|██████████| 1000/1000 [00:18<00:00, 54.08it/s]"
     ]
    },
    {
     "name": "stdout",
     "output_type": "stream",
     "text": [
      "Hash matrix of shape (1212935, 1000)\n"
     ]
    },
    {
     "name": "stderr",
     "output_type": "stream",
     "text": [
      "\n"
     ]
    }
   ],
   "source": [
    "TOTAL_HASH = 1000\n",
    "hash_mat = hash_matrix(len(vocab), TOTAL_HASH)\n",
    "print(f'Hash matrix of shape {hash_mat.shape}')"
   ]
  },
  {
   "cell_type": "markdown",
   "metadata": {},
   "source": [
    "# Computing minhash signature matrix"
   ]
  },
  {
   "cell_type": "markdown",
   "metadata": {},
   "source": [
    "Computing the signature matrix is the most expensive operation of the algorithm. In order to speed up testing, we compute it only once with a signature row of size 1000, so that we can later trunctate it to lower signature size if we do not need that much information."
   ]
  },
  {
   "cell_type": "code",
   "execution_count": 11,
   "metadata": {},
   "outputs": [],
   "source": [
    "def min_hash(binary_matrix, hash_matrix):\n",
    "    n_hash = hash_matrix.shape[1]\n",
    "    n_docs = binary_matrix.shape[1]\n",
    "    n_words = binary_matrix.shape[0]\n",
    "    max_val = binary_matrix.shape[0] + 1\n",
    "    signature_matrix = np.full((n_hash, n_docs), max_val, dtype=np.int)\n",
    "\n",
    "    for row in tqdm(range(n_words)):\n",
    "        mask = (binary_matrix[row, :] == True).toarray()[0]\n",
    "        signature_matrix[:, mask] = np.minimum(signature_matrix[:, mask], hash_matrix[row, :].reshape(-1, 1))\n",
    "                    \n",
    "    return signature_matrix"
   ]
  },
  {
   "cell_type": "code",
   "execution_count": 12,
   "metadata": {},
   "outputs": [
    {
     "name": "stderr",
     "output_type": "stream",
     "text": [
      "100%|██████████| 1212935/1212935 [06:33<00:00, 3084.85it/s]"
     ]
    },
    {
     "name": "stdout",
     "output_type": "stream",
     "text": [
      "Signature of shape (1000, 48505)\n"
     ]
    },
    {
     "name": "stderr",
     "output_type": "stream",
     "text": [
      "\n"
     ]
    }
   ],
   "source": [
    "signature = min_hash(bin_mat, hash_mat)\n",
    "print(f'Signature of shape {signature.shape}')"
   ]
  },
  {
   "cell_type": "markdown",
   "metadata": {},
   "source": [
    "## Hash signature bands into buckets. Find a way to combine all the signature values in a band and hash them into a number of buckets ususally very high.\n",
    "* Easiest way is to add all the signature values in the bucket and use a similar hash function like before"
   ]
  },
  {
   "cell_type": "code",
   "execution_count": 13,
   "metadata": {},
   "outputs": [],
   "source": [
    "def get_buckets(signature_matrix, row_per_band):\n",
    "    n_bands = signature_matrix.shape[0] // row_per_band\n",
    "    n_documents = signature_matrix.shape[1]\n",
    "    buckets = defaultdict(set)\n",
    "    \n",
    "    for doc in tqdm(range(n_documents)):\n",
    "        for i in range(n_bands):\n",
    "            band_signature = ''.join(map(str, signature_matrix[i*row_per_band:(i+1)*row_per_band, doc]))\n",
    "            band_signature = hash(band_signature)\n",
    "            buckets[band_signature].add(doc)\n",
    "   \n",
    "    return buckets"
   ]
  },
  {
   "cell_type": "code",
   "execution_count": 14,
   "metadata": {},
   "outputs": [
    {
     "name": "stderr",
     "output_type": "stream",
     "text": [
      "100%|██████████| 48505/48505 [00:07<00:00, 6239.65it/s]\n"
     ]
    }
   ],
   "source": [
    "SIG_SIZE = 100\n",
    "ROW_PER_BAND = 2\n",
    "buckets = get_buckets(signature[:SIG_SIZE, :], ROW_PER_BAND)"
   ]
  },
  {
   "cell_type": "markdown",
   "metadata": {},
   "source": [
    "# Hyperparameter tuning\n",
    "\n",
    "We plot the probability of two documents falling in the same bucket for different similarities, signature sizes and number of bands."
   ]
  },
  {
   "cell_type": "code",
   "execution_count": 15,
   "metadata": {},
   "outputs": [],
   "source": [
    "def plot_proba():\n",
    "    fig, ax = plt.subplots(1, 4)\n",
    "    ax[0].set(xlabel='s', ylabel='P(same bucket)')\n",
    "    sim = np.linspace(0.3, 1, num=100)\n",
    "    for i, sig_size in enumerate([1, 10, 100, 1000]):\n",
    "        for row_per_band in [1, 3, 5, 10]:\n",
    "            n_bands = sig_size // row_per_band\n",
    "            prob = 1 - (1 - pow(pow(sim, row_per_band), n_bands))\n",
    "            ax[i].plot(sim, prob, label=f'b = {n_bands}')\n",
    "            ax[i].set(title=f'signature size = {sig_size}')\n",
    "        ax[i].legend()"
   ]
  },
  {
   "cell_type": "code",
   "execution_count": 16,
   "metadata": {},
   "outputs": [
    {
     "data": {
      "image/png": "[encoded data removed]",
      "text/plain": [
       "<Figure size 1152x288 with 4 Axes>"
      ]
     },
     "metadata": {
      "needs_background": "light"
     },
     "output_type": "display_data"
    }
   ],
   "source": [
    "plot_proba()"
   ]
  },
  {
   "cell_type": "markdown",
   "metadata": {},
   "source": [
    "## Choose the best parameters and get nearest neighbors of each articles"
   ]
  },
  {
   "cell_type": "code",
   "execution_count": 48,
   "metadata": {},
   "outputs": [],
   "source": [
    "def get_neighbours(buckets):\n",
    "    neighbours = {}\n",
    "    \n",
    "    # accumulate neighbours for each bucket\n",
    "    for bucket in tqdm(buckets.values()):\n",
    "        for doc in bucket:\n",
    "            if doc in neighbours:\n",
    "                neighbours[doc] += Counter(bucket)\n",
    "            else:\n",
    "                neighbours[doc] = Counter(bucket)\n",
    "\n",
    "    # keep only neighbours appearing in more than one bucket\n",
    "    for doc in neighbours:\n",
    "        similar_docs = filter(lambda x: x[0] != doc and x[1] > 1, dict(neighbours[doc]).items())\n",
    "        neighbours[doc] = list(_[0] for  _ in similar_docs)\n",
    "    \n",
    "    return neighbours"
   ]
  },
  {
   "cell_type": "code",
   "execution_count": 49,
   "metadata": {
    "scrolled": true
   },
   "outputs": [
    {
     "name": "stderr",
     "output_type": "stream",
     "text": [
      "100%|██████████| 1523724/1523724 [00:16<00:00, 90530.16it/s] \n"
     ]
    }
   ],
   "source": [
    "n = get_neighbours(buckets)"
   ]
  },
  {
   "cell_type": "code",
   "execution_count": 50,
   "metadata": {},
   "outputs": [],
   "source": [
    "def submit(neighbours):\n",
    "    with open('submissions.csv', 'w') as f:\n",
    "        for doc_id, similar_docs in sorted(neighbours.items()):\n",
    "            f.write(str(doc_id))\n",
    "            other_docs = ',' + ','.join(str(d) for d in similar_docs) + '\\n'\n",
    "            f.write(other_docs)"
   ]
  },
  {
   "cell_type": "code",
   "execution_count": 51,
   "metadata": {},
   "outputs": [],
   "source": [
    "submit(n)"
   ]
  },
  {
   "cell_type": "markdown",
   "metadata": {},
   "source": [
    "# Testing the results"
   ]
  },
  {
   "cell_type": "code",
   "execution_count": 82,
   "metadata": {},
   "outputs": [],
   "source": [
    "def print_neighbours(neighbours, min_similar = 2):\n",
    "    similar_articles = []\n",
    "    while len(similar_articles) < min_similar:\n",
    "        similar_articles = choice(neighbours)\n",
    "    return original_articles.loc[similar_articles]"
   ]
  },
  {
   "cell_type": "code",
   "execution_count": 98,
   "metadata": {},
   "outputs": [
    {
     "data": {
      "text/html": [
       "<div>\n",
       "<style scoped>\n",
       "    .dataframe tbody tr th:only-of-type {\n",
       "        vertical-align: middle;\n",
       "    }\n",
       "\n",
       "    .dataframe tbody tr th {\n",
       "        vertical-align: top;\n",
       "    }\n",
       "\n",
       "    .dataframe thead th {\n",
       "        text-align: right;\n",
       "    }\n",
       "</style>\n",
       "<table border=\"1\" class=\"dataframe\">\n",
       "  <thead>\n",
       "    <tr style=\"text-align: right;\">\n",
       "      <th></th>\n",
       "      <th>Title</th>\n",
       "      <th>Content</th>\n",
       "    </tr>\n",
       "    <tr>\n",
       "      <th>article_id</th>\n",
       "      <th></th>\n",
       "      <th></th>\n",
       "    </tr>\n",
       "  </thead>\n",
       "  <tbody>\n",
       "    <tr>\n",
       "      <th>16322</th>\n",
       "      <td>AAA reports Missouri gas prices lowest in country</td>\n",
       "      <td>JEFFERSON CITY, Mo. (AP) — AAA says Missourian...</td>\n",
       "    </tr>\n",
       "    <tr>\n",
       "      <th>1579</th>\n",
       "      <td>AAA reports Missouri gas prices lowest in country</td>\n",
       "      <td>JEFFERSON CITY, Mo. (AP) - AAA says Missourian...</td>\n",
       "    </tr>\n",
       "    <tr>\n",
       "      <th>33837</th>\n",
       "      <td>AAA: Missouri has lowest gas prices in the US</td>\n",
       "      <td>AAA says Missourians on average are paying the...</td>\n",
       "    </tr>\n",
       "    <tr>\n",
       "      <th>26416</th>\n",
       "      <td>AAA reports Missouri gas prices lowest in coun...</td>\n",
       "      <td>JEFFERSON CITY, Mo. — AAA says Missourians on ...</td>\n",
       "    </tr>\n",
       "    <tr>\n",
       "      <th>37843</th>\n",
       "      <td>AAA reports Missouri gas prices lowest in country</td>\n",
       "      <td>(JEFFERSON CITY, Mo., AP) — AAA says Missouria...</td>\n",
       "    </tr>\n",
       "    <tr>\n",
       "      <th>31511</th>\n",
       "      <td>AAA reports Missouri gas prices lowest in coun...</td>\n",
       "      <td>JEFFERSON CITY, Mo. — AAA says Missourians on ...</td>\n",
       "    </tr>\n",
       "    <tr>\n",
       "      <th>19514</th>\n",
       "      <td>AAA reports Missouri gas prices lowest in country</td>\n",
       "      <td>AAA reports Missouri gas prices lowest in coun...</td>\n",
       "    </tr>\n",
       "    <tr>\n",
       "      <th>4410</th>\n",
       "      <td>Kansas gas prices among lowest in the country</td>\n",
       "      <td>JEFFERSON CITY, Mo. (AP) — AAA says Missourian...</td>\n",
       "    </tr>\n",
       "    <tr>\n",
       "      <th>46670</th>\n",
       "      <td>Midwest Gas Prices Lowest In Country</td>\n",
       "      <td>AAA says Missourians on average are paying the...</td>\n",
       "    </tr>\n",
       "    <tr>\n",
       "      <th>22365</th>\n",
       "      <td>Kan. gas prices among lowest in the country, c...</td>\n",
       "      <td>JEFFERSON CITY, Mo. (AP) — AAA says Missourian...</td>\n",
       "    </tr>\n",
       "  </tbody>\n",
       "</table>\n",
       "</div>"
      ],
      "text/plain": [
       "                                                        Title  \\\n",
       "article_id                                                      \n",
       "16322       AAA reports Missouri gas prices lowest in country   \n",
       "1579        AAA reports Missouri gas prices lowest in country   \n",
       "33837           AAA: Missouri has lowest gas prices in the US   \n",
       "26416       AAA reports Missouri gas prices lowest in coun...   \n",
       "37843       AAA reports Missouri gas prices lowest in country   \n",
       "31511       AAA reports Missouri gas prices lowest in coun...   \n",
       "19514       AAA reports Missouri gas prices lowest in country   \n",
       "4410            Kansas gas prices among lowest in the country   \n",
       "46670                    Midwest Gas Prices Lowest In Country   \n",
       "22365       Kan. gas prices among lowest in the country, c...   \n",
       "\n",
       "                                                      Content  \n",
       "article_id                                                     \n",
       "16322       JEFFERSON CITY, Mo. (AP) — AAA says Missourian...  \n",
       "1579        JEFFERSON CITY, Mo. (AP) - AAA says Missourian...  \n",
       "33837       AAA says Missourians on average are paying the...  \n",
       "26416       JEFFERSON CITY, Mo. — AAA says Missourians on ...  \n",
       "37843       (JEFFERSON CITY, Mo., AP) — AAA says Missouria...  \n",
       "31511       JEFFERSON CITY, Mo. — AAA says Missourians on ...  \n",
       "19514       AAA reports Missouri gas prices lowest in coun...  \n",
       "4410        JEFFERSON CITY, Mo. (AP) — AAA says Missourian...  \n",
       "46670       AAA says Missourians on average are paying the...  \n",
       "22365       JEFFERSON CITY, Mo. (AP) — AAA says Missourian...  "
      ]
     },
     "execution_count": 98,
     "metadata": {},
     "output_type": "execute_result"
    }
   ],
   "source": [
    "print_neighbours(n,  5)"
   ]
  }
 ],
 "metadata": {
  "kernelspec": {
   "display_name": "Python 3",
   "language": "python",
   "name": "python3"
  },
  "language_info": {
   "codemirror_mode": {
    "name": "ipython",
    "version": 3
   },
   "file_extension": ".py",
   "mimetype": "text/x-python",
   "name": "python",
   "nbconvert_exporter": "python",
   "pygments_lexer": "ipython3",
   "version": "3.8.1"
  }
 },
 "nbformat": 4,
 "nbformat_minor": 2
}

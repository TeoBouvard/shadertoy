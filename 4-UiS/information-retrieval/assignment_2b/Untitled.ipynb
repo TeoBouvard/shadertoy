{
 "cells": [
  {
   "cell_type": "code",
   "execution_count": 1,
   "metadata": {},
   "outputs": [],
   "source": [
    "import pandas as pd\n",
    "import requests\n",
    "from tqdm import tqdm\n",
    "import json"
   ]
  },
  {
   "cell_type": "code",
   "execution_count": null,
   "metadata": {},
   "outputs": [],
   "source": [
    "def load_qrels(path):\n",
    "    with open(path) as f:\n",
    "        qrels = pd.read_csv(f, index_col=['QueryId', 'DocumentId'])\n",
    "    return qrels"
   ]
  },
  {
   "cell_type": "code",
   "execution_count": null,
   "metadata": {},
   "outputs": [],
   "source": [
    "qrels = load_qrels('data/qrels.csv')"
   ]
  },
  {
   "cell_type": "code",
   "execution_count": 4,
   "metadata": {
    "scrolled": false
   },
   "outputs": [
    {
     "name": "stderr",
     "output_type": "stream",
     "text": [
      "100%|██████████| 14336/14336 [09:15<00:00, 25.82it/s]"
     ]
    },
    {
     "name": "stdout",
     "output_type": "stream",
     "text": [
      "772 document from qrels.csv are in the index\n",
      "['clueweb12-0000wb-30-01951', 'clueweb12-0000wb-60-01497', 'clueweb12-0500tw-12-01032', 'clueweb12-0500tw-12-01033', 'clueweb12-0508wb-96-01084', 'clueweb12-0608wb-54-01093', 'clueweb12-0807wb-91-00497', 'clueweb12-0809wb-37-01955', 'clueweb12-0915wb-34-01721', 'clueweb12-0917wb-66-01171', 'clueweb12-1003wb-22-01697', 'clueweb12-1003wb-73-00199', 'clueweb12-1708wb-99-01915', 'clueweb12-1708wb-99-01957', 'clueweb12-1800tw-37-00636', 'clueweb12-1805wb-10-00159', 'clueweb12-1805wb-10-00164', 'clueweb12-1805wb-97-00510', 'clueweb12-1806wb-14-01949', 'clueweb12-1806wb-14-01950', 'clueweb12-1806wb-14-01951', 'clueweb12-1806wb-14-01952', 'clueweb12-1806wb-14-01953', 'clueweb12-0010wb-36-02425', 'clueweb12-0100wb-20-01372', 'clueweb12-0108wb-61-00476', 'clueweb12-0204wb-17-00480', 'clueweb12-0800tw-57-00770', 'clueweb12-0805wb-29-00101', 'clueweb12-0900tw-24-00475', 'clueweb12-0901wb-69-00992', 'clueweb12-0904wb-87-00462', 'clueweb12-1002wb-12-01571', 'clueweb12-1500tw-28-00767', 'clueweb12-1701wb-32-00144', 'clueweb12-0000wb-35-00332', 'clueweb12-0001wb-17-00643', 'clueweb12-0108wb-17-00011', 'clueweb12-0111wb-05-00915', 'clueweb12-0111wb-25-01235', 'clueweb12-0207wb-59-01850', 'clueweb12-0210wb-37-01841', 'clueweb12-0302wb-30-01515', 'clueweb12-0700tw-70-00225', 'clueweb12-0714wb-39-01317', 'clueweb12-1100tw-15-00674', 'clueweb12-1100tw-15-00675', 'clueweb12-1616wb-24-00943', 'clueweb12-0003wb-35-01983', 'clueweb12-0103wb-97-00180', 'clueweb12-0200wb-61-02299', 'clueweb12-0206wb-70-00373', 'clueweb12-0207wb-85-00335', 'clueweb12-0301tw-04-01374', 'clueweb12-0301wb-24-01237', 'clueweb12-0402wb-31-00377', 'clueweb12-1013wb-47-01116', 'clueweb12-1105wb-34-00423', 'clueweb12-1500tw-39-01008', 'clueweb12-1701wb-13-01322', 'clueweb12-1801wb-65-01707', 'clueweb12-0004wb-93-00601', 'clueweb12-0101wb-67-00437', 'clueweb12-0104wb-83-00955', 'clueweb12-0106wb-13-01392', 'clueweb12-0108wb-44-02262', 'clueweb12-0204wb-00-00981', 'clueweb12-0205wb-05-02301', 'clueweb12-0207wb-13-00035', 'clueweb12-0208wb-28-00304', 'clueweb12-0211wb-11-01602', 'clueweb12-0211wb-27-00585', 'clueweb12-0300wb-06-02438', 'clueweb12-0308wb-22-01430', 'clueweb12-0402wb-55-02398', 'clueweb12-0403wb-21-01861', 'clueweb12-0404wb-02-01517', 'clueweb12-0506wb-26-00415', 'clueweb12-1612wb-53-01924', 'clueweb12-1714wb-24-01471', 'clueweb12-1716wb-45-01191', 'clueweb12-1806wb-56-00524', 'clueweb12-1810wb-12-01690', 'clueweb12-1810wb-70-01321', 'clueweb12-1812wb-25-00919', 'clueweb12-1900wb-59-00786', 'clueweb12-0000wb-17-01290', 'clueweb12-0000wb-81-00651', 'clueweb12-0000wb-81-00662', 'clueweb12-0007wb-53-01020', 'clueweb12-0009wb-54-01932', 'clueweb12-0009wb-66-01883', 'clueweb12-0011wb-00-00567', 'clueweb12-0100wb-24-00546', 'clueweb12-0108wb-12-00138', 'clueweb12-0206wb-47-00622', 'clueweb12-0208wb-76-00579', 'clueweb12-0304wb-75-00462', 'clueweb12-0712wb-70-00557', 'clueweb12-0809wb-38-00237', 'clueweb12-0812wb-09-01604', 'clueweb12-0909wb-22-02116', 'clueweb12-1106wb-98-01158', 'clueweb12-1608wb-05-00033', 'clueweb12-1617wb-24-00013', 'clueweb12-1703wb-62-01620', 'clueweb12-1707wb-86-00465', 'clueweb12-1807wb-84-01707', 'clueweb12-1809wb-15-01964', 'clueweb12-0003wb-49-00579', 'clueweb12-0003wb-49-00587', 'clueweb12-0003wb-49-00588', 'clueweb12-0006wb-34-01000', 'clueweb12-0105wb-54-01629', 'clueweb12-0110wb-86-01800', 'clueweb12-0205wb-76-01669', 'clueweb12-0206wb-59-01004', 'clueweb12-0208wb-16-00969', 'clueweb12-0210wb-44-01591', 'clueweb12-0305wb-08-01243', 'clueweb12-0812wb-74-01477', 'clueweb12-1809wb-68-00674', 'clueweb12-0005wb-77-02144', 'clueweb12-0104wb-10-01148', 'clueweb12-0300tw-13-01426', 'clueweb12-0700tw-77-00384', 'clueweb12-0713wb-72-01329', 'clueweb12-0800tw-23-00612', 'clueweb12-0805wb-43-00390', 'clueweb12-1005wb-74-00443', 'clueweb12-1011wb-62-00443', 'clueweb12-1104wb-11-00806', 'clueweb12-1716wb-02-00310', 'clueweb12-1806wb-94-01827', 'clueweb12-0201wb-33-01595', 'clueweb12-0811wb-52-01249', 'clueweb12-1608wb-72-00715', 'clueweb12-1608wb-95-00346', 'clueweb12-1808wb-37-01594', 'clueweb12-1900wb-39-00749', 'clueweb12-0001wb-99-02318', 'clueweb12-0001wb-99-02319', 'clueweb12-0002wb-19-02593', 'clueweb12-0013wb-51-00787', 'clueweb12-0107wb-48-01795', 'clueweb12-0111wb-39-00027', 'clueweb12-0206wb-50-02058', 'clueweb12-0912wb-79-01432', 'clueweb12-0912wb-79-01447', 'clueweb12-1500tw-13-00732', 'clueweb12-1513wb-43-00796', 'clueweb12-1515wb-85-02075', 'clueweb12-1703wb-96-00879', 'clueweb12-1703wb-96-00884', 'clueweb12-1704wb-16-00784', 'clueweb12-1704wb-16-00787', 'clueweb12-1704wb-16-00788', 'clueweb12-1704wb-16-00789', 'clueweb12-1716wb-85-01189', 'clueweb12-1800tw-40-00906', 'clueweb12-1806wb-68-00819', 'clueweb12-0001wb-15-00809', 'clueweb12-0100wb-19-01488', 'clueweb12-0105wb-16-00905', 'clueweb12-0110wb-62-00973', 'clueweb12-0403wb-74-00844', 'clueweb12-0504wb-45-00400', 'clueweb12-0608wb-04-00293', 'clueweb12-0704wb-31-00229', 'clueweb12-0812wb-92-01590', 'clueweb12-0900tw-51-00197', 'clueweb12-0915wb-80-00889', 'clueweb12-0917wb-82-00382', 'clueweb12-1105wb-14-01417', 'clueweb12-1505wb-69-00765', 'clueweb12-1807wb-37-00712', 'clueweb12-1811wb-96-00109', 'clueweb12-0002wb-44-01204', 'clueweb12-0002wb-44-01212', 'clueweb12-0002wb-44-01214', 'clueweb12-0002wb-44-01217', 'clueweb12-0004wb-26-00636', 'clueweb12-0005wb-52-01232', 'clueweb12-0011wb-58-01315', 'clueweb12-0100wb-48-01985', 'clueweb12-0100wb-87-01656', 'clueweb12-0101wb-50-01553', 'clueweb12-0107wb-03-00776', 'clueweb12-0202wb-05-00779', 'clueweb12-0209wb-85-01963', 'clueweb12-0302wb-85-02207', 'clueweb12-0403wb-55-00123', 'clueweb12-0602wb-96-00187', 'clueweb12-1100wb-38-00224', 'clueweb12-1102wb-46-01248', 'clueweb12-1503wb-14-01689', 'clueweb12-1605wb-08-01102', 'clueweb12-1700tw-64-01212', 'clueweb12-1700wb-64-01390', 'clueweb12-0013wb-07-01495', 'clueweb12-0205wb-87-00181', 'clueweb12-0303wb-13-01579', 'clueweb12-0310wb-24-01661', 'clueweb12-0310wb-24-01662', 'clueweb12-0310wb-24-01663', 'clueweb12-0310wb-24-01664', 'clueweb12-0310wb-24-01665', 'clueweb12-0705wb-18-00174', 'clueweb12-1509wb-51-00226', 'clueweb12-1812wb-71-00873', 'clueweb12-1813wb-48-01043', 'clueweb12-0004wb-38-02516', 'clueweb12-0011wb-45-01444', 'clueweb12-0012wb-92-00475', 'clueweb12-0203wb-66-01934', 'clueweb12-0308wb-04-00989', 'clueweb12-0501wb-95-00428', 'clueweb12-1011wb-08-01602', 'clueweb12-1019wb-79-00865', 'clueweb12-1700wb-56-00262', 'clueweb12-1803wb-50-00066', 'clueweb12-1812wb-54-01554', 'clueweb12-0105wb-85-00546', 'clueweb12-0112wb-02-01048', 'clueweb12-0206wb-28-00419', 'clueweb12-0306wb-81-00258', 'clueweb12-0306wb-81-00259', 'clueweb12-0306wb-81-00270', 'clueweb12-0306wb-81-00276', 'clueweb12-0306wb-81-00284', 'clueweb12-0306wb-81-00285', 'clueweb12-0306wb-81-00290', 'clueweb12-0306wb-81-00291', 'clueweb12-0306wb-96-00324', 'clueweb12-0306wb-96-00328', 'clueweb12-0306wb-96-00329', 'clueweb12-0306wb-96-00334', 'clueweb12-0306wb-96-00335', 'clueweb12-0402wb-25-01811', 'clueweb12-0402wb-25-01812', 'clueweb12-0404wb-24-01911', 'clueweb12-0717wb-13-00642', 'clueweb12-1006wb-18-00011', 'clueweb12-1006wb-18-00012', 'clueweb12-1103wb-54-01789', 'clueweb12-1106wb-68-00078', 'clueweb12-1500tw-93-01075', 'clueweb12-1604wb-13-00248', 'clueweb12-1700tw-65-00800', 'clueweb12-1900wb-78-00865', 'clueweb12-0010wb-59-00779', 'clueweb12-0109wb-16-01307', 'clueweb12-0200tw-76-01147', 'clueweb12-0207wb-02-00245', 'clueweb12-0300tw-60-01094', 'clueweb12-0403wb-10-01545', 'clueweb12-1003wb-20-00117', 'clueweb12-1009wb-14-00072', 'clueweb12-1102wb-47-00834', 'clueweb12-1600tw-08-00562', 'clueweb12-1700tw-21-01060', 'clueweb12-1700tw-21-01069', 'clueweb12-1700tw-21-01079', 'clueweb12-1704wb-48-01782', 'clueweb12-1704wb-93-00031', 'clueweb12-1704wb-93-00042', 'clueweb12-1705wb-99-01255', 'clueweb12-1705wb-99-01257', 'clueweb12-1705wb-99-01259', 'clueweb12-1705wb-99-01260', 'clueweb12-1705wb-99-01262', 'clueweb12-1705wb-99-01272', 'clueweb12-1705wb-99-01280', 'clueweb12-1708wb-22-00648', 'clueweb12-1708wb-22-00676', 'clueweb12-1708wb-43-00729', 'clueweb12-1708wb-91-00140', 'clueweb12-1710wb-59-00787', 'clueweb12-1717wb-39-00682', 'clueweb12-0001wb-86-01200', 'clueweb12-0102wb-67-00690', 'clueweb12-0303wb-15-02087', 'clueweb12-0401wb-52-01968', 'clueweb12-0803wb-88-01313', 'clueweb12-0900tw-61-01299', 'clueweb12-0907wb-73-00343', 'clueweb12-0908wb-18-00527', 'clueweb12-1100wb-12-00528', 'clueweb12-1613wb-61-00869', 'clueweb12-1700tw-26-00555', 'clueweb12-1716wb-62-01583', 'clueweb12-1800tw-01-01522', 'clueweb12-1800tw-12-00475', 'clueweb12-1800tw-38-00720', 'clueweb12-1804wb-20-01630', 'clueweb12-0000tw-22-00571', 'clueweb12-0012wb-23-00436', 'clueweb12-0109wb-81-01000', 'clueweb12-0201wb-72-01740', 'clueweb12-0202wb-50-01005', 'clueweb12-0209wb-58-00006', 'clueweb12-0211wb-66-01708', 'clueweb12-0211wb-66-01709', 'clueweb12-0300tw-33-01415', 'clueweb12-0300tw-33-01420', 'clueweb12-0305wb-72-00615', 'clueweb12-0501wb-16-00724', 'clueweb12-0602wb-58-01430', 'clueweb12-0707wb-41-00907', 'clueweb12-0707wb-41-00910', 'clueweb12-0707wb-41-00912', 'clueweb12-0707wb-41-00914', 'clueweb12-0707wb-41-00916', 'clueweb12-0707wb-41-00919', 'clueweb12-0707wb-41-00921', 'clueweb12-0707wb-41-00923', 'clueweb12-0707wb-41-00928', 'clueweb12-0707wb-41-00929', 'clueweb12-0707wb-41-00932', 'clueweb12-0804wb-36-01065', 'clueweb12-0913wb-48-01483', 'clueweb12-1000tw-45-01678', 'clueweb12-1804wb-99-00712', 'clueweb12-1808wb-61-00505', 'clueweb12-0004wb-26-01569', 'clueweb12-0004wb-72-01016', 'clueweb12-0004wb-75-00395', 'clueweb12-0007wb-25-01610', 'clueweb12-0107wb-28-00060', 'clueweb12-0108wb-81-01402', 'clueweb12-0108wb-81-01407', 'clueweb12-0108wb-81-01414', 'clueweb12-0108wb-81-01428', 'clueweb12-0109wb-30-01559', 'clueweb12-0207wb-69-02231', 'clueweb12-0500tw-10-01134', 'clueweb12-0703wb-83-00664', 'clueweb12-1101wb-28-00269', 'clueweb12-1105wb-32-00068', 'clueweb12-1105wb-32-00070', 'clueweb12-1105wb-63-00999', 'clueweb12-1603wb-99-02014', 'clueweb12-1609wb-80-00836', 'clueweb12-1610wb-00-00837', 'clueweb12-1700tw-02-00378', 'clueweb12-1800tw-49-00770', 'clueweb12-0100tw-64-00167', 'clueweb12-0100wb-95-01906', 'clueweb12-0102wb-34-02197', 'clueweb12-0102wb-34-02201', 'clueweb12-0102wb-76-01988', 'clueweb12-0108wb-75-00921', 'clueweb12-0110wb-71-02006', 'clueweb12-0208wb-70-00009', 'clueweb12-0401wb-42-00045', 'clueweb12-0500tw-17-01316', 'clueweb12-0501wb-37-00033', 'clueweb12-0508wb-19-00328', 'clueweb12-0511wb-93-00681', 'clueweb12-0900tw-39-00602', 'clueweb12-1103wb-45-01034', 'clueweb12-1514wb-67-01574', 'clueweb12-1716wb-12-00612', 'clueweb12-1812wb-21-01891', 'clueweb12-0007wb-95-00601', 'clueweb12-0009wb-33-00709', 'clueweb12-0013wb-83-02045', 'clueweb12-0100wb-40-02406', 'clueweb12-0301tw-18-00506', 'clueweb12-0401wb-12-01162', 'clueweb12-0402wb-62-00829', 'clueweb12-0808wb-92-01815', 'clueweb12-0817wb-28-00882', 'clueweb12-1804wb-62-01680', 'clueweb12-0300wb-79-01718', 'clueweb12-0608wb-54-00222', 'clueweb12-0808wb-99-01109', 'clueweb12-0808wb-99-01110', 'clueweb12-1020wb-40-01548', 'clueweb12-1513wb-98-01944', 'clueweb12-1513wb-98-01945', 'clueweb12-1614wb-90-00235', 'clueweb12-1900wb-15-00407', 'clueweb12-0109wb-65-00910', 'clueweb12-0110wb-14-00909', 'clueweb12-0201wb-23-01936', 'clueweb12-0207wb-44-01394', 'clueweb12-0305wb-03-02086', 'clueweb12-0312wb-17-01863', 'clueweb12-0604wb-56-01164', 'clueweb12-0611wb-11-00513', 'clueweb12-0715wb-29-01020', 'clueweb12-0715wb-29-01021', 'clueweb12-0715wb-29-01022', 'clueweb12-0715wb-29-01023', 'clueweb12-0807wb-05-01497', 'clueweb12-1004wb-09-00940', 'clueweb12-1105wb-24-00626', 'clueweb12-1501wb-81-00228', 'clueweb12-1705wb-55-00149', 'clueweb12-0001wb-60-01163', 'clueweb12-0003wb-35-00332', 'clueweb12-0003wb-37-01652', 'clueweb12-0005wb-20-00939', 'clueweb12-0100wb-13-00518', 'clueweb12-0104wb-29-01768', 'clueweb12-0110wb-19-00801', 'clueweb12-0300wb-68-01916', 'clueweb12-0301wb-67-01245', 'clueweb12-0608wb-62-01092', 'clueweb12-0806wb-77-01067', 'clueweb12-0906wb-34-01227', 'clueweb12-0908wb-88-01582', 'clueweb12-0910wb-35-01834', 'clueweb12-0916wb-12-00556', 'clueweb12-1503wb-82-00383', 'clueweb12-1700wb-53-00026', 'clueweb12-1804wb-39-01737', 'clueweb12-0010wb-06-00447', 'clueweb12-0100wb-51-00346', 'clueweb12-0207wb-28-01148', 'clueweb12-0301wb-80-01637', 'clueweb12-0402wb-37-02292', 'clueweb12-0510wb-50-00920', 'clueweb12-0801wb-97-02139', 'clueweb12-0803wb-23-01341', 'clueweb12-0814wb-93-02707', 'clueweb12-1000tw-63-00787', 'clueweb12-1020wb-55-01143', 'clueweb12-1101wb-26-00898', 'clueweb12-1701wb-31-01387', 'clueweb12-1701wb-74-01328', 'clueweb12-1714wb-87-00706', 'clueweb12-1809wb-34-00092', 'clueweb12-1809wb-95-00660', 'clueweb12-1809wb-95-00661', 'clueweb12-0010wb-33-00503', 'clueweb12-0010wb-55-02239', 'clueweb12-0013wb-20-02187', 'clueweb12-0100wb-28-00798', 'clueweb12-0205wb-39-01760', 'clueweb12-0206wb-93-00264', 'clueweb12-0211wb-68-00895', 'clueweb12-0305wb-54-01986', 'clueweb12-0305wb-54-01987', 'clueweb12-0305wb-54-01988', 'clueweb12-0904wb-37-00581', 'clueweb12-0906wb-64-00580', 'clueweb12-1007wb-38-02415', 'clueweb12-1102wb-44-00087', 'clueweb12-1802wb-14-00847', 'clueweb12-0005wb-43-00937', 'clueweb12-0007wb-66-00073', 'clueweb12-0107wb-34-00839', 'clueweb12-0111wb-50-01796', 'clueweb12-0208wb-90-01179', 'clueweb12-0706wb-05-00394', 'clueweb12-1514wb-58-00051', 'clueweb12-1514wb-58-00057', 'clueweb12-0004wb-13-01710', 'clueweb12-0010wb-02-02542', 'clueweb12-0100wb-22-00265', 'clueweb12-0100wb-22-00279', 'clueweb12-0311wb-78-00418', 'clueweb12-0311wb-78-00436', 'clueweb12-0311wb-91-01524', 'clueweb12-0401wb-12-00083', 'clueweb12-0401wb-12-00111', 'clueweb12-0401wb-12-00278', 'clueweb12-0812wb-79-00123', 'clueweb12-1800wb-02-00332', 'clueweb12-1800wb-02-00333', 'clueweb12-0010wb-59-01443', 'clueweb12-0010wb-59-01452', 'clueweb12-0306wb-89-00333', 'clueweb12-0308wb-12-00007', 'clueweb12-0404wb-76-01364', 'clueweb12-1503wb-84-01749', 'clueweb12-1503wb-84-01751', 'clueweb12-1503wb-84-01754', 'clueweb12-1504wb-33-01478', 'clueweb12-0300tw-38-01117', 'clueweb12-0500tw-11-00201', 'clueweb12-1500tw-87-00084', 'clueweb12-1500tw-87-00085', 'clueweb12-1800tw-29-00173', 'clueweb12-1804wb-07-00681', 'clueweb12-0000wb-65-02363', 'clueweb12-0000wb-66-01364', 'clueweb12-0001wb-60-01032', 'clueweb12-0112wb-49-00636', 'clueweb12-0710wb-23-00554', 'clueweb12-0710wb-23-00556', 'clueweb12-0819wb-07-00324', 'clueweb12-0819wb-07-00325', 'clueweb12-1015wb-24-00451', 'clueweb12-1603wb-83-01351', 'clueweb12-1604wb-97-00333', 'clueweb12-1612wb-41-00271', 'clueweb12-0002wb-90-01356', 'clueweb12-0009wb-05-01216', 'clueweb12-0010wb-41-00559', 'clueweb12-0101wb-61-01697', 'clueweb12-0200wb-31-02313', 'clueweb12-0208wb-23-00045', 'clueweb12-0210wb-10-01754', 'clueweb12-0309wb-82-00713', 'clueweb12-0500tw-12-01206', 'clueweb12-0500tw-12-01207', 'clueweb12-0612wb-77-00302', 'clueweb12-0612wb-77-00304', 'clueweb12-0902wb-66-01248', 'clueweb12-0913wb-44-00288', 'clueweb12-0915wb-07-00006', 'clueweb12-1000tw-86-00385', 'clueweb12-1509wb-27-00898', 'clueweb12-1509wb-27-00899', 'clueweb12-1509wb-27-00900', 'clueweb12-1509wb-27-00901', 'clueweb12-1705wb-07-00162', 'clueweb12-1806wb-86-00079', 'clueweb12-0012wb-93-02071', 'clueweb12-0013wb-61-00611', 'clueweb12-0109wb-00-02132', 'clueweb12-0109wb-00-02133', 'clueweb12-0109wb-28-00540', 'clueweb12-0109wb-28-00543', 'clueweb12-0109wb-28-00544', 'clueweb12-0109wb-37-01196', 'clueweb12-0109wb-37-01197', 'clueweb12-0109wb-37-01198', 'clueweb12-0112wb-24-01422', 'clueweb12-0112wb-50-01793', 'clueweb12-0201wb-27-01335', 'clueweb12-0201wb-27-01338', 'clueweb12-0301tw-18-00031', 'clueweb12-0600tw-05-00178', 'clueweb12-0602wb-38-00021', 'clueweb12-0813wb-86-01044', 'clueweb12-0905wb-99-00219', 'clueweb12-0906wb-62-01194', 'clueweb12-1003wb-14-00882', 'clueweb12-1600tw-15-01440', 'clueweb12-1600tw-19-01271', 'clueweb12-1610wb-22-01515', 'clueweb12-1807wb-10-00093', 'clueweb12-1812wb-70-00052', 'clueweb12-1814wb-26-01619', 'clueweb12-0000wb-43-00491', 'clueweb12-0012wb-83-00728', 'clueweb12-0100tw-64-01071', 'clueweb12-0108wb-10-01432', 'clueweb12-0201wb-95-02110', 'clueweb12-0209wb-72-01409', 'clueweb12-0500wb-31-00800', 'clueweb12-0506wb-65-00004', 'clueweb12-0700tw-08-00812', 'clueweb12-0805wb-52-01527', 'clueweb12-1505wb-78-00171', 'clueweb12-1505wb-78-00172', 'clueweb12-1505wb-78-00176', 'clueweb12-1505wb-78-00177', 'clueweb12-1612wb-89-01505', 'clueweb12-1712wb-47-01080', 'clueweb12-1800tw-37-00184', 'clueweb12-1810wb-57-01298', 'clueweb12-1811wb-66-00168', 'clueweb12-1900wb-90-00090', 'clueweb12-0012wb-86-01644', 'clueweb12-0106wb-06-01619', 'clueweb12-0307wb-10-02008', 'clueweb12-0309wb-30-01709', 'clueweb12-0405wb-21-02442', 'clueweb12-0609wb-30-01123', 'clueweb12-0711wb-33-00347', 'clueweb12-0712wb-57-01196', 'clueweb12-1506wb-79-00761', 'clueweb12-0013wb-55-00951', 'clueweb12-0102wb-47-01161', 'clueweb12-0211wb-83-02003', 'clueweb12-0300wb-82-01039', 'clueweb12-0403wb-43-01205', 'clueweb12-0608wb-96-00213', 'clueweb12-0914wb-68-01319', 'clueweb12-1010wb-87-00785', 'clueweb12-1012wb-69-02040', 'clueweb12-1102wb-57-02019', 'clueweb12-1900tw-47-00024', 'clueweb12-0005wb-34-01777', 'clueweb12-0006wb-03-01313', 'clueweb12-0010wb-73-01608', 'clueweb12-0012wb-45-00444', 'clueweb12-0012wb-45-00445', 'clueweb12-0012wb-45-00461', 'clueweb12-0101wb-65-00036', 'clueweb12-0203wb-02-01619', 'clueweb12-0208wb-16-01705', 'clueweb12-0311wb-38-00889', 'clueweb12-0311wb-68-02394', 'clueweb12-0004wb-36-00563', 'clueweb12-0005wb-98-01057', 'clueweb12-0209wb-66-01685', 'clueweb12-0306wb-98-00412', 'clueweb12-0915wb-45-00566', 'clueweb12-0919wb-56-00691', 'clueweb12-0010wb-28-01957', 'clueweb12-0010wb-28-01958', 'clueweb12-0303wb-28-00833', 'clueweb12-0311wb-22-00238', 'clueweb12-0311wb-22-00239', 'clueweb12-0311wb-22-00240', 'clueweb12-0311wb-22-00241', 'clueweb12-0811wb-58-00484', 'clueweb12-1602wb-65-00367', 'clueweb12-1602wb-65-00369', 'clueweb12-1602wb-65-00372', 'clueweb12-1602wb-65-00374', 'clueweb12-1602wb-65-00379', 'clueweb12-1802wb-53-00038', 'clueweb12-1804wb-41-00452', 'clueweb12-1804wb-41-00453', 'clueweb12-1804wb-41-00464', 'clueweb12-1805wb-71-00127', 'clueweb12-1813wb-43-00105', 'clueweb12-1813wb-91-00934', 'clueweb12-0000wb-01-02612', 'clueweb12-0000wb-14-00418', 'clueweb12-0004wb-80-00340', 'clueweb12-0004wb-92-00251', 'clueweb12-0007wb-81-02356', 'clueweb12-0010wb-87-00254', 'clueweb12-0013wb-62-02411', 'clueweb12-0107wb-20-00625', 'clueweb12-0300tw-91-01065', 'clueweb12-0312wb-09-00637', 'clueweb12-0401wb-88-00330', 'clueweb12-0700tw-32-01307', 'clueweb12-0713wb-33-00996', 'clueweb12-0713wb-56-01080', 'clueweb12-0717wb-47-02121', 'clueweb12-0800wb-07-00809', 'clueweb12-0914wb-12-01617', 'clueweb12-1012wb-52-01066', 'clueweb12-1017wb-36-01166', 'clueweb12-1507wb-42-00847', 'clueweb12-1612wb-28-00555', 'clueweb12-1807wb-82-00027', 'clueweb12-1810wb-58-00432', 'clueweb12-1902wb-16-01249', 'clueweb12-0000wb-31-00031', 'clueweb12-0000wb-31-00042', 'clueweb12-0010wb-74-01177', 'clueweb12-0011wb-03-00203', 'clueweb12-0013wb-16-02060', 'clueweb12-0108wb-29-02239', 'clueweb12-0111wb-45-01887', 'clueweb12-0200wb-91-01279', 'clueweb12-0301wb-11-01450', 'clueweb12-0906wb-87-00684', 'clueweb12-1603wb-10-00922', 'clueweb12-1712wb-14-00583', 'clueweb12-1714wb-30-00340', 'clueweb12-0204wb-80-02067', 'clueweb12-0302wb-77-00066', 'clueweb12-0304wb-07-01604', 'clueweb12-0709wb-98-00766', 'clueweb12-0817wb-11-00181', 'clueweb12-1000tw-12-01215', 'clueweb12-1106wb-76-01468', 'clueweb12-1706wb-90-01492', 'clueweb12-1707wb-08-00921', 'clueweb12-1710wb-97-00715', 'clueweb12-0000wb-22-00223', 'clueweb12-0008wb-25-00083', 'clueweb12-0112wb-58-02141', 'clueweb12-0204wb-34-01904', 'clueweb12-0300wb-63-02268', 'clueweb12-0301wb-17-02045', 'clueweb12-0302wb-13-01977', 'clueweb12-0302wb-45-00261', 'clueweb12-0302wb-45-00284', 'clueweb12-0302wb-45-00286', 'clueweb12-0302wb-45-00287', 'clueweb12-0401wb-24-00005', 'clueweb12-0402wb-17-00794', 'clueweb12-0402wb-17-00795', 'clueweb12-0402wb-17-00798', 'clueweb12-0402wb-17-00799', 'clueweb12-0402wb-17-00800', 'clueweb12-0402wb-17-00801', 'clueweb12-0402wb-17-00802', 'clueweb12-0402wb-17-00804', 'clueweb12-0402wb-17-00806', 'clueweb12-0402wb-17-00813', 'clueweb12-0402wb-24-02466', 'clueweb12-0714wb-46-01621', 'clueweb12-0715wb-43-01784', 'clueweb12-0909wb-94-00857', 'clueweb12-0915wb-29-00743', 'clueweb12-0919wb-95-00742', 'clueweb12-1000wb-42-00043', 'clueweb12-1700tw-41-00936', 'clueweb12-1715wb-65-00321', 'clueweb12-0111wb-48-00168', 'clueweb12-0713wb-31-01492', 'clueweb12-0800wb-39-00081', 'clueweb12-0809wb-92-00920', 'clueweb12-0810wb-68-01158', 'clueweb12-1018wb-79-01214', 'clueweb12-1020wb-45-00090', 'clueweb12-1020wb-45-00091', 'clueweb12-1800wb-36-02072', 'clueweb12-0010wb-02-01425', 'clueweb12-0012wb-53-00147', 'clueweb12-0811wb-23-01560', 'clueweb12-1503wb-60-00808', 'clueweb12-1510wb-63-00022', 'clueweb12-1805wb-42-01937', 'clueweb12-0012wb-01-00892', 'clueweb12-0205wb-52-01308', 'clueweb12-0210wb-22-00204', 'clueweb12-0303wb-97-00793', 'clueweb12-0609wb-24-01197', 'clueweb12-0802wb-01-00564', 'clueweb12-0900wb-97-01202', 'clueweb12-1007wb-77-00421', 'clueweb12-1008wb-58-01875', 'clueweb12-1504wb-63-00624', 'clueweb12-0000tw-28-00167', 'clueweb12-0000wb-14-00860', 'clueweb12-0012wb-57-01735', 'clueweb12-0103wb-88-00481', 'clueweb12-0103wb-88-00482', 'clueweb12-0104wb-84-01031', 'clueweb12-0209wb-01-01035', 'clueweb12-0310wb-30-01116', 'clueweb12-0311wb-02-01014', 'clueweb12-0605wb-41-00688', 'clueweb12-0706wb-56-00082', 'clueweb12-0711wb-01-00817', 'clueweb12-1016wb-06-00057', 'clueweb12-1606wb-29-00066', 'clueweb12-1900wb-94-02456', 'clueweb12-0002wb-73-00163', 'clueweb12-0008wb-14-02366', 'clueweb12-0009wb-13-01333', 'clueweb12-0100tw-54-00871', 'clueweb12-0204wb-44-00051', 'clueweb12-0204wb-50-01864', 'clueweb12-0300wb-30-02083', 'clueweb12-0402wb-88-00856', 'clueweb12-0703wb-18-01234', 'clueweb12-0703wb-18-01235', 'clueweb12-0913wb-44-00185', 'clueweb12-1807wb-28-01116', 'clueweb12-0004wb-15-02220', 'clueweb12-0207wb-40-01028', 'clueweb12-0211wb-05-01027', 'clueweb12-0303wb-70-01957', 'clueweb12-0810wb-68-00357', 'clueweb12-0908wb-54-00349', 'clueweb12-0908wb-54-00350', 'clueweb12-1014wb-61-01410', 'clueweb12-1512wb-07-01371', 'clueweb12-1516wb-32-00518', 'clueweb12-1806wb-31-00510', 'clueweb12-1902wb-37-01755', 'clueweb12-0100wb-63-01174', 'clueweb12-0101wb-17-01959', 'clueweb12-0105wb-54-01196', 'clueweb12-1006wb-61-00337', 'clueweb12-1600wb-08-00979']\n"
     ]
    },
    {
     "name": "stderr",
     "output_type": "stream",
     "text": [
      "\n"
     ]
    }
   ],
   "source": [
    "exists = []\n",
    "for doc in tqdm(qrels['DocumentId'].unique()):\n",
    "    search_url = f'http://gustav1.ux.uis.no:5002/clueweb12b/{doc}/_exists'\n",
    "    response = requests.get(search_url)\n",
    "\n",
    "    if response.status_code != 200:\n",
    "        raise ValueError('Index did not respond')\n",
    "    else:  \n",
    "        response = json.loads(response.text)\n",
    "        if response['exists'] == True:\n",
    "            exists.append(doc)\n",
    "            \n",
    "print(f'{len(exists)} documents from qrels.csv are in the index')\n",
    "print(exists)"
   ]
  },
  {
   "cell_type": "code",
   "execution_count": 11,
   "metadata": {},
   "outputs": [
    {
     "data": {
      "text/plain": [
       "14336"
      ]
     },
     "execution_count": 11,
     "metadata": {},
     "output_type": "execute_result"
    }
   ],
   "source": [
    "qrels['DocumentId'].nunique()"
   ]
  }
 ],
 "metadata": {
  "kernelspec": {
   "display_name": "Python 3",
   "language": "python",
   "name": "python3"
  },
  "language_info": {
   "codemirror_mode": {
    "name": "ipython",
    "version": 3
   },
   "file_extension": ".py",
   "mimetype": "text/x-python",
   "name": "python",
   "nbconvert_exporter": "python",
   "pygments_lexer": "ipython3",
   "version": "3.6.8"
  }
 },
 "nbformat": 4,
 "nbformat_minor": 2
}

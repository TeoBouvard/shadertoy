{
 "cells": [
  {
   "cell_type": "markdown",
   "metadata": {},
   "source": [
    "# Assignment 2B: Evalution\n",
    "\n",
    "This notebook contains the skeleton for evaluating a document ranking against the ground truth."
   ]
  },
  {
   "cell_type": "markdown",
   "metadata": {},
   "source": [
    "## Loading ranking file and relevance judgments\n",
    "\n",
    "The file format is [specified in the assignment](https://github.com/kbalog/uis-dat640-fall2019/tree/master/assignments/assignment-2b#output-file-format)."
   ]
  },
  {
   "cell_type": "code",
   "execution_count": 112,
   "metadata": {},
   "outputs": [],
   "source": [
    "import pandas as pd\n",
    "import math"
   ]
  },
  {
   "cell_type": "markdown",
   "metadata": {},
   "source": [
    "## Computing NDCG scores"
   ]
  },
  {
   "cell_type": "code",
   "execution_count": 115,
   "metadata": {},
   "outputs": [],
   "source": [
    "def dcg(gains, k):\n",
    "    dcg = gains[0]\n",
    "    for i in range(1, min(k, len(gains))): \n",
    "        dcg += gains[i] / math.log2(i+1)\n",
    "    return dcg\n",
    "\n",
    "# note : k has to be less than the number of documents ranked\n",
    "def ndcg_score(ranking, qrels, k=20):\n",
    "    sum_ndcg = 0\n",
    "\n",
    "    for query in ranking.index.unique():\n",
    "        ground_truth = qrels.loc[query]\n",
    "\n",
    "        gains = []\n",
    "        for doc_id in ranking.loc[query]['DocumentId'].values:\n",
    "            gain = ground_truth[ground_truth['DocumentId'] == doc_id]['Relevance']\n",
    "            gains.append(0 if gain.empty else int(gain))\n",
    "\n",
    "        ideal_gain = sorted(ground_truth['Relevance'], reverse=True)\n",
    "\n",
    "        ndcg = dcg(gains, k) / dcg(ideal_gain, k)\n",
    "        sum_ndcg += ndcg\n",
    "    \n",
    "    average_ndcg = sum_ndcg/ranking.index.nunique()\n",
    "    print(f'Average NDCG@{k}: {average_ndcg:.4f}')\n",
    "    return average_ndcg"
   ]
  },
  {
   "cell_type": "code",
   "execution_count": 130,
   "metadata": {},
   "outputs": [
    {
     "name": "stdout",
     "output_type": "stream",
     "text": [
      "Average NDCG@10: 0.0243\n"
     ]
    },
    {
     "data": {
      "text/plain": [
       "0.024266041396708345"
      ]
     },
     "execution_count": 130,
     "metadata": {},
     "output_type": "execute_result"
    }
   ],
   "source": [
    "qrels = pd.read_csv('data/qrels.csv', index_col='QueryId')\n",
    "ranking = pd.read_csv('data/ranking_kaggle.csv', index_col='QueryId')\n",
    "\n",
    "ndcg_score(ranking, qrels, k=10)"
   ]
  }
 ],
 "metadata": {
  "kernelspec": {
   "display_name": "Python 3",
   "language": "python",
   "name": "python3"
  },
  "language_info": {
   "codemirror_mode": {
    "name": "ipython",
    "version": 3
   },
   "file_extension": ".py",
   "mimetype": "text/x-python",
   "name": "python",
   "nbconvert_exporter": "python",
   "pygments_lexer": "ipython3",
   "version": "3.6.8"
  }
 },
 "nbformat": 4,
 "nbformat_minor": 2
}

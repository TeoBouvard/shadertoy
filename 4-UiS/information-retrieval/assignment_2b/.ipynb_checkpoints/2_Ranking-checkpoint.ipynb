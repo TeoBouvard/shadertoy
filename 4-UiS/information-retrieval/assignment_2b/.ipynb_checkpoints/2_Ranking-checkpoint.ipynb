{
 "cells": [
  {
   "cell_type": "markdown",
   "metadata": {},
   "source": [
    "# Assignment 2B: Ranking\n",
    "\n",
    "This notebook contains the skeleton for training a model and then applying it to produce a document ranking."
   ]
  },
  {
   "cell_type": "markdown",
   "metadata": {},
   "source": [
    "## Loading the precomputed features\n",
    "\n",
    "The code below loads the precomputed features and combines them into feature vectors for query-document pairs.\n",
    "\n",
    "For this part to work, you'll need to run the `1_Feature_computation` notebook first to generate the sample features JSON files."
   ]
  },
  {
   "cell_type": "code",
   "execution_count": 1,
   "metadata": {},
   "outputs": [
    {
     "data": {
      "text/html": [
       "<style>.container { width:100% !important; }</style>"
      ],
      "text/plain": [
       "<IPython.core.display.HTML object>"
      ]
     },
     "metadata": {},
     "output_type": "display_data"
    }
   ],
   "source": [
    "import json\n",
    "import pandas as pd\n",
    "pd.options.mode.chained_assignment = None\n",
    "from pprint import pprint\n",
    "\n",
    "from IPython.core.display import display, HTML\n",
    "display(HTML(\"<style>.container { width:100% !important; }</style>\"))"
   ]
  },
  {
   "cell_type": "code",
   "execution_count": 2,
   "metadata": {},
   "outputs": [],
   "source": [
    "def load_features(features_to_load):\n",
    "    feature_list = []\n",
    "    \n",
    "    for feature in features_to_load:\n",
    "        print(f'Loading features from {feature[\"file\"]}')\n",
    "        with open(feature['file']) as f:\n",
    "              index = ['QueryId', 'DocumentId']\n",
    "              new_feature = pd.read_csv(f, index_col=index)[feature['select']]\n",
    "              feature_list.append(new_feature)\n",
    "\n",
    "    features = pd.concat(feature_list, axis='columns')\n",
    "    return features"
   ]
  },
  {
   "cell_type": "code",
   "execution_count": 3,
   "metadata": {},
   "outputs": [],
   "source": [
    "def load_qrels(path):\n",
    "    with open(path) as f:\n",
    "        qrels = pd.read_csv(f, index_col=['QueryId', 'DocumentId'])\n",
    "    return qrels"
   ]
  },
  {
   "cell_type": "code",
   "execution_count": 4,
   "metadata": {},
   "outputs": [],
   "source": [
    "def normalize_dataframe(df):\n",
    "    return (df - df.min()) / (df.max() - df.min())"
   ]
  },
  {
   "cell_type": "code",
   "execution_count": 5,
   "metadata": {},
   "outputs": [
    {
     "name": "stdout",
     "output_type": "stream",
     "text": [
      "Loading features from data/train_features_pagerank.csv\n",
      "Loading features from data/train_features_field_length.csv\n",
      "Loading features from data/test_features_pagerank.csv\n",
      "Loading features from data/test_features_field_length.csv\n"
     ]
    }
   ],
   "source": [
    "# Specify the features to be loaded from each file\n",
    "train_features = [\n",
    "    {\n",
    "        'file': 'data/train_features_pagerank.csv',\n",
    "        'select': ['pagerank_score']\n",
    "    },\n",
    "    {\n",
    "        'file': 'data/train_features_field_length.csv',\n",
    "        'select': ['content_length', 'title_length', 'anchors_length']\n",
    "    },\n",
    "    #{\n",
    "    #    'file': 'data/features_bm25.csv',\n",
    "    #    'select': ['bm25_title', 'bm25_content']\n",
    "    #}\n",
    "]\n",
    "\n",
    "test_features = [\n",
    "    {\n",
    "        'file': 'data/test_features_pagerank.csv',\n",
    "        'select': ['pagerank_score']\n",
    "    },\n",
    "    {\n",
    "        'file': 'data/test_features_field_length.csv',\n",
    "        'select': ['content_length', 'title_length', 'anchors_length']\n",
    "    },\n",
    "    #{\n",
    "    #    'file': 'data/features_bm25.csv',\n",
    "    #    'select': ['bm25_title', 'bm25_content']\n",
    "    #}\n",
    "]\n",
    "\n",
    "\n",
    "train_features = load_features(train_features)\n",
    "feature_list = list(train_features.columns)\n",
    "\n",
    "test_features = load_features(test_features)\n",
    "assert feature_list == list(test_features.columns)"
   ]
  },
  {
   "cell_type": "code",
   "execution_count": 6,
   "metadata": {
    "scrolled": false
   },
   "outputs": [],
   "source": [
    "#print(feature_list)\n",
    "#vector = features.join(qrels, how='left')\n",
    "\n",
    "qrels = load_qrels('data/qrels.csv')\n",
    "train_data = normalize_dataframe(train_features)\n",
    "train_data = train_data.join(qrels, how='left')\n",
    "\n",
    "# documents in the index but not in the qrels have a relevance of zero\n",
    "train_data.fillna(0.0, inplace=True)\n",
    "\n",
    "test_data = normalize_dataframe(test_features)"
   ]
  },
  {
   "cell_type": "code",
   "execution_count": 7,
   "metadata": {},
   "outputs": [
    {
     "data": {
      "text/html": [
       "<div>\n",
       "<style scoped>\n",
       "    .dataframe tbody tr th:only-of-type {\n",
       "        vertical-align: middle;\n",
       "    }\n",
       "\n",
       "    .dataframe tbody tr th {\n",
       "        vertical-align: top;\n",
       "    }\n",
       "\n",
       "    .dataframe thead th {\n",
       "        text-align: right;\n",
       "    }\n",
       "</style>\n",
       "<table border=\"1\" class=\"dataframe\">\n",
       "  <thead>\n",
       "    <tr style=\"text-align: right;\">\n",
       "      <th></th>\n",
       "      <th></th>\n",
       "      <th>pagerank_score</th>\n",
       "      <th>content_length</th>\n",
       "      <th>title_length</th>\n",
       "      <th>anchors_length</th>\n",
       "    </tr>\n",
       "    <tr>\n",
       "      <th>QueryId</th>\n",
       "      <th>DocumentId</th>\n",
       "      <th></th>\n",
       "      <th></th>\n",
       "      <th></th>\n",
       "      <th></th>\n",
       "    </tr>\n",
       "  </thead>\n",
       "  <tbody>\n",
       "    <tr>\n",
       "      <td rowspan=\"5\" valign=\"top\">240</td>\n",
       "      <td>clueweb12-1714wb-62-05205</td>\n",
       "      <td>0.002519</td>\n",
       "      <td>0.034397</td>\n",
       "      <td>0.115385</td>\n",
       "      <td>0.000000</td>\n",
       "    </tr>\n",
       "    <tr>\n",
       "      <td>clueweb12-1910wb-56-32265</td>\n",
       "      <td>0.000000</td>\n",
       "      <td>0.023207</td>\n",
       "      <td>0.134615</td>\n",
       "      <td>0.001178</td>\n",
       "    </tr>\n",
       "    <tr>\n",
       "      <td>clueweb12-0012wb-03-18567</td>\n",
       "      <td>0.003036</td>\n",
       "      <td>0.039390</td>\n",
       "      <td>0.057692</td>\n",
       "      <td>0.017577</td>\n",
       "    </tr>\n",
       "    <tr>\n",
       "      <td>clueweb12-0003wb-42-21171</td>\n",
       "      <td>0.000000</td>\n",
       "      <td>0.038426</td>\n",
       "      <td>0.096154</td>\n",
       "      <td>0.000491</td>\n",
       "    </tr>\n",
       "    <tr>\n",
       "      <td>clueweb12-0501wb-41-12471</td>\n",
       "      <td>0.000082</td>\n",
       "      <td>0.011397</td>\n",
       "      <td>0.115385</td>\n",
       "      <td>0.006186</td>\n",
       "    </tr>\n",
       "    <tr>\n",
       "      <td>...</td>\n",
       "      <td>...</td>\n",
       "      <td>...</td>\n",
       "      <td>...</td>\n",
       "      <td>...</td>\n",
       "      <td>...</td>\n",
       "    </tr>\n",
       "    <tr>\n",
       "      <td rowspan=\"5\" valign=\"top\">250</td>\n",
       "      <td>clueweb12-1208wb-74-36611</td>\n",
       "      <td>0.002356</td>\n",
       "      <td>0.081534</td>\n",
       "      <td>0.096154</td>\n",
       "      <td>0.185202</td>\n",
       "    </tr>\n",
       "    <tr>\n",
       "      <td>clueweb12-0612wb-80-21169</td>\n",
       "      <td>0.002519</td>\n",
       "      <td>0.054471</td>\n",
       "      <td>0.115385</td>\n",
       "      <td>0.000736</td>\n",
       "    </tr>\n",
       "    <tr>\n",
       "      <td>clueweb12-0412wb-17-24226</td>\n",
       "      <td>0.002163</td>\n",
       "      <td>0.027373</td>\n",
       "      <td>0.076923</td>\n",
       "      <td>0.009967</td>\n",
       "    </tr>\n",
       "    <tr>\n",
       "      <td>clueweb12-1809wb-76-08314</td>\n",
       "      <td>0.002592</td>\n",
       "      <td>0.082498</td>\n",
       "      <td>0.134615</td>\n",
       "      <td>0.000000</td>\n",
       "    </tr>\n",
       "    <tr>\n",
       "      <td>clueweb12-1809wb-34-05097</td>\n",
       "      <td>0.002592</td>\n",
       "      <td>0.082705</td>\n",
       "      <td>0.173077</td>\n",
       "      <td>0.000000</td>\n",
       "    </tr>\n",
       "  </tbody>\n",
       "</table>\n",
       "<p>1100 rows × 4 columns</p>\n",
       "</div>"
      ],
      "text/plain": [
       "                                   pagerank_score  content_length  \\\n",
       "QueryId DocumentId                                                  \n",
       "240     clueweb12-1714wb-62-05205        0.002519        0.034397   \n",
       "        clueweb12-1910wb-56-32265        0.000000        0.023207   \n",
       "        clueweb12-0012wb-03-18567        0.003036        0.039390   \n",
       "        clueweb12-0003wb-42-21171        0.000000        0.038426   \n",
       "        clueweb12-0501wb-41-12471        0.000082        0.011397   \n",
       "...                                           ...             ...   \n",
       "250     clueweb12-1208wb-74-36611        0.002356        0.081534   \n",
       "        clueweb12-0612wb-80-21169        0.002519        0.054471   \n",
       "        clueweb12-0412wb-17-24226        0.002163        0.027373   \n",
       "        clueweb12-1809wb-76-08314        0.002592        0.082498   \n",
       "        clueweb12-1809wb-34-05097        0.002592        0.082705   \n",
       "\n",
       "                                   title_length  anchors_length  \n",
       "QueryId DocumentId                                               \n",
       "240     clueweb12-1714wb-62-05205      0.115385        0.000000  \n",
       "        clueweb12-1910wb-56-32265      0.134615        0.001178  \n",
       "        clueweb12-0012wb-03-18567      0.057692        0.017577  \n",
       "        clueweb12-0003wb-42-21171      0.096154        0.000491  \n",
       "        clueweb12-0501wb-41-12471      0.115385        0.006186  \n",
       "...                                         ...             ...  \n",
       "250     clueweb12-1208wb-74-36611      0.096154        0.185202  \n",
       "        clueweb12-0612wb-80-21169      0.115385        0.000736  \n",
       "        clueweb12-0412wb-17-24226      0.076923        0.009967  \n",
       "        clueweb12-1809wb-76-08314      0.134615        0.000000  \n",
       "        clueweb12-1809wb-34-05097      0.173077        0.000000  \n",
       "\n",
       "[1100 rows x 4 columns]"
      ]
     },
     "execution_count": 7,
     "metadata": {},
     "output_type": "execute_result"
    }
   ],
   "source": [
    "test_data"
   ]
  },
  {
   "cell_type": "code",
   "execution_count": 8,
   "metadata": {},
   "outputs": [
    {
     "data": {
      "text/html": [
       "<div>\n",
       "<style scoped>\n",
       "    .dataframe tbody tr th:only-of-type {\n",
       "        vertical-align: middle;\n",
       "    }\n",
       "\n",
       "    .dataframe tbody tr th {\n",
       "        vertical-align: top;\n",
       "    }\n",
       "\n",
       "    .dataframe thead th {\n",
       "        text-align: right;\n",
       "    }\n",
       "</style>\n",
       "<table border=\"1\" class=\"dataframe\">\n",
       "  <thead>\n",
       "    <tr style=\"text-align: right;\">\n",
       "      <th></th>\n",
       "      <th></th>\n",
       "      <th>pagerank_score</th>\n",
       "      <th>content_length</th>\n",
       "      <th>title_length</th>\n",
       "      <th>anchors_length</th>\n",
       "      <th>Relevance</th>\n",
       "    </tr>\n",
       "    <tr>\n",
       "      <th>QueryId</th>\n",
       "      <th>DocumentId</th>\n",
       "      <th></th>\n",
       "      <th></th>\n",
       "      <th></th>\n",
       "      <th></th>\n",
       "      <th></th>\n",
       "    </tr>\n",
       "  </thead>\n",
       "  <tbody>\n",
       "    <tr>\n",
       "      <td rowspan=\"5\" valign=\"top\">201</td>\n",
       "      <td>clueweb12-1700tw-22-12689</td>\n",
       "      <td>0.000000</td>\n",
       "      <td>0.016158</td>\n",
       "      <td>0.050847</td>\n",
       "      <td>0.000000</td>\n",
       "      <td>0.0</td>\n",
       "    </tr>\n",
       "    <tr>\n",
       "      <td>clueweb12-0915wb-34-01721</td>\n",
       "      <td>0.000000</td>\n",
       "      <td>0.011953</td>\n",
       "      <td>0.076271</td>\n",
       "      <td>0.000512</td>\n",
       "      <td>0.0</td>\n",
       "    </tr>\n",
       "    <tr>\n",
       "      <td>clueweb12-0713wb-35-13648</td>\n",
       "      <td>0.018176</td>\n",
       "      <td>0.028308</td>\n",
       "      <td>0.025424</td>\n",
       "      <td>0.022801</td>\n",
       "      <td>1.0</td>\n",
       "    </tr>\n",
       "    <tr>\n",
       "      <td>clueweb12-0900wb-98-24673</td>\n",
       "      <td>0.000000</td>\n",
       "      <td>0.007390</td>\n",
       "      <td>0.042373</td>\n",
       "      <td>0.000000</td>\n",
       "      <td>0.0</td>\n",
       "    </tr>\n",
       "    <tr>\n",
       "      <td>clueweb12-0909wb-96-26247</td>\n",
       "      <td>0.001158</td>\n",
       "      <td>0.014655</td>\n",
       "      <td>0.050847</td>\n",
       "      <td>0.000470</td>\n",
       "      <td>0.0</td>\n",
       "    </tr>\n",
       "    <tr>\n",
       "      <td>...</td>\n",
       "      <td>...</td>\n",
       "      <td>...</td>\n",
       "      <td>...</td>\n",
       "      <td>...</td>\n",
       "      <td>...</td>\n",
       "      <td>...</td>\n",
       "    </tr>\n",
       "    <tr>\n",
       "      <td rowspan=\"5\" valign=\"top\">239</td>\n",
       "      <td>clueweb12-1111wb-58-09080</td>\n",
       "      <td>0.000173</td>\n",
       "      <td>0.014637</td>\n",
       "      <td>0.059322</td>\n",
       "      <td>0.002220</td>\n",
       "      <td>0.0</td>\n",
       "    </tr>\n",
       "    <tr>\n",
       "      <td>clueweb12-1507wb-91-37258</td>\n",
       "      <td>0.000000</td>\n",
       "      <td>0.007104</td>\n",
       "      <td>0.025424</td>\n",
       "      <td>0.000128</td>\n",
       "      <td>0.0</td>\n",
       "    </tr>\n",
       "    <tr>\n",
       "      <td>clueweb12-1504wb-88-20525</td>\n",
       "      <td>0.017532</td>\n",
       "      <td>0.007480</td>\n",
       "      <td>0.008475</td>\n",
       "      <td>0.032365</td>\n",
       "      <td>0.0</td>\n",
       "    </tr>\n",
       "    <tr>\n",
       "      <td>clueweb12-1506wb-78-03624</td>\n",
       "      <td>0.000000</td>\n",
       "      <td>0.007140</td>\n",
       "      <td>0.033898</td>\n",
       "      <td>0.000171</td>\n",
       "      <td>0.0</td>\n",
       "    </tr>\n",
       "    <tr>\n",
       "      <td>clueweb12-1504wb-93-09140</td>\n",
       "      <td>0.017413</td>\n",
       "      <td>0.007855</td>\n",
       "      <td>0.008475</td>\n",
       "      <td>0.032365</td>\n",
       "      <td>0.0</td>\n",
       "    </tr>\n",
       "  </tbody>\n",
       "</table>\n",
       "<p>3900 rows × 5 columns</p>\n",
       "</div>"
      ],
      "text/plain": [
       "                                   pagerank_score  content_length  \\\n",
       "QueryId DocumentId                                                  \n",
       "201     clueweb12-1700tw-22-12689        0.000000        0.016158   \n",
       "        clueweb12-0915wb-34-01721        0.000000        0.011953   \n",
       "        clueweb12-0713wb-35-13648        0.018176        0.028308   \n",
       "        clueweb12-0900wb-98-24673        0.000000        0.007390   \n",
       "        clueweb12-0909wb-96-26247        0.001158        0.014655   \n",
       "...                                           ...             ...   \n",
       "239     clueweb12-1111wb-58-09080        0.000173        0.014637   \n",
       "        clueweb12-1507wb-91-37258        0.000000        0.007104   \n",
       "        clueweb12-1504wb-88-20525        0.017532        0.007480   \n",
       "        clueweb12-1506wb-78-03624        0.000000        0.007140   \n",
       "        clueweb12-1504wb-93-09140        0.017413        0.007855   \n",
       "\n",
       "                                   title_length  anchors_length  Relevance  \n",
       "QueryId DocumentId                                                          \n",
       "201     clueweb12-1700tw-22-12689      0.050847        0.000000        0.0  \n",
       "        clueweb12-0915wb-34-01721      0.076271        0.000512        0.0  \n",
       "        clueweb12-0713wb-35-13648      0.025424        0.022801        1.0  \n",
       "        clueweb12-0900wb-98-24673      0.042373        0.000000        0.0  \n",
       "        clueweb12-0909wb-96-26247      0.050847        0.000470        0.0  \n",
       "...                                         ...             ...        ...  \n",
       "239     clueweb12-1111wb-58-09080      0.059322        0.002220        0.0  \n",
       "        clueweb12-1507wb-91-37258      0.025424        0.000128        0.0  \n",
       "        clueweb12-1504wb-88-20525      0.008475        0.032365        0.0  \n",
       "        clueweb12-1506wb-78-03624      0.033898        0.000171        0.0  \n",
       "        clueweb12-1504wb-93-09140      0.008475        0.032365        0.0  \n",
       "\n",
       "[3900 rows x 5 columns]"
      ]
     },
     "execution_count": 8,
     "metadata": {},
     "output_type": "execute_result"
    }
   ],
   "source": [
    "train_data"
   ]
  },
  {
   "cell_type": "markdown",
   "metadata": {},
   "source": [
    "## Training a model\n",
    "\n",
    "Training needs to be done differently based on the scenario:\n",
    "\n",
    "  * **Scenario 1**: The model is trained using cross-validation, that is on 4/5 of queries, then applied on the remaining 1/5 of queries (repeated 5 times).\n",
    "  * **Scenario 2**: The model is trained on all available training data.\n",
    "  \n",
    "The feature vectors at this point are already created. These should contain both (a) the training queries and (b) the queries on which you want to apply your model.\n",
    "\n",
    "Train your model on queries (a). For that you'll also need to load the corresponding relevance labels."
   ]
  },
  {
   "cell_type": "code",
   "execution_count": 25,
   "metadata": {},
   "outputs": [],
   "source": [
    "from sklearn.model_selection import GroupKFold\n",
    "from sklearn.base import clone\n",
    "from sklearn.ensemble import AdaBoostRegressor"
   ]
  },
  {
   "cell_type": "code",
   "execution_count": 26,
   "metadata": {},
   "outputs": [],
   "source": [
    "class PointWiseLTRModel():\n",
    "    def __init__(self, data, regressor=AdaBoostRegressor(random_state=42)):\n",
    "        self.regressor = regressor\n",
    "        self.features = data[feature_list]\n",
    "        self.targets = data['Relevance']\n",
    "        \n",
    "    def cross_validate(self, output=None):\n",
    "        ranking = pd.DataFrame()\n",
    "        gkf = GroupKFold(n_splits=5)\n",
    "        groups = self.features.reset_index('DocumentId').index\n",
    "        \n",
    "        for train_index, test_index in gkf.split(self.features.index, self.targets.index, groups=groups):\n",
    "            x_train, x_test = self.features.iloc[train_index], self.features.iloc[test_index]\n",
    "            y_train, y_test = self.targets.iloc[train_index], self.targets.iloc[test_index]\n",
    "            print(y_train.reset_index('DocumentId').index.unique(), y_test.reset_index('DocumentId').index.unique())\n",
    "            \n",
    "            regressor = clone(self.regressor)\n",
    "            regressor.fit(x_train, y_train)\n",
    "            new_ranking = self.rank(x_test, estimator=regressor)\n",
    "            ranking = pd.concat([new_ranking, ranking])\n",
    "            \n",
    "        ranking.sort_values(by=['QueryId', 'Relevance'], ascending=[True, False], inplace=True)\n",
    "        if output is not None:\n",
    "            ranking.to_csv(output, columns=['Relevance'])\n",
    "        else:\n",
    "            return ranking\n",
    "        \n",
    "    def train(self):\n",
    "        self.regressor.fit(self.features, self.targets)\n",
    "\n",
    "    def rank(self, x, output=None, estimator=None):\n",
    "        estimator = self.regressor if estimator is None else estimator\n",
    "        x_copy = x.copy()\n",
    "        x_copy['Relevance'] = estimator.predict(x_copy)\n",
    "        \n",
    "        if output is not None:\n",
    "            x_copy.sort_values(by=['QueryId', 'Relevance'], ascending=[True, False], inplace=True)\n",
    "            x_copy.to_csv(output, columns=['Relevance'])\n",
    "        else:\n",
    "            return x_copy"
   ]
  },
  {
   "cell_type": "code",
   "execution_count": 27,
   "metadata": {},
   "outputs": [
    {
     "name": "stdout",
     "output_type": "stream",
     "text": [
      "Int64Index([201, 202, 203, 205, 206, 207, 208, 209, 210, 211, 212, 213, 215,\n",
      "            216, 217, 218, 220, 222, 223, 225, 226, 227, 228, 229, 230, 231,\n",
      "            232, 233, 235, 236, 237],\n",
      "           dtype='int64', name='QueryId') Int64Index([204, 214, 219, 221, 224, 234, 238, 239], dtype='int64', name='QueryId')\n",
      "Int64Index([201, 202, 204, 205, 206, 207, 209, 211, 212, 214, 215, 216, 217,\n",
      "            218, 219, 220, 221, 222, 224, 225, 226, 227, 229, 231, 232, 234,\n",
      "            235, 236, 237, 238, 239],\n",
      "           dtype='int64', name='QueryId') Int64Index([203, 208, 210, 213, 223, 228, 230, 233], dtype='int64', name='QueryId')\n",
      "Int64Index([201, 203, 204, 205, 206, 208, 209, 210, 211, 213, 214, 215, 216,\n",
      "            218, 219, 220, 221, 223, 224, 225, 226, 228, 229, 230, 231, 233,\n",
      "            234, 235, 236, 238, 239],\n",
      "           dtype='int64', name='QueryId') Int64Index([202, 207, 212, 217, 222, 227, 232, 237], dtype='int64', name='QueryId')\n",
      "Int64Index([202, 203, 204, 205, 207, 208, 209, 210, 212, 213, 214, 215, 217,\n",
      "            219, 220, 221, 222, 223, 224, 225, 227, 228, 229, 230, 232, 233,\n",
      "            234, 235, 237, 238, 239],\n",
      "           dtype='int64', name='QueryId') Int64Index([201, 206, 211, 216, 218, 226, 231, 236], dtype='int64', name='QueryId')\n",
      "Int64Index([201, 202, 203, 204, 206, 207, 208, 210, 211, 212, 213, 214, 216,\n",
      "            217, 218, 219, 221, 222, 223, 224, 226, 227, 228, 230, 231, 232,\n",
      "            233, 234, 236, 237, 238, 239],\n",
      "           dtype='int64', name='QueryId') Int64Index([205, 209, 215, 220, 225, 229, 235], dtype='int64', name='QueryId')\n"
     ]
    }
   ],
   "source": [
    "model = PointWiseLTRModel(train_data)\n",
    "model.cross_validate('data/cross_validation.csv')"
   ]
  },
  {
   "cell_type": "markdown",
   "metadata": {},
   "source": [
    "## Applying the model to produce a ranking"
   ]
  },
  {
   "cell_type": "markdown",
   "metadata": {},
   "source": [
    "Apply the trained model on queries (b) and sort documents according to the predicted relevance score."
   ]
  },
  {
   "cell_type": "code",
   "execution_count": 28,
   "metadata": {},
   "outputs": [],
   "source": [
    "model.train()"
   ]
  },
  {
   "cell_type": "code",
   "execution_count": 29,
   "metadata": {},
   "outputs": [],
   "source": [
    "model.rank(test_data, output='data/ranking_kaggle.csv')"
   ]
  },
  {
   "cell_type": "markdown",
   "metadata": {},
   "source": [
    "##  most important features"
   ]
  },
  {
   "cell_type": "code",
   "execution_count": 21,
   "metadata": {},
   "outputs": [
    {
     "data": {
      "text/plain": [
       "array([0.16089395, 0.540063  , 0.18254956, 0.11649349])"
      ]
     },
     "execution_count": 21,
     "metadata": {},
     "output_type": "execute_result"
    }
   ],
   "source": [
    "model.regressor.feature_importances_"
   ]
  }
 ],
 "metadata": {
  "kernelspec": {
   "display_name": "Python 3",
   "language": "python",
   "name": "python3"
  },
  "language_info": {
   "codemirror_mode": {
    "name": "ipython",
    "version": 3
   },
   "file_extension": ".py",
   "mimetype": "text/x-python",
   "name": "python",
   "nbconvert_exporter": "python",
   "pygments_lexer": "ipython3",
   "version": "3.6.8"
  }
 },
 "nbformat": 4,
 "nbformat_minor": 2
}

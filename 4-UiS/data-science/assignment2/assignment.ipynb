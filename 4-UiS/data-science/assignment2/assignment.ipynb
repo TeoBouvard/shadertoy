{
 "cells": [
  {
   "cell_type": "markdown",
   "metadata": {},
   "source": [
    "# Assignment 2 - Restaurant and Consumer datasets\n",
    "---"
   ]
  },
  {
   "cell_type": "markdown",
   "metadata": {},
   "source": [
    "## Importing the data"
   ]
  },
  {
   "cell_type": "code",
   "execution_count": 1,
   "metadata": {},
   "outputs": [],
   "source": [
    "import pandas as pd\n",
    "import numpy as np\n",
    "\n",
    "%matplotlib inline\n",
    "#pd.set_option('display.max_rows', 10000)"
   ]
  },
  {
   "cell_type": "code",
   "execution_count": 50,
   "metadata": {},
   "outputs": [],
   "source": [
    "accepts = pd.read_csv('data/chefmozaccepts.csv')\n",
    "restaurant_cuisine = pd.read_csv('data/chefmozcuisine.csv')\n",
    "restaurant_hours = pd.read_csv('data/chefmozhours4.csv', names=['placeID', 'hours', 'days'])\n",
    "restaurant_parking = pd.read_csv('data/chefmozparking.csv')\n",
    "geoplaces = pd.read_csv('data/geoplaces2.csv', encoding='latin1')\n",
    "rating = pd.read_csv('data/rating_final.csv')\n",
    "user_cuisine = pd.read_csv('data/usercuisine.csv')\n",
    "user_payment = pd.read_csv('data/userpayment.csv')\n",
    "user_profile = pd.read_csv('data/userprofile.csv')"
   ]
  },
  {
   "cell_type": "markdown",
   "metadata": {},
   "source": [
    "---\n",
    "## Cleaning the data"
   ]
  },
  {
   "cell_type": "markdown",
   "metadata": {},
   "source": [
    "In this section, I will be using the methods below. The fisrt one replaces all the strings by their lowercase representation so as to group related names, and then replaces missing values by Numpy's NaN. The second one computes the ratio of missing values for every column of a DataFrame. The third one returns all rows having unavailable values.\n",
    "\n",
    "So as to not perform a lot of useless operations, I will only fill missing values needed to answer the questions."
   ]
  },
  {
   "cell_type": "code",
   "execution_count": 3,
   "metadata": {},
   "outputs": [],
   "source": [
    "def clean(df):\n",
    "    df = df.applymap(lambda x:x.lower() if type(x) == str else x)\n",
    "    df.replace(to_replace=['?', 'none'], value=np.nan, inplace=True)\n",
    "    return df"
   ]
  },
  {
   "cell_type": "code",
   "execution_count": 4,
   "metadata": {},
   "outputs": [],
   "source": [
    "def columns_na_ratio(df):\n",
    "    return (df.isna().sum() / len(df.index)).round(3)"
   ]
  },
  {
   "cell_type": "code",
   "execution_count": 5,
   "metadata": {},
   "outputs": [],
   "source": [
    "def get_empty_rows(df):\n",
    "    return df[df.isnull().any(axis=1)]"
   ]
  },
  {
   "cell_type": "markdown",
   "metadata": {},
   "source": [
    "### Geoplaces"
   ]
  },
  {
   "cell_type": "markdown",
   "metadata": {},
   "source": [
    "First of all, let's clean the geographical dataset by dropping useless columns and then checking if it contains any duplicate rows."
   ]
  },
  {
   "cell_type": "code",
   "execution_count": 6,
   "metadata": {},
   "outputs": [
    {
     "name": "stdout",
     "output_type": "stream",
     "text": [
      "0 duplicated rows\n"
     ]
    }
   ],
   "source": [
    "geoplaces.drop(columns=['the_geom_meter', 'fax', 'zip', 'url'], inplace=True)\n",
    "geoplaces = clean(geoplaces)\n",
    "print(geoplaces.duplicated().sum(), \"duplicated rows\")"
   ]
  },
  {
   "cell_type": "markdown",
   "metadata": {},
   "source": [
    "This dataset has no duplicated rows, now let's group all unavailable values for each column and check if some columns aren't worth looking at."
   ]
  },
  {
   "cell_type": "code",
   "execution_count": 7,
   "metadata": {},
   "outputs": [
    {
     "data": {
      "text/plain": [
       "placeID           0.000\n",
       "latitude          0.000\n",
       "longitude         0.000\n",
       "name              0.000\n",
       "address           0.208\n",
       "city              0.138\n",
       "state             0.138\n",
       "country           0.215\n",
       "alcohol           0.000\n",
       "smoking_area      0.538\n",
       "dress_code        0.000\n",
       "accessibility     0.000\n",
       "price             0.000\n",
       "Rambience         0.000\n",
       "franchise         0.000\n",
       "area              0.000\n",
       "other_services    0.915\n",
       "dtype: float64"
      ]
     },
     "execution_count": 7,
     "metadata": {},
     "output_type": "execute_result"
    }
   ],
   "source": [
    "columns_na_ratio(geoplaces)"
   ]
  },
  {
   "cell_type": "code",
   "execution_count": 8,
   "metadata": {},
   "outputs": [
    {
     "data": {
      "text/plain": [
       "mexico    102\n",
       "Name: country, dtype: int64"
      ]
     },
     "execution_count": 8,
     "metadata": {},
     "output_type": "execute_result"
    }
   ],
   "source": [
    "geoplaces['country'].value_counts()"
   ]
  },
  {
   "cell_type": "markdown",
   "metadata": {},
   "source": [
    "We can see that 'other services' contains more than 90% of unkwown values, so let's drop this column. We are also going to drop 'latitude', 'longitude', 'dress_code', 'franchise', 'accessibility' columns as we are not going to use them. We might as well drop the 'country' columns, as it contains either 'mexico' or unavailable data. "
   ]
  },
  {
   "cell_type": "code",
   "execution_count": 9,
   "metadata": {},
   "outputs": [],
   "source": [
    "geoplaces.drop(columns=['latitude', 'longitude', 'country', 'other_services', 'dress_code', 'franchise', 'accessibility'], inplace=True)"
   ]
  },
  {
   "cell_type": "markdown",
   "metadata": {},
   "source": [
    "We need to address the missing values in the 'smoking_area' column. To do so we will assume that most of the time, this column was not filled because restaurants assumed it would mean 'not permitted'."
   ]
  },
  {
   "cell_type": "code",
   "execution_count": 10,
   "metadata": {},
   "outputs": [],
   "source": [
    "geoplaces.fillna({'smoking_area':'not permitted'}, inplace=True)"
   ]
  },
  {
   "cell_type": "markdown",
   "metadata": {},
   "source": [
    "Although there is no reasonable way to fill missing values for the 'address' column, we can clean the 'city' column a bit by replacing all variations of the same city together."
   ]
  },
  {
   "cell_type": "code",
   "execution_count": 11,
   "metadata": {},
   "outputs": [
    {
     "data": {
      "text/plain": [
       "san luis potosi     69\n",
       "cuernavaca          16\n",
       "victoria            10\n",
       "jiutepec             4\n",
       "ciudad victoria      2\n",
       "victoria             2\n",
       "soledad              2\n",
       "san luis potos       1\n",
       "san luis potosi      1\n",
       "s.l.p                1\n",
       "cd victoria          1\n",
       "slp                  1\n",
       "cd. victoria         1\n",
       "s.l.p.               1\n",
       "Name: city, dtype: int64"
      ]
     },
     "execution_count": 11,
     "metadata": {},
     "output_type": "execute_result"
    }
   ],
   "source": [
    "geoplaces['city'].value_counts()"
   ]
  },
  {
   "cell_type": "code",
   "execution_count": 12,
   "metadata": {},
   "outputs": [],
   "source": [
    "geoplaces.replace(to_replace=r'san luis.*|slp|s.l.p.*', value='san luis potosi', regex=True, inplace=True)\n",
    "geoplaces.replace(to_replace=r'.*victoria.*', value='victoria', regex=True, inplace=True)"
   ]
  },
  {
   "cell_type": "code",
   "execution_count": 13,
   "metadata": {},
   "outputs": [
    {
     "data": {
      "text/plain": [
       "san luis potosi    74\n",
       "cuernavaca         16\n",
       "victoria           16\n",
       "jiutepec            4\n",
       "soledad             2\n",
       "Name: city, dtype: int64"
      ]
     },
     "execution_count": 13,
     "metadata": {},
     "output_type": "execute_result"
    }
   ],
   "source": [
    "geoplaces['city'].value_counts()"
   ]
  },
  {
   "cell_type": "markdown",
   "metadata": {},
   "source": [
    "### User profile"
   ]
  },
  {
   "cell_type": "code",
   "execution_count": 14,
   "metadata": {},
   "outputs": [
    {
     "name": "stdout",
     "output_type": "stream",
     "text": [
      "0 duplicated users\n"
     ]
    },
    {
     "data": {
      "text/plain": [
       "userID              0.000\n",
       "latitude            0.000\n",
       "longitude           0.000\n",
       "smoker              0.022\n",
       "drink_level         0.000\n",
       "dress_preference    0.036\n",
       "ambience            0.043\n",
       "transport           0.051\n",
       "marital_status      0.029\n",
       "hijos               0.080\n",
       "birth_year          0.000\n",
       "interest            0.217\n",
       "personality         0.000\n",
       "religion            0.217\n",
       "activity            0.051\n",
       "color               0.000\n",
       "weight              0.000\n",
       "budget              0.051\n",
       "height              0.000\n",
       "dtype: float64"
      ]
     },
     "execution_count": 14,
     "metadata": {},
     "output_type": "execute_result"
    }
   ],
   "source": [
    "user_profile = clean(user_profile)\n",
    "print(user_profile['userID'].duplicated().sum(), \"duplicated users\")\n",
    "columns_na_ratio(user_profile)"
   ]
  },
  {
   "cell_type": "markdown",
   "metadata": {},
   "source": [
    "We made sure that each row represents a different user, as there are no duplicated userID.\n",
    "We can drop 'interest' and 'religion' columns as they both have 20% unknown values and we won't be using them in the questions. Same as before, we won't be using 'latitude' and longitude' of this DataFrame. Some other columns we won't be using are 'color', 'weight', 'height', 'personality', 'ambience' and 'dress_preference'."
   ]
  },
  {
   "cell_type": "code",
   "execution_count": 15,
   "metadata": {},
   "outputs": [],
   "source": [
    "user_profile.drop(columns=['latitude', 'longitude', 'interest', 'religion', 'color', 'weight', \n",
    "                           'height', 'personality', 'dress_preference'], inplace=True)"
   ]
  },
  {
   "cell_type": "markdown",
   "metadata": {},
   "source": [
    "We need to address the missing values in the 'hijos', 'transport', 'activity', 'smoker' and 'budget' columns. We will do so by replacing unavailable values by the most represented value in this column."
   ]
  },
  {
   "cell_type": "code",
   "execution_count": 16,
   "metadata": {},
   "outputs": [
    {
     "data": {
      "text/plain": [
       "independent    113\n",
       "kids            11\n",
       "dependent        3\n",
       "Name: hijos, dtype: int64"
      ]
     },
     "execution_count": 16,
     "metadata": {},
     "output_type": "execute_result"
    }
   ],
   "source": [
    "user_profile['hijos'].value_counts()"
   ]
  },
  {
   "cell_type": "code",
   "execution_count": 17,
   "metadata": {},
   "outputs": [
    {
     "data": {
      "text/plain": [
       "public       82\n",
       "car owner    35\n",
       "on foot      14\n",
       "Name: transport, dtype: int64"
      ]
     },
     "execution_count": 17,
     "metadata": {},
     "output_type": "execute_result"
    }
   ],
   "source": [
    "user_profile['transport'].value_counts()"
   ]
  },
  {
   "cell_type": "code",
   "execution_count": 18,
   "metadata": {},
   "outputs": [
    {
     "data": {
      "text/plain": [
       "student          113\n",
       "professional      15\n",
       "unemployed         2\n",
       "working-class      1\n",
       "Name: activity, dtype: int64"
      ]
     },
     "execution_count": 18,
     "metadata": {},
     "output_type": "execute_result"
    }
   ],
   "source": [
    "user_profile['activity'].value_counts()"
   ]
  },
  {
   "cell_type": "code",
   "execution_count": 19,
   "metadata": {},
   "outputs": [
    {
     "data": {
      "text/plain": [
       "medium    91\n",
       "low       35\n",
       "high       5\n",
       "Name: budget, dtype: int64"
      ]
     },
     "execution_count": 19,
     "metadata": {},
     "output_type": "execute_result"
    }
   ],
   "source": [
    "user_profile['budget'].value_counts()"
   ]
  },
  {
   "cell_type": "code",
   "execution_count": 20,
   "metadata": {},
   "outputs": [
    {
     "data": {
      "text/plain": [
       "false    109\n",
       "true      26\n",
       "Name: smoker, dtype: int64"
      ]
     },
     "execution_count": 20,
     "metadata": {},
     "output_type": "execute_result"
    }
   ],
   "source": [
    "user_profile['smoker'].value_counts()"
   ]
  },
  {
   "cell_type": "code",
   "execution_count": 21,
   "metadata": {},
   "outputs": [],
   "source": [
    "user_profile.fillna({'hijos':'independent', 'transport':'public', 'activity':'student', 'budget':'medium', 'smoker':'false'}, inplace=True)"
   ]
  },
  {
   "cell_type": "code",
   "execution_count": 22,
   "metadata": {},
   "outputs": [
    {
     "data": {
      "text/plain": [
       "userID            0.000\n",
       "smoker            0.000\n",
       "drink_level       0.000\n",
       "ambience          0.043\n",
       "transport         0.000\n",
       "marital_status    0.029\n",
       "hijos             0.000\n",
       "birth_year        0.000\n",
       "activity          0.000\n",
       "budget            0.000\n",
       "dtype: float64"
      ]
     },
     "execution_count": 22,
     "metadata": {},
     "output_type": "execute_result"
    }
   ],
   "source": [
    "columns_na_ratio(user_profile)"
   ]
  },
  {
   "cell_type": "markdown",
   "metadata": {},
   "source": [
    "This DataFrame is now suitable for calculations."
   ]
  },
  {
   "cell_type": "markdown",
   "metadata": {},
   "source": [
    "### User payments"
   ]
  },
  {
   "cell_type": "code",
   "execution_count": 23,
   "metadata": {},
   "outputs": [
    {
     "name": "stdout",
     "output_type": "stream",
     "text": [
      "0 duplicated rows\n",
      "44 multiple payments for single user\n"
     ]
    },
    {
     "data": {
      "text/plain": [
       "userID      0.0\n",
       "Upayment    0.0\n",
       "dtype: float64"
      ]
     },
     "execution_count": 23,
     "metadata": {},
     "output_type": "execute_result"
    }
   ],
   "source": [
    "user_payment = clean(user_payment)\n",
    "print(user_payment.duplicated().sum(), \"duplicated rows\")\n",
    "print(user_payment['userID'].duplicated().sum(), \"multiple payments for single user\")\n",
    "columns_na_ratio(user_payment)"
   ]
  },
  {
   "cell_type": "markdown",
   "metadata": {},
   "source": [
    "This DataFrame is already clean, with no missing value and no duplicated rows. It is important to note that some clients have multiple means of payment."
   ]
  },
  {
   "cell_type": "markdown",
   "metadata": {},
   "source": [
    "## User cuisine"
   ]
  },
  {
   "cell_type": "code",
   "execution_count": 52,
   "metadata": {},
   "outputs": [
    {
     "name": "stdout",
     "output_type": "stream",
     "text": [
      "0 duplicated rows\n"
     ]
    },
    {
     "data": {
      "text/plain": [
       "userID      0.0\n",
       "Rcuisine    0.0\n",
       "dtype: float64"
      ]
     },
     "execution_count": 52,
     "metadata": {},
     "output_type": "execute_result"
    }
   ],
   "source": [
    "user_cuisine = clean(user_cuisine)\n",
    "print(user_cuisine.duplicated().sum(), \"duplicated rows\")\n",
    "columns_na_ratio(user_cuisine)"
   ]
  },
  {
   "cell_type": "markdown",
   "metadata": {},
   "source": [
    "This DataFrame is already clean. No question is related to it, so it won't be used any further."
   ]
  },
  {
   "cell_type": "markdown",
   "metadata": {},
   "source": [
    "## Rating"
   ]
  },
  {
   "cell_type": "code",
   "execution_count": 24,
   "metadata": {},
   "outputs": [
    {
     "name": "stdout",
     "output_type": "stream",
     "text": [
      "0 duplicated rows\n"
     ]
    },
    {
     "data": {
      "text/plain": [
       "userID            0.0\n",
       "placeID           0.0\n",
       "rating            0.0\n",
       "food_rating       0.0\n",
       "service_rating    0.0\n",
       "dtype: float64"
      ]
     },
     "execution_count": 24,
     "metadata": {},
     "output_type": "execute_result"
    }
   ],
   "source": [
    "rating = clean(rating)\n",
    "print(rating.duplicated().sum(), \"duplicated rows\")\n",
    "columns_na_ratio(rating)"
   ]
  },
  {
   "cell_type": "markdown",
   "metadata": {},
   "source": [
    "This DataFrame is already clean."
   ]
  },
  {
   "cell_type": "markdown",
   "metadata": {},
   "source": [
    "## Restaurant Hours"
   ]
  },
  {
   "cell_type": "code",
   "execution_count": 25,
   "metadata": {},
   "outputs": [
    {
     "name": "stdout",
     "output_type": "stream",
     "text": [
      "271 duplicated rows\n"
     ]
    },
    {
     "data": {
      "text/plain": [
       "placeID    0.0\n",
       "hours      0.0\n",
       "days       0.0\n",
       "dtype: float64"
      ]
     },
     "execution_count": 25,
     "metadata": {},
     "output_type": "execute_result"
    }
   ],
   "source": [
    "restaurant_hours = clean(restaurant_hours)\n",
    "print(restaurant_hours.duplicated().sum(), \"duplicated rows\")\n",
    "columns_na_ratio(restaurant_hours)"
   ]
  },
  {
   "cell_type": "markdown",
   "metadata": {},
   "source": [
    "This DataFrame has a lot of duplicated rows, let's remove them."
   ]
  },
  {
   "cell_type": "code",
   "execution_count": 26,
   "metadata": {
    "scrolled": true
   },
   "outputs": [
    {
     "name": "stdout",
     "output_type": "stream",
     "text": [
      "0 duplicated rows\n"
     ]
    }
   ],
   "source": [
    "restaurant_hours.drop_duplicates(inplace=True)\n",
    "print(restaurant_hours.duplicated().sum(), \"duplicated rows\")"
   ]
  },
  {
   "cell_type": "markdown",
   "metadata": {},
   "source": [
    "## Restaurant Cuisine"
   ]
  },
  {
   "cell_type": "code",
   "execution_count": 27,
   "metadata": {},
   "outputs": [
    {
     "name": "stdout",
     "output_type": "stream",
     "text": [
      "0 duplicated rows\n",
      "147 duplicated restaurants\n"
     ]
    },
    {
     "data": {
      "text/plain": [
       "placeID     0.0\n",
       "Rcuisine    0.0\n",
       "dtype: float64"
      ]
     },
     "execution_count": 27,
     "metadata": {},
     "output_type": "execute_result"
    }
   ],
   "source": [
    "restaurant_cuisine = clean(restaurant_cuisine)\n",
    "print(restaurant_cuisine.duplicated().sum(), \"duplicated rows\")\n",
    "print(restaurant_cuisine['placeID'].duplicated().sum(), \"duplicated restaurants\")\n",
    "columns_na_ratio(restaurant_cuisine)"
   ]
  },
  {
   "cell_type": "markdown",
   "metadata": {},
   "source": [
    "There are no duplicated rows and this DataFrame is already clean. It is important to note that some restaurants offer multiple types of cuisine."
   ]
  },
  {
   "cell_type": "markdown",
   "metadata": {},
   "source": [
    "## Restaurant Parking"
   ]
  },
  {
   "cell_type": "code",
   "execution_count": 28,
   "metadata": {},
   "outputs": [
    {
     "name": "stdout",
     "output_type": "stream",
     "text": [
      "0 duplicated rows\n",
      "27 duplicated rows\n"
     ]
    },
    {
     "data": {
      "text/plain": [
       "placeID        0.000\n",
       "parking_lot    0.496\n",
       "dtype: float64"
      ]
     },
     "execution_count": 28,
     "metadata": {},
     "output_type": "execute_result"
    }
   ],
   "source": [
    "restaurant_parking = clean(restaurant_parking)\n",
    "print(restaurant_parking.duplicated().sum(), \"duplicated rows\")\n",
    "print(restaurant_parking['placeID'].duplicated().sum(), \"duplicated rows\")\n",
    "columns_na_ratio(restaurant_parking)"
   ]
  },
  {
   "cell_type": "markdown",
   "metadata": {},
   "source": [
    "As we have observed before, this DataFrame does not contain duplicated rows but some restaurant offer multiple types of parking. We can also see that nearly half of the restaurants do not have a parking."
   ]
  },
  {
   "cell_type": "markdown",
   "metadata": {},
   "source": [
    "## Payments Accepted"
   ]
  },
  {
   "cell_type": "code",
   "execution_count": 29,
   "metadata": {},
   "outputs": [
    {
     "name": "stdout",
     "output_type": "stream",
     "text": [
      "0 duplicated rows\n"
     ]
    },
    {
     "data": {
      "text/plain": [
       "placeID     0.0\n",
       "Rpayment    0.0\n",
       "dtype: float64"
      ]
     },
     "execution_count": 29,
     "metadata": {},
     "output_type": "execute_result"
    }
   ],
   "source": [
    "accepts = clean(accepts)\n",
    "print(accepts.duplicated().sum(), \"duplicated rows\")\n",
    "columns_na_ratio(accepts)"
   ]
  },
  {
   "cell_type": "markdown",
   "metadata": {},
   "source": [
    "This DataFrame does not require cleaning."
   ]
  },
  {
   "cell_type": "markdown",
   "metadata": {},
   "source": [
    "---\n",
    "## Questions - Part 1"
   ]
  },
  {
   "cell_type": "markdown",
   "metadata": {},
   "source": [
    "**Question 1**\n",
    "What are the names of different restaurants in the state of 'tamaulipas' ?"
   ]
  },
  {
   "cell_type": "code",
   "execution_count": 30,
   "metadata": {},
   "outputs": [
    {
     "data": {
      "text/plain": [
       "3             little pizza emilio portes gil\n",
       "4                              carnitas_mata\n",
       "6                         taqueria el amigo \n",
       "8                   pollo_frito_buenos_aires\n",
       "19                            tacos el guero\n",
       "41                    hamburguesas la perica\n",
       "73                                palomo tec\n",
       "76                        tacos correcaminos\n",
       "86             carreton de flautas y migadas\n",
       "89                        gorditas dona tota\n",
       "94                             little cesarz\n",
       "103    carnitas mata  calle 16 de septiembre\n",
       "106                       puesto de gorditas\n",
       "109    carnitas mata calle emilio portes gil\n",
       "122                                tacos abi\n",
       "123                    la perica hamburguesa\n",
       "Name: name, dtype: object"
      ]
     },
     "execution_count": 30,
     "metadata": {},
     "output_type": "execute_result"
    }
   ],
   "source": [
    "geoplaces[geoplaces['state'] == 'tamaulipas']['name']"
   ]
  },
  {
   "cell_type": "markdown",
   "metadata": {},
   "source": [
    "**Question 2**\n",
    "How many different customers used public transport for going to the\n",
    "restaurants ?\n",
    "\n",
    "For this question, I assume each entry in 'user profile' is someone who actually went to the restaurants, as this dataset is collected from people going to restaurants."
   ]
  },
  {
   "cell_type": "code",
   "execution_count": 31,
   "metadata": {},
   "outputs": [
    {
     "data": {
      "text/plain": [
       "public       89\n",
       "car owner    35\n",
       "on foot      14\n",
       "Name: transport, dtype: int64"
      ]
     },
     "execution_count": 31,
     "metadata": {},
     "output_type": "execute_result"
    }
   ],
   "source": [
    "user_profile['transport'].value_counts()"
   ]
  },
  {
   "cell_type": "markdown",
   "metadata": {},
   "source": [
    "We see that 82 customers used public transport."
   ]
  },
  {
   "cell_type": "markdown",
   "metadata": {},
   "source": [
    "**Question 3** What is the least popular payment method among customers ?\n"
   ]
  },
  {
   "cell_type": "code",
   "execution_count": 32,
   "metadata": {},
   "outputs": [
    {
     "data": {
      "text/plain": [
       "cash                   131\n",
       "bank_debit_cards        22\n",
       "visa                    17\n",
       "mastercard-eurocard      4\n",
       "american_express         3\n",
       "Name: Upayment, dtype: int64"
      ]
     },
     "execution_count": 32,
     "metadata": {},
     "output_type": "execute_result"
    }
   ],
   "source": [
    "user_payment['Upayment'].value_counts()"
   ]
  },
  {
   "cell_type": "code",
   "execution_count": 33,
   "metadata": {},
   "outputs": [
    {
     "data": {
      "text/plain": [
       "userID      0.016949\n",
       "Upayment    0.016949\n",
       "dtype: float64"
      ]
     },
     "execution_count": 33,
     "metadata": {},
     "output_type": "execute_result"
    }
   ],
   "source": [
    "user_payment[user_payment['Upayment'] == 'american_express'].count() / user_payment.count()"
   ]
  },
  {
   "cell_type": "markdown",
   "metadata": {},
   "source": [
    "The american express is the least popular payment method, with less than 2% of payments done via this method."
   ]
  },
  {
   "cell_type": "markdown",
   "metadata": {},
   "source": [
    "**Question 4** How many (different) restaurants work until 19:00 in the evenings ?"
   ]
  },
  {
   "cell_type": "markdown",
   "metadata": {},
   "source": [
    "This question is ambiguous. Does it mean restaurants working *at least* until 19:00 or restaurants working until 19:00 and then closing ? In the answer, I assume the question seeks to find restaurants closing at 19:00."
   ]
  },
  {
   "cell_type": "code",
   "execution_count": 34,
   "metadata": {},
   "outputs": [
    {
     "data": {
      "text/plain": [
       "28"
      ]
     },
     "execution_count": 34,
     "metadata": {},
     "output_type": "execute_result"
    }
   ],
   "source": [
    "restaurant_hours[restaurant_hours['hours'].str.contains('19:00;')]['placeID'].nunique()"
   ]
  },
  {
   "cell_type": "markdown",
   "metadata": {},
   "source": [
    "28 different restaurants are open until 19:00, and then close."
   ]
  },
  {
   "cell_type": "markdown",
   "metadata": {},
   "source": [
    "**Question 5** Which type of cooking practice (rcuisine) is the most common among\n",
    "restaurants ?"
   ]
  },
  {
   "cell_type": "code",
   "execution_count": 35,
   "metadata": {},
   "outputs": [
    {
     "data": {
      "text/plain": [
       "mexican          239\n",
       "international     62\n",
       "american          59\n",
       "dutch-belgian     55\n",
       "italian           42\n",
       "Name: Rcuisine, dtype: int64"
      ]
     },
     "execution_count": 35,
     "metadata": {},
     "output_type": "execute_result"
    }
   ],
   "source": [
    "restaurant_cuisine['Rcuisine'].value_counts().head()"
   ]
  },
  {
   "cell_type": "code",
   "execution_count": 36,
   "metadata": {},
   "outputs": [
    {
     "data": {
      "text/plain": [
       "placeID     0.260917\n",
       "Rcuisine    0.260917\n",
       "dtype: float64"
      ]
     },
     "execution_count": 36,
     "metadata": {},
     "output_type": "execute_result"
    }
   ],
   "source": [
    "restaurant_cuisine[restaurant_cuisine['Rcuisine'] == 'mexican'].count() / restaurant_cuisine.count()"
   ]
  },
  {
   "cell_type": "markdown",
   "metadata": {},
   "source": [
    "The most common cooking practice is mexican food, with more than 25% of the restaurants serving mexican."
   ]
  },
  {
   "cell_type": "markdown",
   "metadata": {},
   "source": [
    "**Question 6** What is the percentage of customers who were born between 1980 and\n",
    "1990 ?"
   ]
  },
  {
   "cell_type": "code",
   "execution_count": 37,
   "metadata": {},
   "outputs": [
    {
     "data": {
      "text/plain": [
       "0.6304347826086957"
      ]
     },
     "execution_count": 37,
     "metadata": {},
     "output_type": "execute_result"
    }
   ],
   "source": [
    "(user_profile[(user_profile['birth_year'] >= 1980) & (user_profile['birth_year'] <= 1990)].count() / user_profile.count())['userID']"
   ]
  },
  {
   "cell_type": "markdown",
   "metadata": {},
   "source": [
    "63% of customers were born between 1980 and 1990 included."
   ]
  },
  {
   "cell_type": "markdown",
   "metadata": {},
   "source": [
    "**Question 7** What is the percentage of students with a medium budget preferring\n",
    "walking to the restaurants ?"
   ]
  },
  {
   "cell_type": "code",
   "execution_count": 38,
   "metadata": {
    "scrolled": true
   },
   "outputs": [
    {
     "data": {
      "text/plain": [
       "public       53\n",
       "car owner    19\n",
       "on foot       8\n",
       "Name: transport, dtype: int64"
      ]
     },
     "execution_count": 38,
     "metadata": {},
     "output_type": "execute_result"
    }
   ],
   "source": [
    "students_medium = user_profile[(user_profile['activity'] == 'student') & (user_profile['budget'] == 'medium')]\n",
    "students_medium['transport'].value_counts()"
   ]
  },
  {
   "cell_type": "code",
   "execution_count": 39,
   "metadata": {},
   "outputs": [
    {
     "data": {
      "text/plain": [
       "0.1"
      ]
     },
     "execution_count": 39,
     "metadata": {},
     "output_type": "execute_result"
    }
   ],
   "source": [
    "(students_medium[students_medium['transport'] == 'on foot'].count() / students_medium.count())['userID']"
   ]
  },
  {
   "cell_type": "markdown",
   "metadata": {},
   "source": [
    "11% of students with a medium budget prefer walking to the restaurants."
   ]
  },
  {
   "cell_type": "markdown",
   "metadata": {},
   "source": [
    "---\n",
    "## Questions - Part 2"
   ]
  },
  {
   "cell_type": "markdown",
   "metadata": {},
   "source": [
    "**Question 8** What are the names of restaurants that do not have public parking lots ?"
   ]
  },
  {
   "cell_type": "markdown",
   "metadata": {},
   "source": [
    "This question is ambiguous. Is 'street' a public parking ? Is a 'fee' parking public ? In the answer, I only retrieve restaurants whose parkings are not 'public'."
   ]
  },
  {
   "cell_type": "code",
   "execution_count": 40,
   "metadata": {},
   "outputs": [
    {
     "data": {
      "text/html": [
       "<div>\n",
       "<style scoped>\n",
       "    .dataframe tbody tr th:only-of-type {\n",
       "        vertical-align: middle;\n",
       "    }\n",
       "\n",
       "    .dataframe tbody tr th {\n",
       "        vertical-align: top;\n",
       "    }\n",
       "\n",
       "    .dataframe thead th {\n",
       "        text-align: right;\n",
       "    }\n",
       "</style>\n",
       "<table border=\"1\" class=\"dataframe\">\n",
       "  <thead>\n",
       "    <tr style=\"text-align: right;\">\n",
       "      <th></th>\n",
       "      <th>name</th>\n",
       "      <th>parking_lot</th>\n",
       "    </tr>\n",
       "  </thead>\n",
       "  <tbody>\n",
       "    <tr>\n",
       "      <td>0</td>\n",
       "      <td>paniroles</td>\n",
       "      <td>NaN</td>\n",
       "    </tr>\n",
       "    <tr>\n",
       "      <td>1</td>\n",
       "      <td>potzocalli</td>\n",
       "      <td>NaN</td>\n",
       "    </tr>\n",
       "    <tr>\n",
       "      <td>2</td>\n",
       "      <td>el rincón de san francisco</td>\n",
       "      <td>NaN</td>\n",
       "    </tr>\n",
       "    <tr>\n",
       "      <td>3</td>\n",
       "      <td>vips</td>\n",
       "      <td>yes</td>\n",
       "    </tr>\n",
       "    <tr>\n",
       "      <td>5</td>\n",
       "      <td>mcdonalds parque tangamanga</td>\n",
       "      <td>yes</td>\n",
       "    </tr>\n",
       "    <tr>\n",
       "      <td>...</td>\n",
       "      <td>...</td>\n",
       "      <td>...</td>\n",
       "    </tr>\n",
       "    <tr>\n",
       "      <td>124</td>\n",
       "      <td>gorditas dona tota</td>\n",
       "      <td>yes</td>\n",
       "    </tr>\n",
       "    <tr>\n",
       "      <td>125</td>\n",
       "      <td>mcdonalds centro</td>\n",
       "      <td>NaN</td>\n",
       "    </tr>\n",
       "    <tr>\n",
       "      <td>126</td>\n",
       "      <td>cafe chaires</td>\n",
       "      <td>yes</td>\n",
       "    </tr>\n",
       "    <tr>\n",
       "      <td>127</td>\n",
       "      <td>churchs</td>\n",
       "      <td>NaN</td>\n",
       "    </tr>\n",
       "    <tr>\n",
       "      <td>128</td>\n",
       "      <td>cafe ambar</td>\n",
       "      <td>NaN</td>\n",
       "    </tr>\n",
       "  </tbody>\n",
       "</table>\n",
       "<p>114 rows × 2 columns</p>\n",
       "</div>"
      ],
      "text/plain": [
       "                            name parking_lot\n",
       "0                      paniroles         NaN\n",
       "1                     potzocalli         NaN\n",
       "2     el rincón de san francisco         NaN\n",
       "3                           vips         yes\n",
       "5    mcdonalds parque tangamanga         yes\n",
       "..                           ...         ...\n",
       "124           gorditas dona tota         yes\n",
       "125             mcdonalds centro         NaN\n",
       "126                 cafe chaires         yes\n",
       "127                      churchs         NaN\n",
       "128                   cafe ambar         NaN\n",
       "\n",
       "[114 rows x 2 columns]"
      ]
     },
     "execution_count": 40,
     "metadata": {},
     "output_type": "execute_result"
    }
   ],
   "source": [
    "parking_names = restaurant_parking.merge(geoplaces, on='placeID')[['placeID', 'parking_lot', 'name']]\n",
    "parking_names[parking_names['parking_lot'] != 'public'] [['name', 'parking_lot']]"
   ]
  },
  {
   "cell_type": "markdown",
   "metadata": {},
   "source": [
    "**Question 9** What are the addresses of restaurants which only accept cash ?"
   ]
  },
  {
   "cell_type": "code",
   "execution_count": 41,
   "metadata": {},
   "outputs": [
    {
     "data": {
      "text/html": [
       "<div>\n",
       "<style scoped>\n",
       "    .dataframe tbody tr th:only-of-type {\n",
       "        vertical-align: middle;\n",
       "    }\n",
       "\n",
       "    .dataframe tbody tr th {\n",
       "        vertical-align: top;\n",
       "    }\n",
       "\n",
       "    .dataframe thead th {\n",
       "        text-align: right;\n",
       "    }\n",
       "</style>\n",
       "<table border=\"1\" class=\"dataframe\">\n",
       "  <thead>\n",
       "    <tr style=\"text-align: right;\">\n",
       "      <th></th>\n",
       "      <th>placeID</th>\n",
       "      <th>Rpayment</th>\n",
       "      <th>address</th>\n",
       "    </tr>\n",
       "  </thead>\n",
       "  <tbody>\n",
       "    <tr>\n",
       "      <td>7</td>\n",
       "      <td>135088</td>\n",
       "      <td>cash</td>\n",
       "      <td>interior internado palmira sn</td>\n",
       "    </tr>\n",
       "    <tr>\n",
       "      <td>11</td>\n",
       "      <td>135085</td>\n",
       "      <td>cash</td>\n",
       "      <td>venustiano carranza 719 centro</td>\n",
       "    </tr>\n",
       "    <tr>\n",
       "      <td>12</td>\n",
       "      <td>135082</td>\n",
       "      <td>cash</td>\n",
       "      <td>villa de pozos 192 villa de pozos</td>\n",
       "    </tr>\n",
       "    <tr>\n",
       "      <td>26</td>\n",
       "      <td>135075</td>\n",
       "      <td>cash</td>\n",
       "      <td>himno nacional 2104 tangamanga</td>\n",
       "    </tr>\n",
       "    <tr>\n",
       "      <td>41</td>\n",
       "      <td>135070</td>\n",
       "      <td>cash</td>\n",
       "      <td>villa de pozos 4497 villa de pozos</td>\n",
       "    </tr>\n",
       "    <tr>\n",
       "      <td>42</td>\n",
       "      <td>135069</td>\n",
       "      <td>cash</td>\n",
       "      <td>industrias 908 valle dorado</td>\n",
       "    </tr>\n",
       "    <tr>\n",
       "      <td>53</td>\n",
       "      <td>135063</td>\n",
       "      <td>cash</td>\n",
       "      <td>alhondiga 62 centro</td>\n",
       "    </tr>\n",
       "    <tr>\n",
       "      <td>54</td>\n",
       "      <td>135062</td>\n",
       "      <td>cash</td>\n",
       "      <td>julian de los reyes 400 centro</td>\n",
       "    </tr>\n",
       "    <tr>\n",
       "      <td>55</td>\n",
       "      <td>135060</td>\n",
       "      <td>cash</td>\n",
       "      <td>ignacio allende 785 centro</td>\n",
       "    </tr>\n",
       "    <tr>\n",
       "      <td>56</td>\n",
       "      <td>135059</td>\n",
       "      <td>cash</td>\n",
       "      <td>santos degollado 745 los alamitos</td>\n",
       "    </tr>\n",
       "    <tr>\n",
       "      <td>78</td>\n",
       "      <td>135051</td>\n",
       "      <td>cash</td>\n",
       "      <td>francisco i. madero 145 centro</td>\n",
       "    </tr>\n",
       "    <tr>\n",
       "      <td>83</td>\n",
       "      <td>135049</td>\n",
       "      <td>cash</td>\n",
       "      <td>cordillera de los alpes 675 loma verde</td>\n",
       "    </tr>\n",
       "    <tr>\n",
       "      <td>98</td>\n",
       "      <td>135044</td>\n",
       "      <td>cash</td>\n",
       "      <td>himno nacional 100 avenida</td>\n",
       "    </tr>\n",
       "    <tr>\n",
       "      <td>99</td>\n",
       "      <td>135043</td>\n",
       "      <td>cash</td>\n",
       "      <td>524 soledad de graciano sanchez</td>\n",
       "    </tr>\n",
       "    <tr>\n",
       "      <td>100</td>\n",
       "      <td>135042</td>\n",
       "      <td>cash</td>\n",
       "      <td>tangamanga 7 tangamanga</td>\n",
       "    </tr>\n",
       "    <tr>\n",
       "      <td>101</td>\n",
       "      <td>135041</td>\n",
       "      <td>cash</td>\n",
       "      <td>francisco i. madero 215</td>\n",
       "    </tr>\n",
       "    <tr>\n",
       "      <td>105</td>\n",
       "      <td>135039</td>\n",
       "      <td>cash</td>\n",
       "      <td>miguel barragan 46 centro</td>\n",
       "    </tr>\n",
       "    <tr>\n",
       "      <td>106</td>\n",
       "      <td>135038</td>\n",
       "      <td>cash</td>\n",
       "      <td>guajardo sn san luis potosi</td>\n",
       "    </tr>\n",
       "    <tr>\n",
       "      <td>122</td>\n",
       "      <td>135030</td>\n",
       "      <td>cash</td>\n",
       "      <td>anahuac 805</td>\n",
       "    </tr>\n",
       "    <tr>\n",
       "      <td>135</td>\n",
       "      <td>135021</td>\n",
       "      <td>cash</td>\n",
       "      <td>rio mayo 17 vista hermosa</td>\n",
       "    </tr>\n",
       "    <tr>\n",
       "      <td>140</td>\n",
       "      <td>135016</td>\n",
       "      <td>cash</td>\n",
       "      <td>69 tres de mayo</td>\n",
       "    </tr>\n",
       "    <tr>\n",
       "      <td>141</td>\n",
       "      <td>135013</td>\n",
       "      <td>cash</td>\n",
       "      <td>40 norte civac 1ra. seccion</td>\n",
       "    </tr>\n",
       "    <tr>\n",
       "      <td>142</td>\n",
       "      <td>135011</td>\n",
       "      <td>cash</td>\n",
       "      <td>36 sur civac</td>\n",
       "    </tr>\n",
       "    <tr>\n",
       "      <td>147</td>\n",
       "      <td>135000</td>\n",
       "      <td>cash</td>\n",
       "      <td>federal mexico - acapulco 10 3 de mayo</td>\n",
       "    </tr>\n",
       "    <tr>\n",
       "      <td>148</td>\n",
       "      <td>134996</td>\n",
       "      <td>cash</td>\n",
       "      <td>lomas del mirador</td>\n",
       "    </tr>\n",
       "    <tr>\n",
       "      <td>152</td>\n",
       "      <td>134987</td>\n",
       "      <td>cash</td>\n",
       "      <td>rio mayo colonia vista hermosa esq. rio balsas</td>\n",
       "    </tr>\n",
       "    <tr>\n",
       "      <td>178</td>\n",
       "      <td>132951</td>\n",
       "      <td>cash</td>\n",
       "      <td>nicolas zapata 300</td>\n",
       "    </tr>\n",
       "    <tr>\n",
       "      <td>179</td>\n",
       "      <td>132937</td>\n",
       "      <td>cash</td>\n",
       "      <td>agustin de iturbide</td>\n",
       "    </tr>\n",
       "    <tr>\n",
       "      <td>183</td>\n",
       "      <td>132885</td>\n",
       "      <td>cash</td>\n",
       "      <td>av. saan luis enttre moctezuma y salinas</td>\n",
       "    </tr>\n",
       "    <tr>\n",
       "      <td>191</td>\n",
       "      <td>132870</td>\n",
       "      <td>cash</td>\n",
       "      <td>ricardo b. anaya</td>\n",
       "    </tr>\n",
       "    <tr>\n",
       "      <td>192</td>\n",
       "      <td>132869</td>\n",
       "      <td>cash</td>\n",
       "      <td>ricardo b. anaya</td>\n",
       "    </tr>\n",
       "    <tr>\n",
       "      <td>193</td>\n",
       "      <td>132866</td>\n",
       "      <td>cash</td>\n",
       "      <td>ricardo b. anaya</td>\n",
       "    </tr>\n",
       "    <tr>\n",
       "      <td>204</td>\n",
       "      <td>132858</td>\n",
       "      <td>cash</td>\n",
       "      <td>av. coral</td>\n",
       "    </tr>\n",
       "    <tr>\n",
       "      <td>205</td>\n",
       "      <td>132856</td>\n",
       "      <td>cash</td>\n",
       "      <td>plaza del carmen</td>\n",
       "    </tr>\n",
       "    <tr>\n",
       "      <td>210</td>\n",
       "      <td>132847</td>\n",
       "      <td>cash</td>\n",
       "      <td>r.b. anaya esq. florencia</td>\n",
       "    </tr>\n",
       "    <tr>\n",
       "      <td>211</td>\n",
       "      <td>132846</td>\n",
       "      <td>cash</td>\n",
       "      <td>circuito oriente esq. carretera 57</td>\n",
       "    </tr>\n",
       "    <tr>\n",
       "      <td>212</td>\n",
       "      <td>132845</td>\n",
       "      <td>cash</td>\n",
       "      <td>av. seminario</td>\n",
       "    </tr>\n",
       "    <tr>\n",
       "      <td>213</td>\n",
       "      <td>132834</td>\n",
       "      <td>cash</td>\n",
       "      <td>sevilla y olmedo 715 a</td>\n",
       "    </tr>\n",
       "    <tr>\n",
       "      <td>214</td>\n",
       "      <td>132825</td>\n",
       "      <td>cash</td>\n",
       "      <td>esquina santos degollado y leon guzman</td>\n",
       "    </tr>\n",
       "    <tr>\n",
       "      <td>215</td>\n",
       "      <td>132773</td>\n",
       "      <td>cash</td>\n",
       "      <td>emiliano zapata col. tres de mayo</td>\n",
       "    </tr>\n",
       "    <tr>\n",
       "      <td>221</td>\n",
       "      <td>132766</td>\n",
       "      <td>cash</td>\n",
       "      <td>himno nacional esq. blvd. juarez</td>\n",
       "    </tr>\n",
       "    <tr>\n",
       "      <td>226</td>\n",
       "      <td>132754</td>\n",
       "      <td>cash</td>\n",
       "      <td>cuauhtemoc 455</td>\n",
       "    </tr>\n",
       "    <tr>\n",
       "      <td>232</td>\n",
       "      <td>132732</td>\n",
       "      <td>cash</td>\n",
       "      <td>calle mezquite fracc framboyanes</td>\n",
       "    </tr>\n",
       "    <tr>\n",
       "      <td>239</td>\n",
       "      <td>132667</td>\n",
       "      <td>cash</td>\n",
       "      <td>calle emilio portes gil</td>\n",
       "    </tr>\n",
       "    <tr>\n",
       "      <td>242</td>\n",
       "      <td>132613</td>\n",
       "      <td>cash</td>\n",
       "      <td>lic. emilio portes gil</td>\n",
       "    </tr>\n",
       "    <tr>\n",
       "      <td>243</td>\n",
       "      <td>132609</td>\n",
       "      <td>cash</td>\n",
       "      <td>tampico</td>\n",
       "    </tr>\n",
       "    <tr>\n",
       "      <td>244</td>\n",
       "      <td>132608</td>\n",
       "      <td>cash</td>\n",
       "      <td>cd. mier</td>\n",
       "    </tr>\n",
       "    <tr>\n",
       "      <td>252</td>\n",
       "      <td>132560</td>\n",
       "      <td>cash</td>\n",
       "      <td>frente al tecnologico</td>\n",
       "    </tr>\n",
       "  </tbody>\n",
       "</table>\n",
       "</div>"
      ],
      "text/plain": [
       "     placeID Rpayment                                         address\n",
       "7     135088     cash                   interior internado palmira sn\n",
       "11    135085     cash                  venustiano carranza 719 centro\n",
       "12    135082     cash               villa de pozos 192 villa de pozos\n",
       "26    135075     cash                  himno nacional 2104 tangamanga\n",
       "41    135070     cash              villa de pozos 4497 villa de pozos\n",
       "42    135069     cash                     industrias 908 valle dorado\n",
       "53    135063     cash                             alhondiga 62 centro\n",
       "54    135062     cash                  julian de los reyes 400 centro\n",
       "55    135060     cash                      ignacio allende 785 centro\n",
       "56    135059     cash               santos degollado 745 los alamitos\n",
       "78    135051     cash                  francisco i. madero 145 centro\n",
       "83    135049     cash          cordillera de los alpes 675 loma verde\n",
       "98    135044     cash                      himno nacional 100 avenida\n",
       "99    135043     cash                 524 soledad de graciano sanchez\n",
       "100   135042     cash                         tangamanga 7 tangamanga\n",
       "101   135041     cash                         francisco i. madero 215\n",
       "105   135039     cash                       miguel barragan 46 centro\n",
       "106   135038     cash                     guajardo sn san luis potosi\n",
       "122   135030     cash                                     anahuac 805\n",
       "135   135021     cash                       rio mayo 17 vista hermosa\n",
       "140   135016     cash                                 69 tres de mayo\n",
       "141   135013     cash                     40 norte civac 1ra. seccion\n",
       "142   135011     cash                                    36 sur civac\n",
       "147   135000     cash          federal mexico - acapulco 10 3 de mayo\n",
       "148   134996     cash                               lomas del mirador\n",
       "152   134987     cash  rio mayo colonia vista hermosa esq. rio balsas\n",
       "178   132951     cash                              nicolas zapata 300\n",
       "179   132937     cash                             agustin de iturbide\n",
       "183   132885     cash        av. saan luis enttre moctezuma y salinas\n",
       "191   132870     cash                                ricardo b. anaya\n",
       "192   132869     cash                                ricardo b. anaya\n",
       "193   132866     cash                                ricardo b. anaya\n",
       "204   132858     cash                                       av. coral\n",
       "205   132856     cash                                plaza del carmen\n",
       "210   132847     cash                       r.b. anaya esq. florencia\n",
       "211   132846     cash              circuito oriente esq. carretera 57\n",
       "212   132845     cash                                   av. seminario\n",
       "213   132834     cash                          sevilla y olmedo 715 a\n",
       "214   132825     cash          esquina santos degollado y leon guzman\n",
       "215   132773     cash               emiliano zapata col. tres de mayo\n",
       "221   132766     cash                himno nacional esq. blvd. juarez\n",
       "226   132754     cash                                  cuauhtemoc 455\n",
       "232   132732     cash                calle mezquite fracc framboyanes\n",
       "239   132667     cash                         calle emilio portes gil\n",
       "242   132613     cash                          lic. emilio portes gil\n",
       "243   132609     cash                                         tampico\n",
       "244   132608     cash                                        cd. mier\n",
       "252   132560     cash                           frente al tecnologico"
      ]
     },
     "execution_count": 41,
     "metadata": {},
     "output_type": "execute_result"
    }
   ],
   "source": [
    "payment_names = accepts.merge(geoplaces, on='placeID')[['placeID', 'Rpayment', 'address']]\n",
    "cash_restaurants = payment_names[payment_names['Rpayment'] == 'cash']\n",
    "other_restaurants = payment_names[payment_names['Rpayment'] != 'cash']\n",
    "only_cash_restaurants = cash_restaurants[~cash_restaurants['placeID'].isin(other_restaurants['placeID'])].dropna(axis='index')\n",
    "only_cash_restaurants"
   ]
  },
  {
   "cell_type": "markdown",
   "metadata": {},
   "source": [
    "In this question, we have to take care of restaurants accepting cash but also other forms of payment. This is why we remove this kind of restaurant in the second to last instruction."
   ]
  },
  {
   "cell_type": "markdown",
   "metadata": {},
   "source": [
    "**Question 10** Name the cities where the restaurants cook and serve ‘fast food’."
   ]
  },
  {
   "cell_type": "code",
   "execution_count": 42,
   "metadata": {},
   "outputs": [
    {
     "data": {
      "text/plain": [
       "array(['san luis potosi', 'soledad', 'cuernavaca', 'victoria'],\n",
       "      dtype=object)"
      ]
     },
     "execution_count": 42,
     "metadata": {},
     "output_type": "execute_result"
    }
   ],
   "source": [
    "cuisine_cities = restaurant_cuisine.merge(geoplaces, on='placeID')[['placeID', 'city', 'Rcuisine']].dropna(axis='index')\n",
    "cuisine_cities[cuisine_cities['Rcuisine'] == 'fast_food']['city'].unique()"
   ]
  },
  {
   "cell_type": "markdown",
   "metadata": {},
   "source": [
    "The cities where customers can find fast food are San Luis Potosi, Soledad, Cuernavaca and Victoria."
   ]
  },
  {
   "cell_type": "markdown",
   "metadata": {},
   "source": [
    "**Question 11** What is the most common 'rating' among customers with family ?"
   ]
  },
  {
   "cell_type": "markdown",
   "metadata": {},
   "source": [
    "This question is ambiguous. Does having a family means being married, having kids, both ? Or is it related to the 'ambience' column is user_profile ? In this answer, I assume it means 'having kids'."
   ]
  },
  {
   "cell_type": "code",
   "execution_count": 43,
   "metadata": {},
   "outputs": [
    {
     "data": {
      "text/plain": [
       "0    39\n",
       "2    28\n",
       "1    15\n",
       "Name: rating, dtype: int64"
      ]
     },
     "execution_count": 43,
     "metadata": {},
     "output_type": "execute_result"
    }
   ],
   "source": [
    "family_rating = rating.merge(user_profile, on='userID')[['rating', 'hijos']]\n",
    "family_rating[family_rating['hijos'] == 'kids']['rating'].value_counts()"
   ]
  },
  {
   "cell_type": "markdown",
   "metadata": {},
   "source": [
    "The most common rating for customers with kids is 0, apparently children prevent people from enjoying their dinner !"
   ]
  },
  {
   "cell_type": "markdown",
   "metadata": {},
   "source": [
    "**Question 12** What types of 'rcuisine' received the highest rank from people with 'low'\n",
    "budget ?"
   ]
  },
  {
   "cell_type": "markdown",
   "metadata": {},
   "source": [
    "In this answer, I assume 'highest rank' means highest rating ('rating' == 2)."
   ]
  },
  {
   "cell_type": "code",
   "execution_count": 44,
   "metadata": {},
   "outputs": [
    {
     "data": {
      "text/plain": [
       "mexican             20\n",
       "bar                 16\n",
       "cafeteria           11\n",
       "international        8\n",
       "fast_food            8\n",
       "seafood              7\n",
       "pizzeria             6\n",
       "american             5\n",
       "chinese              4\n",
       "bar_pub_brewery      3\n",
       "contemporary         3\n",
       "burgers              2\n",
       "bakery               1\n",
       "cafe-coffee_shop     1\n",
       "game                 1\n",
       "Name: Rcuisine, dtype: int64"
      ]
     },
     "execution_count": 44,
     "metadata": {},
     "output_type": "execute_result"
    }
   ],
   "source": [
    "cuisine_rating = rating.merge(user_profile, on='userID')\n",
    "cuisine_rating = cuisine_rating.merge(restaurant_cuisine, on='placeID')\n",
    "cuisine_rating[(cuisine_rating['budget'] == 'low') & (cuisine_rating['rating'] == 2)]['Rcuisine'].value_counts()"
   ]
  },
  {
   "cell_type": "markdown",
   "metadata": {},
   "source": [
    "Among low budget customers, mexican cuisine recieved the most number of highest ratings. We should note that this question could have been understood as \"What kind of cuisine has the highest average rating ?\", in which case the answer is 'international'."
   ]
  },
  {
   "cell_type": "code",
   "execution_count": 45,
   "metadata": {},
   "outputs": [
    {
     "data": {
      "text/plain": [
       "Rcuisine\n",
       "international       1.615\n",
       "bakery              1.500\n",
       "cafe-coffee_shop    1.500\n",
       "game                1.333\n",
       "american            1.214\n",
       "cafeteria           1.179\n",
       "bar                 1.178\n",
       "seafood             1.176\n",
       "chinese             1.111\n",
       "contemporary        1.091\n",
       "bar_pub_brewery     1.083\n",
       "mexican             1.052\n",
       "fast_food           1.040\n",
       "burgers             1.000\n",
       "pizzeria            1.000\n",
       "vietnamese          1.000\n",
       "japanese            0.857\n",
       "italian             0.600\n",
       "breakfast-brunch    0.000\n",
       "Name: rating, dtype: float64"
      ]
     },
     "execution_count": 45,
     "metadata": {},
     "output_type": "execute_result"
    }
   ],
   "source": [
    "cuisine_rating[cuisine_rating['budget'] == 'low'].groupby('Rcuisine').mean()['rating'].round(3).sort_values(ascending=False)"
   ]
  },
  {
   "cell_type": "markdown",
   "metadata": {},
   "source": [
    "**Question 13** What is the average of 'service rating', received from 'social drinkers'\n",
    "about restaurants which just served 'Wine-Beer' ?"
   ]
  },
  {
   "cell_type": "code",
   "execution_count": 46,
   "metadata": {},
   "outputs": [
    {
     "data": {
      "text/plain": [
       "1.386"
      ]
     },
     "execution_count": 46,
     "metadata": {},
     "output_type": "execute_result"
    }
   ],
   "source": [
    "social_rating = rating.merge(user_profile, on='userID')\n",
    "social_rating = social_rating.merge(geoplaces, on='placeID')[['service_rating', 'drink_level', 'alcohol']]\n",
    "filter_ = (social_rating['drink_level'] == 'social drinker') & (social_rating['alcohol'] == 'wine-beer') \n",
    "social_rating[filter_]['service_rating'].mean().round(3)"
   ]
  },
  {
   "cell_type": "markdown",
   "metadata": {},
   "source": [
    "**Question 14** How many smokers gave zero 'service rating' to the restaurants without an\n",
    "open area ?"
   ]
  },
  {
   "cell_type": "code",
   "execution_count": 47,
   "metadata": {},
   "outputs": [
    {
     "data": {
      "text/plain": [
       "15"
      ]
     },
     "execution_count": 47,
     "metadata": {},
     "output_type": "execute_result"
    }
   ],
   "source": [
    "smokers_rating = rating.merge(user_profile, on='userID')\n",
    "smokers_rating = smokers_rating.merge(geoplaces, on='placeID')[['service_rating', 'smoker', 'area', 'userID']]\n",
    "filter_ = (smokers_rating['smoker'] == 'true') & (smokers_rating['area'] == 'closed') & (smokers_rating['service_rating'] == 0)\n",
    "smokers_rating[filter_]['userID'].unique().size"
   ]
  },
  {
   "cell_type": "markdown",
   "metadata": {},
   "source": [
    "15 smokers gave a score of 0 service rating to restaurants. To answer this question, we had to take care not to count people who rated multiple restaurants with a 0 service rating. This is done with the `unique()` method in the last instruction."
   ]
  },
  {
   "cell_type": "markdown",
   "metadata": {},
   "source": [
    "**Question 15** Find the correlation between different rating categories\n",
    "((general) rating, food_rating, service_rating) with the price levels of the\n",
    "restaurants."
   ]
  },
  {
   "cell_type": "code",
   "execution_count": 48,
   "metadata": {},
   "outputs": [
    {
     "data": {
      "text/html": [
       "<div>\n",
       "<style scoped>\n",
       "    .dataframe tbody tr th:only-of-type {\n",
       "        vertical-align: middle;\n",
       "    }\n",
       "\n",
       "    .dataframe tbody tr th {\n",
       "        vertical-align: top;\n",
       "    }\n",
       "\n",
       "    .dataframe thead th {\n",
       "        text-align: right;\n",
       "    }\n",
       "</style>\n",
       "<table border=\"1\" class=\"dataframe\">\n",
       "  <thead>\n",
       "    <tr style=\"text-align: right;\">\n",
       "      <th></th>\n",
       "      <th>rating</th>\n",
       "      <th>food_rating</th>\n",
       "      <th>service_rating</th>\n",
       "    </tr>\n",
       "    <tr>\n",
       "      <th>price</th>\n",
       "      <th></th>\n",
       "      <th></th>\n",
       "      <th></th>\n",
       "    </tr>\n",
       "  </thead>\n",
       "  <tbody>\n",
       "    <tr>\n",
       "      <td>low</td>\n",
       "      <td>1.074</td>\n",
       "      <td>1.134</td>\n",
       "      <td>0.920</td>\n",
       "    </tr>\n",
       "    <tr>\n",
       "      <td>medium</td>\n",
       "      <td>1.253</td>\n",
       "      <td>1.256</td>\n",
       "      <td>1.165</td>\n",
       "    </tr>\n",
       "    <tr>\n",
       "      <td>high</td>\n",
       "      <td>1.256</td>\n",
       "      <td>1.235</td>\n",
       "      <td>1.162</td>\n",
       "    </tr>\n",
       "  </tbody>\n",
       "</table>\n",
       "</div>"
      ],
      "text/plain": [
       "        rating  food_rating  service_rating\n",
       "price                                      \n",
       "low      1.074        1.134           0.920\n",
       "medium   1.253        1.256           1.165\n",
       "high     1.256        1.235           1.162"
      ]
     },
     "execution_count": 48,
     "metadata": {},
     "output_type": "execute_result"
    }
   ],
   "source": [
    "price_rating = rating.merge(geoplaces, on='placeID')[['rating', 'food_rating', 'service_rating', 'price']]\n",
    "price_rating = price_rating.groupby('price').mean().round(3).reindex(['low', 'medium', 'high'])\n",
    "price_rating"
   ]
  },
  {
   "cell_type": "code",
   "execution_count": 49,
   "metadata": {},
   "outputs": [
    {
     "data": {
      "text/plain": [
       "<matplotlib.axes._subplots.AxesSubplot at 0x7effe8d51828>"
      ]
     },
     "execution_count": 49,
     "metadata": {},
     "output_type": "execute_result"
    },
    {
     "data": {
      "image/png": "[encoded data removed]",
      "text/plain": [
       "<Figure size 432x288 with 1 Axes>"
      ]
     },
     "metadata": {
      "needs_background": "light"
     },
     "output_type": "display_data"
    }
   ],
   "source": [
    "price_rating.plot()"
   ]
  },
  {
   "cell_type": "markdown",
   "metadata": {},
   "source": [
    "We observe that lower-priced restaurants get lower average ratings overall than other types of places, but that high-priced restaurants do not get higher ratings than medium-prices ones."
   ]
  }
 ],
 "metadata": {
  "kernelspec": {
   "display_name": "Python 3",
   "language": "python",
   "name": "python3"
  },
  "language_info": {
   "codemirror_mode": {
    "name": "ipython",
    "version": 3
   },
   "file_extension": ".py",
   "mimetype": "text/x-python",
   "name": "python",
   "nbconvert_exporter": "python",
   "pygments_lexer": "ipython3",
   "version": "3.6.8"
  }
 },
 "nbformat": 4,
 "nbformat_minor": 2
}

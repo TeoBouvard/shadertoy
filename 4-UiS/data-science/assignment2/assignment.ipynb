{
 "cells": [
  {
   "cell_type": "markdown",
   "metadata": {},
   "source": [
    "# Assignment 2 - Restaurant and Consumer datasets\n",
    "---"
   ]
  },
  {
   "cell_type": "markdown",
   "metadata": {},
   "source": [
    "## Importing the data"
   ]
  },
  {
   "cell_type": "code",
   "execution_count": 1,
   "metadata": {},
   "outputs": [],
   "source": [
    "import pandas as pd\n",
    "import numpy as np\n",
    "pd.set_option('display.max_rows', 10000)"
   ]
  },
  {
   "cell_type": "code",
   "execution_count": 2,
   "metadata": {},
   "outputs": [],
   "source": [
    "data_accepts = pd.read_csv('data/chefmozaccepts.csv')\n",
    "restaurant_cuisine = pd.read_csv('data/chefmozcuisine.csv')\n",
    "restaurant_hours = pd.read_csv('data/chefmozhours4.csv', names=['placeID', 'hours', 'days'])\n",
    "data_parking = pd.read_csv('data/chefmozparking.csv')\n",
    "geoplaces = pd.read_csv('data/geoplaces2.csv', encoding='latin1')\n",
    "data_rating = pd.read_csv('data/rating_final.csv')\n",
    "data_user_cuisine = pd.read_csv('data/usercuisine.csv')\n",
    "user_payment = pd.read_csv('data/userpayment.csv')\n",
    "user_profile = pd.read_csv('data/userprofile.csv')"
   ]
  },
  {
   "cell_type": "markdown",
   "metadata": {},
   "source": [
    "---\n",
    "## Cleaning the data"
   ]
  },
  {
   "cell_type": "markdown",
   "metadata": {},
   "source": [
    "In this section, I will be using the methods below. The fisrt one replaces missing values by Numpy's NaN. The second one computes the ratio of missing values for every column of a DataFrame. The third one replaces all the strings by their lowercase representation, so as to group related names."
   ]
  },
  {
   "cell_type": "code",
   "execution_count": 3,
   "metadata": {},
   "outputs": [],
   "source": [
    "def normalize_missing(df):\n",
    "    return df.replace(to_replace=['?', 'None', 'none'], value=np.nan)"
   ]
  },
  {
   "cell_type": "code",
   "execution_count": 4,
   "metadata": {},
   "outputs": [],
   "source": [
    "def columns_na_ratio(df):\n",
    "    return (df.isna().sum() / len(df.index)).round(3)"
   ]
  },
  {
   "cell_type": "code",
   "execution_count": 5,
   "metadata": {},
   "outputs": [],
   "source": [
    "def drop_empty_rows(df):\n",
    "    print(int(0.9*len(df.columns)))\n",
    "    return df.dropna(axis='index', thresh=5)"
   ]
  },
  {
   "cell_type": "code",
   "execution_count": 6,
   "metadata": {},
   "outputs": [],
   "source": [
    "def to_lowercase(df):\n",
    "    return df.applymap(lambda x:x.lower() if type(x) == str else x)"
   ]
  },
  {
   "cell_type": "markdown",
   "metadata": {},
   "source": [
    "### Geoplaces"
   ]
  },
  {
   "cell_type": "markdown",
   "metadata": {},
   "source": [
    "First of all, let's clean the geographical dataset by dropping useless columns and checking if it contains any duplicate rows."
   ]
  },
  {
   "cell_type": "code",
   "execution_count": 7,
   "metadata": {},
   "outputs": [
    {
     "name": "stdout",
     "output_type": "stream",
     "text": [
      "0 duplicated rows\n"
     ]
    }
   ],
   "source": [
    "geoplaces.drop(columns=['the_geom_meter', 'fax', 'zip', 'url'], inplace=True)\n",
    "geoplaces = to_lowercase(geoplaces)\n",
    "geoplaces = normalize_missing(geoplaces)\n",
    "print(geoplaces.duplicated().sum(), \"duplicated rows\")"
   ]
  },
  {
   "cell_type": "markdown",
   "metadata": {},
   "source": [
    "This dataset has no duplicated rows, let's group all unavailable values and check if some columns aren't worth looking at."
   ]
  },
  {
   "cell_type": "code",
   "execution_count": 8,
   "metadata": {},
   "outputs": [
    {
     "data": {
      "text/plain": [
       "placeID           0.000\n",
       "latitude          0.000\n",
       "longitude         0.000\n",
       "name              0.000\n",
       "address           0.208\n",
       "city              0.138\n",
       "state             0.138\n",
       "country           0.215\n",
       "alcohol           0.000\n",
       "smoking_area      0.538\n",
       "dress_code        0.000\n",
       "accessibility     0.000\n",
       "price             0.000\n",
       "Rambience         0.000\n",
       "franchise         0.000\n",
       "area              0.000\n",
       "other_services    0.915\n",
       "dtype: float64"
      ]
     },
     "execution_count": 8,
     "metadata": {},
     "output_type": "execute_result"
    }
   ],
   "source": [
    "columns_na_ratio(geoplaces)"
   ]
  },
  {
   "cell_type": "markdown",
   "metadata": {},
   "source": [
    "We can see that 'other services' contains more than 90% of unkwown values, so let's drop this column."
   ]
  },
  {
   "cell_type": "code",
   "execution_count": 9,
   "metadata": {},
   "outputs": [],
   "source": [
    "geoplaces.drop(columns='other_services', inplace=True)"
   ]
  },
  {
   "cell_type": "markdown",
   "metadata": {},
   "source": [
    "### User profile"
   ]
  },
  {
   "cell_type": "code",
   "execution_count": 10,
   "metadata": {},
   "outputs": [
    {
     "name": "stdout",
     "output_type": "stream",
     "text": [
      "0 duplicated rows\n"
     ]
    },
    {
     "data": {
      "text/plain": [
       "userID              0.000\n",
       "latitude            0.000\n",
       "longitude           0.000\n",
       "smoker              0.022\n",
       "drink_level         0.000\n",
       "dress_preference    0.036\n",
       "ambience            0.043\n",
       "transport           0.051\n",
       "marital_status      0.029\n",
       "hijos               0.080\n",
       "birth_year          0.000\n",
       "interest            0.217\n",
       "personality         0.000\n",
       "religion            0.217\n",
       "activity            0.051\n",
       "color               0.000\n",
       "weight              0.000\n",
       "budget              0.051\n",
       "height              0.000\n",
       "dtype: float64"
      ]
     },
     "execution_count": 10,
     "metadata": {},
     "output_type": "execute_result"
    }
   ],
   "source": [
    "user_profile = to_lowercase(user_profile)\n",
    "user_profile = normalize_missing(user_profile)\n",
    "print(user_profile['userID'].duplicated().sum(), \"duplicated rows\")\n",
    "columns_na_ratio(user_profile)"
   ]
  },
  {
   "cell_type": "markdown",
   "metadata": {},
   "source": [
    "We made sure that each row represents a different user, as there are no duplicated userID.\n",
    "We can drop 'interest' and 'religion' columns as they both have 20% unknown values and we won't be using them in the questions."
   ]
  },
  {
   "cell_type": "code",
   "execution_count": 11,
   "metadata": {},
   "outputs": [],
   "source": [
    "user_profile.drop(columns=['interest', 'religion'], inplace=True)"
   ]
  },
  {
   "cell_type": "markdown",
   "metadata": {},
   "source": [
    "### User payments"
   ]
  },
  {
   "cell_type": "code",
   "execution_count": 12,
   "metadata": {},
   "outputs": [
    {
     "name": "stdout",
     "output_type": "stream",
     "text": [
      "0 duplicated rows\n",
      "44 duplicated rows\n"
     ]
    },
    {
     "data": {
      "text/plain": [
       "userID      0.0\n",
       "Upayment    0.0\n",
       "dtype: float64"
      ]
     },
     "execution_count": 12,
     "metadata": {},
     "output_type": "execute_result"
    }
   ],
   "source": [
    "user_payment = to_lowercase(user_payment)\n",
    "user_payment = normalize_missing(user_payment)\n",
    "print(user_payment.duplicated().sum(), \"duplicated rows\")\n",
    "print(user_payment['userID'].duplicated().sum(), \"duplicated rows\")\n",
    "columns_na_ratio(user_payment)"
   ]
  },
  {
   "cell_type": "markdown",
   "metadata": {},
   "source": [
    "This DataFrame is already clean, with no missing value and no duplicated rows. It is important to note that some clients have multiple means of payment."
   ]
  },
  {
   "cell_type": "markdown",
   "metadata": {},
   "source": [
    "## Restaurant Hours"
   ]
  },
  {
   "cell_type": "code",
   "execution_count": 13,
   "metadata": {},
   "outputs": [
    {
     "name": "stdout",
     "output_type": "stream",
     "text": [
      "271 duplicated rows\n"
     ]
    },
    {
     "data": {
      "text/plain": [
       "placeID    0.0\n",
       "hours      0.0\n",
       "days       0.0\n",
       "dtype: float64"
      ]
     },
     "execution_count": 13,
     "metadata": {},
     "output_type": "execute_result"
    }
   ],
   "source": [
    "restaurant_hours = to_lowercase(restaurant_hours)\n",
    "restaurant_hours = normalize_missing(restaurant_hours)\n",
    "print(restaurant_hours.duplicated().sum(), \"duplicated rows\")\n",
    "columns_na_ratio(restaurant_hours)"
   ]
  },
  {
   "cell_type": "markdown",
   "metadata": {},
   "source": [
    "This DataFrame has a lot of duplicated rows, let's remove them."
   ]
  },
  {
   "cell_type": "code",
   "execution_count": 14,
   "metadata": {
    "scrolled": true
   },
   "outputs": [
    {
     "name": "stdout",
     "output_type": "stream",
     "text": [
      "0 duplicated rows\n"
     ]
    }
   ],
   "source": [
    "restaurant_hours.drop_duplicates(inplace=True)\n",
    "print(restaurant_hours.duplicated().sum(), \"duplicated rows\")"
   ]
  },
  {
   "cell_type": "markdown",
   "metadata": {},
   "source": [
    "## Restaurant Cuisine"
   ]
  },
  {
   "cell_type": "code",
   "execution_count": 15,
   "metadata": {},
   "outputs": [
    {
     "name": "stdout",
     "output_type": "stream",
     "text": [
      "0 duplicated rows\n",
      "147 duplicated restaurants\n"
     ]
    },
    {
     "data": {
      "text/plain": [
       "placeID     0.0\n",
       "Rcuisine    0.0\n",
       "dtype: float64"
      ]
     },
     "execution_count": 15,
     "metadata": {},
     "output_type": "execute_result"
    }
   ],
   "source": [
    "restaurant_cuisine = to_lowercase(restaurant_cuisine)\n",
    "restaurant_cuisine = normalize_missing(restaurant_cuisine)\n",
    "print(restaurant_cuisine.duplicated().sum(), \"duplicated rows\")\n",
    "print(restaurant_cuisine['placeID'].duplicated().sum(), \"duplicated restaurants\")\n",
    "columns_na_ratio(restaurant_cuisine)"
   ]
  },
  {
   "cell_type": "markdown",
   "metadata": {},
   "source": [
    "There are no duplicated rows and this DataFrame is already clean. It is important to note that some restaurants offer multiple types of cuisine."
   ]
  },
  {
   "cell_type": "markdown",
   "metadata": {},
   "source": [
    "---\n",
    "## Questions - Part 1"
   ]
  },
  {
   "cell_type": "markdown",
   "metadata": {},
   "source": [
    "**Question 1**\n",
    "What are the names of different restaurants in the state of 'tamaulipas' ?"
   ]
  },
  {
   "cell_type": "code",
   "execution_count": 16,
   "metadata": {},
   "outputs": [
    {
     "data": {
      "text/plain": [
       "3             little pizza emilio portes gil\n",
       "4                              carnitas_mata\n",
       "6                         taqueria el amigo \n",
       "8                   pollo_frito_buenos_aires\n",
       "19                            tacos el guero\n",
       "41                    hamburguesas la perica\n",
       "73                                palomo tec\n",
       "76                        tacos correcaminos\n",
       "86             carreton de flautas y migadas\n",
       "89                        gorditas dona tota\n",
       "94                             little cesarz\n",
       "103    carnitas mata  calle 16 de septiembre\n",
       "106                       puesto de gorditas\n",
       "109    carnitas mata calle emilio portes gil\n",
       "122                                tacos abi\n",
       "123                    la perica hamburguesa\n",
       "Name: name, dtype: object"
      ]
     },
     "execution_count": 16,
     "metadata": {},
     "output_type": "execute_result"
    }
   ],
   "source": [
    "geoplaces[geoplaces['state'] == 'tamaulipas']['name']"
   ]
  },
  {
   "cell_type": "markdown",
   "metadata": {},
   "source": [
    "**Question 2**\n",
    "How many different customers used public transport for going to the\n",
    "restaurants ?\n",
    "\n",
    "For this question, I assume each entry in 'user profile' is someone who actually went to the restaurants, as this dataset is collected from people going to restaurants."
   ]
  },
  {
   "cell_type": "code",
   "execution_count": 17,
   "metadata": {},
   "outputs": [
    {
     "data": {
      "text/plain": [
       "public       82\n",
       "car owner    35\n",
       "on foot      14\n",
       "Name: transport, dtype: int64"
      ]
     },
     "execution_count": 17,
     "metadata": {},
     "output_type": "execute_result"
    }
   ],
   "source": [
    "user_profile['transport'].value_counts()"
   ]
  },
  {
   "cell_type": "markdown",
   "metadata": {},
   "source": [
    "We see that 82 customers used public transport."
   ]
  },
  {
   "cell_type": "markdown",
   "metadata": {},
   "source": [
    "**Question 3** What is the least popular payment method among customers ?\n"
   ]
  },
  {
   "cell_type": "code",
   "execution_count": 18,
   "metadata": {},
   "outputs": [
    {
     "data": {
      "text/plain": [
       "cash                   131\n",
       "bank_debit_cards        22\n",
       "visa                    17\n",
       "mastercard-eurocard      4\n",
       "american_express         3\n",
       "Name: Upayment, dtype: int64"
      ]
     },
     "execution_count": 18,
     "metadata": {},
     "output_type": "execute_result"
    }
   ],
   "source": [
    "user_payment['Upayment'].value_counts()"
   ]
  },
  {
   "cell_type": "code",
   "execution_count": 19,
   "metadata": {},
   "outputs": [
    {
     "data": {
      "text/plain": [
       "userID      0.016949\n",
       "Upayment    0.016949\n",
       "dtype: float64"
      ]
     },
     "execution_count": 19,
     "metadata": {},
     "output_type": "execute_result"
    }
   ],
   "source": [
    "user_payment[user_payment['Upayment'] == 'american_express'].count() / user_payment.count()"
   ]
  },
  {
   "cell_type": "markdown",
   "metadata": {},
   "source": [
    "The american express is the least popular payment method, with less than 2% of payments done via this method."
   ]
  },
  {
   "cell_type": "markdown",
   "metadata": {},
   "source": [
    "**Question 4** How many (different) restaurants work until 19:00 in the evenings ?"
   ]
  },
  {
   "cell_type": "markdown",
   "metadata": {},
   "source": [
    "This question is ambiguous. Does it mean restaurants working *at least* until 19:00 or restaurants working until 19:00 and then closing ? In the answer, I assume the question seeks to find restaurants closing at 19:00."
   ]
  },
  {
   "cell_type": "code",
   "execution_count": 29,
   "metadata": {},
   "outputs": [
    {
     "data": {
      "text/plain": [
       "28"
      ]
     },
     "execution_count": 29,
     "metadata": {},
     "output_type": "execute_result"
    }
   ],
   "source": [
    "restaurant_hours[restaurant_hours['hours'].str.contains('19:00;')]['placeID'].nunique()"
   ]
  },
  {
   "cell_type": "markdown",
   "metadata": {},
   "source": [
    "28 different restaurants are open until 19:00, and then close."
   ]
  },
  {
   "cell_type": "markdown",
   "metadata": {},
   "source": [
    "**Question 5** Which type of cooking practice (rcuisine) is the most common among\n",
    "restaurants ?"
   ]
  },
  {
   "cell_type": "code",
   "execution_count": 21,
   "metadata": {},
   "outputs": [
    {
     "data": {
      "text/plain": [
       "mexican          239\n",
       "international     62\n",
       "american          59\n",
       "dutch-belgian     55\n",
       "italian           42\n",
       "Name: Rcuisine, dtype: int64"
      ]
     },
     "execution_count": 21,
     "metadata": {},
     "output_type": "execute_result"
    }
   ],
   "source": [
    "restaurant_cuisine['Rcuisine'].value_counts().head()"
   ]
  },
  {
   "cell_type": "code",
   "execution_count": 22,
   "metadata": {},
   "outputs": [
    {
     "data": {
      "text/plain": [
       "placeID     0.260917\n",
       "Rcuisine    0.260917\n",
       "dtype: float64"
      ]
     },
     "execution_count": 22,
     "metadata": {},
     "output_type": "execute_result"
    }
   ],
   "source": [
    "restaurant_cuisine[restaurant_cuisine['Rcuisine'] == 'mexican'].count() / restaurant_cuisine.count()"
   ]
  },
  {
   "cell_type": "markdown",
   "metadata": {},
   "source": [
    "The most common cooking practice is mexican food, with more than 25% of the restaurants serving mexican."
   ]
  },
  {
   "cell_type": "markdown",
   "metadata": {},
   "source": [
    "**Question 6** What is the percentage of customers who were born between 1980 and\n",
    "1990 ?"
   ]
  },
  {
   "cell_type": "code",
   "execution_count": 23,
   "metadata": {},
   "outputs": [
    {
     "data": {
      "text/plain": [
       "0.6304347826086957"
      ]
     },
     "execution_count": 23,
     "metadata": {},
     "output_type": "execute_result"
    }
   ],
   "source": [
    "(user_profile[(user_profile['birth_year'] >= 1980) & (user_profile['birth_year'] <= 1990)].count() / user_profile.count())['userID']"
   ]
  },
  {
   "cell_type": "markdown",
   "metadata": {},
   "source": [
    "63% of customers were born between 1980 and 1990 included."
   ]
  },
  {
   "cell_type": "markdown",
   "metadata": {},
   "source": [
    "**Question 7** What is the percentage of students with a medium budget preferring\n",
    "walking to the restaurants ?"
   ]
  },
  {
   "cell_type": "code",
   "execution_count": 24,
   "metadata": {
    "scrolled": true
   },
   "outputs": [
    {
     "data": {
      "text/plain": [
       "public       43\n",
       "car owner    18\n",
       "on foot       8\n",
       "Name: transport, dtype: int64"
      ]
     },
     "execution_count": 24,
     "metadata": {},
     "output_type": "execute_result"
    }
   ],
   "source": [
    "students_medium = user_profile[(user_profile['activity'] == 'student') & (user_profile['budget'] == 'medium')]\n",
    "students_medium['transport'].value_counts()"
   ]
  },
  {
   "cell_type": "code",
   "execution_count": 25,
   "metadata": {},
   "outputs": [
    {
     "data": {
      "text/plain": [
       "0.11267605633802817"
      ]
     },
     "execution_count": 25,
     "metadata": {},
     "output_type": "execute_result"
    }
   ],
   "source": [
    "(students_medium[students_medium['transport'] == 'on foot'].count() / students_medium.count())['userID']"
   ]
  },
  {
   "cell_type": "markdown",
   "metadata": {},
   "source": [
    "11% of students with a medium budget prefer walking to the restaurants."
   ]
  },
  {
   "cell_type": "markdown",
   "metadata": {},
   "source": [
    "---\n",
    "## Questions - Part 2"
   ]
  },
  {
   "cell_type": "markdown",
   "metadata": {},
   "source": [
    "**Question 8** What are the names of restaurants that do not have public parking lots ?"
   ]
  },
  {
   "cell_type": "markdown",
   "metadata": {},
   "source": [
    "**Question 9** What are the addresses of restaurants which only accept cash ?"
   ]
  },
  {
   "cell_type": "markdown",
   "metadata": {},
   "source": [
    "**Question 10** Name the cities where the restaurants cook and serve ‘fast food’."
   ]
  },
  {
   "cell_type": "markdown",
   "metadata": {},
   "source": [
    "**Question 11** What are the names of restaurants that do not have public parking lots?"
   ]
  },
  {
   "cell_type": "markdown",
   "metadata": {},
   "source": [
    "**Question 12** What are the names of restaurants that do not have public parking lots?"
   ]
  },
  {
   "cell_type": "markdown",
   "metadata": {},
   "source": [
    "**Question 13** What are the names of restaurants that do not have public parking lots?"
   ]
  }
 ],
 "metadata": {
  "kernelspec": {
   "display_name": "Python 3",
   "language": "python",
   "name": "python3"
  },
  "language_info": {
   "codemirror_mode": {
    "name": "ipython",
    "version": 3
   },
   "file_extension": ".py",
   "mimetype": "text/x-python",
   "name": "python",
   "nbconvert_exporter": "python",
   "pygments_lexer": "ipython3",
   "version": "3.6.8"
  }
 },
 "nbformat": 4,
 "nbformat_minor": 2
}

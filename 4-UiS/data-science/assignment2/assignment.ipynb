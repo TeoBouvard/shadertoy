{
 "cells": [
  {
   "cell_type": "markdown",
   "metadata": {},
   "source": [
    "# Assignment 2 - Restaurant and Consumer datasets\n",
    "---"
   ]
  },
  {
   "cell_type": "markdown",
   "metadata": {},
   "source": [
    "## Importing the data"
   ]
  },
  {
   "cell_type": "code",
   "execution_count": 1,
   "metadata": {},
   "outputs": [],
   "source": [
    "import pandas as pd\n",
    "import numpy as np\n",
    "pd.set_option('display.max_rows', 10000)"
   ]
  },
  {
   "cell_type": "code",
   "execution_count": 2,
   "metadata": {},
   "outputs": [],
   "source": [
    "accepts = pd.read_csv('data/chefmozaccepts.csv')\n",
    "restaurant_cuisine = pd.read_csv('data/chefmozcuisine.csv')\n",
    "restaurant_hours = pd.read_csv('data/chefmozhours4.csv', names=['placeID', 'hours', 'days'])\n",
    "restaurant_parking = pd.read_csv('data/chefmozparking.csv')\n",
    "geoplaces = pd.read_csv('data/geoplaces2.csv', encoding='latin1')\n",
    "user_rating = pd.read_csv('data/rating_final.csv')\n",
    "data_user_cuisine = pd.read_csv('data/usercuisine.csv')\n",
    "user_payment = pd.read_csv('data/userpayment.csv')\n",
    "user_profile = pd.read_csv('data/userprofile.csv')"
   ]
  },
  {
   "cell_type": "markdown",
   "metadata": {},
   "source": [
    "---\n",
    "## Cleaning the data"
   ]
  },
  {
   "cell_type": "markdown",
   "metadata": {},
   "source": [
    "In this section, I will be using the methods below. The fisrt one replaces missing values by Numpy's NaN. The second one computes the ratio of missing values for every column of a DataFrame. The third one replaces all the strings by their lowercase representation, so as to group related names."
   ]
  },
  {
   "cell_type": "code",
   "execution_count": 3,
   "metadata": {},
   "outputs": [],
   "source": [
    "def normalize(df):\n",
    "    df = df.applymap(lambda x:x.lower() if type(x) == str else x)\n",
    "    df.replace(to_replace=['?', 'None', 'none'], value=np.nan, inplace=True)\n",
    "    return df"
   ]
  },
  {
   "cell_type": "code",
   "execution_count": 4,
   "metadata": {},
   "outputs": [],
   "source": [
    "def columns_na_ratio(df):\n",
    "    return (df.isna().sum() / len(df.index)).round(3)"
   ]
  },
  {
   "cell_type": "code",
   "execution_count": 5,
   "metadata": {},
   "outputs": [],
   "source": [
    "def drop_empty_rows(df):\n",
    "    print(int(0.9*len(df.columns)))\n",
    "    return df.dropna(axis='index', thresh=5)"
   ]
  },
  {
   "cell_type": "markdown",
   "metadata": {},
   "source": [
    "### Geoplaces"
   ]
  },
  {
   "cell_type": "markdown",
   "metadata": {},
   "source": [
    "First of all, let's clean the geographical dataset by dropping useless columns and checking if it contains any duplicate rows."
   ]
  },
  {
   "cell_type": "code",
   "execution_count": 6,
   "metadata": {},
   "outputs": [
    {
     "name": "stdout",
     "output_type": "stream",
     "text": [
      "0 duplicated rows\n"
     ]
    }
   ],
   "source": [
    "geoplaces.drop(columns=['the_geom_meter', 'fax', 'zip', 'url'], inplace=True)\n",
    "geoplaces = normalize(geoplaces)\n",
    "print(geoplaces.duplicated().sum(), \"duplicated rows\")"
   ]
  },
  {
   "cell_type": "markdown",
   "metadata": {},
   "source": [
    "This dataset has no duplicated rows, let's group all unavailable values and check if some columns aren't worth looking at."
   ]
  },
  {
   "cell_type": "code",
   "execution_count": 7,
   "metadata": {},
   "outputs": [
    {
     "data": {
      "text/plain": [
       "placeID           0.000\n",
       "latitude          0.000\n",
       "longitude         0.000\n",
       "name              0.000\n",
       "address           0.208\n",
       "city              0.138\n",
       "state             0.138\n",
       "country           0.215\n",
       "alcohol           0.000\n",
       "smoking_area      0.538\n",
       "dress_code        0.000\n",
       "accessibility     0.000\n",
       "price             0.000\n",
       "Rambience         0.000\n",
       "franchise         0.000\n",
       "area              0.000\n",
       "other_services    0.915\n",
       "dtype: float64"
      ]
     },
     "execution_count": 7,
     "metadata": {},
     "output_type": "execute_result"
    }
   ],
   "source": [
    "columns_na_ratio(geoplaces)"
   ]
  },
  {
   "cell_type": "markdown",
   "metadata": {},
   "source": [
    "We can see that 'other services' contains more than 90% of unkwown values, so let's drop this column."
   ]
  },
  {
   "cell_type": "code",
   "execution_count": 8,
   "metadata": {},
   "outputs": [],
   "source": [
    "geoplaces.drop(columns='other_services', inplace=True)"
   ]
  },
  {
   "cell_type": "markdown",
   "metadata": {},
   "source": [
    "### User profile"
   ]
  },
  {
   "cell_type": "code",
   "execution_count": 9,
   "metadata": {},
   "outputs": [
    {
     "name": "stdout",
     "output_type": "stream",
     "text": [
      "0 duplicated rows\n"
     ]
    },
    {
     "data": {
      "text/plain": [
       "userID              0.000\n",
       "latitude            0.000\n",
       "longitude           0.000\n",
       "smoker              0.022\n",
       "drink_level         0.000\n",
       "dress_preference    0.036\n",
       "ambience            0.043\n",
       "transport           0.051\n",
       "marital_status      0.029\n",
       "hijos               0.080\n",
       "birth_year          0.000\n",
       "interest            0.217\n",
       "personality         0.000\n",
       "religion            0.217\n",
       "activity            0.051\n",
       "color               0.000\n",
       "weight              0.000\n",
       "budget              0.051\n",
       "height              0.000\n",
       "dtype: float64"
      ]
     },
     "execution_count": 9,
     "metadata": {},
     "output_type": "execute_result"
    }
   ],
   "source": [
    "user_profile = normalize(user_profile)\n",
    "print(user_profile['userID'].duplicated().sum(), \"duplicated rows\")\n",
    "columns_na_ratio(user_profile)"
   ]
  },
  {
   "cell_type": "markdown",
   "metadata": {},
   "source": [
    "We made sure that each row represents a different user, as there are no duplicated userID.\n",
    "We can drop 'interest' and 'religion' columns as they both have 20% unknown values and we won't be using them in the questions."
   ]
  },
  {
   "cell_type": "code",
   "execution_count": 10,
   "metadata": {},
   "outputs": [],
   "source": [
    "user_profile.drop(columns=['interest', 'religion'], inplace=True)"
   ]
  },
  {
   "cell_type": "markdown",
   "metadata": {},
   "source": [
    "### User payments"
   ]
  },
  {
   "cell_type": "code",
   "execution_count": 11,
   "metadata": {},
   "outputs": [
    {
     "name": "stdout",
     "output_type": "stream",
     "text": [
      "0 duplicated rows\n",
      "44 duplicated rows\n"
     ]
    },
    {
     "data": {
      "text/plain": [
       "userID      0.0\n",
       "Upayment    0.0\n",
       "dtype: float64"
      ]
     },
     "execution_count": 11,
     "metadata": {},
     "output_type": "execute_result"
    }
   ],
   "source": [
    "user_payment = normalize(user_payment)\n",
    "print(user_payment.duplicated().sum(), \"duplicated rows\")\n",
    "print(user_payment['userID'].duplicated().sum(), \"duplicated rows\")\n",
    "columns_na_ratio(user_payment)"
   ]
  },
  {
   "cell_type": "markdown",
   "metadata": {},
   "source": [
    "This DataFrame is already clean, with no missing value and no duplicated rows. It is important to note that some clients have multiple means of payment."
   ]
  },
  {
   "cell_type": "markdown",
   "metadata": {},
   "source": [
    "## User ratings"
   ]
  },
  {
   "cell_type": "code",
   "execution_count": 12,
   "metadata": {},
   "outputs": [
    {
     "name": "stdout",
     "output_type": "stream",
     "text": [
      "0 duplicated rows\n"
     ]
    },
    {
     "data": {
      "text/plain": [
       "userID            0.0\n",
       "placeID           0.0\n",
       "rating            0.0\n",
       "food_rating       0.0\n",
       "service_rating    0.0\n",
       "dtype: float64"
      ]
     },
     "execution_count": 12,
     "metadata": {},
     "output_type": "execute_result"
    }
   ],
   "source": [
    "user_rating = normalize(user_rating)\n",
    "print(user_rating.duplicated().sum(), \"duplicated rows\")\n",
    "columns_na_ratio(user_rating)"
   ]
  },
  {
   "cell_type": "markdown",
   "metadata": {},
   "source": [
    "This DataFrame is already clean."
   ]
  },
  {
   "cell_type": "markdown",
   "metadata": {},
   "source": [
    "## Restaurant Hours"
   ]
  },
  {
   "cell_type": "code",
   "execution_count": 13,
   "metadata": {},
   "outputs": [
    {
     "name": "stdout",
     "output_type": "stream",
     "text": [
      "271 duplicated rows\n"
     ]
    },
    {
     "data": {
      "text/plain": [
       "placeID    0.0\n",
       "hours      0.0\n",
       "days       0.0\n",
       "dtype: float64"
      ]
     },
     "execution_count": 13,
     "metadata": {},
     "output_type": "execute_result"
    }
   ],
   "source": [
    "restaurant_hours = normalize(restaurant_hours)\n",
    "print(restaurant_hours.duplicated().sum(), \"duplicated rows\")\n",
    "columns_na_ratio(restaurant_hours)"
   ]
  },
  {
   "cell_type": "markdown",
   "metadata": {},
   "source": [
    "This DataFrame has a lot of duplicated rows, let's remove them."
   ]
  },
  {
   "cell_type": "code",
   "execution_count": 14,
   "metadata": {
    "scrolled": true
   },
   "outputs": [
    {
     "name": "stdout",
     "output_type": "stream",
     "text": [
      "0 duplicated rows\n"
     ]
    }
   ],
   "source": [
    "restaurant_hours.drop_duplicates(inplace=True)\n",
    "print(restaurant_hours.duplicated().sum(), \"duplicated rows\")"
   ]
  },
  {
   "cell_type": "markdown",
   "metadata": {},
   "source": [
    "## Restaurant Cuisine"
   ]
  },
  {
   "cell_type": "code",
   "execution_count": 15,
   "metadata": {},
   "outputs": [
    {
     "name": "stdout",
     "output_type": "stream",
     "text": [
      "0 duplicated rows\n",
      "147 duplicated restaurants\n"
     ]
    },
    {
     "data": {
      "text/plain": [
       "placeID     0.0\n",
       "Rcuisine    0.0\n",
       "dtype: float64"
      ]
     },
     "execution_count": 15,
     "metadata": {},
     "output_type": "execute_result"
    }
   ],
   "source": [
    "restaurant_cuisine = normalize(restaurant_cuisine)\n",
    "print(restaurant_cuisine.duplicated().sum(), \"duplicated rows\")\n",
    "print(restaurant_cuisine['placeID'].duplicated().sum(), \"duplicated restaurants\")\n",
    "columns_na_ratio(restaurant_cuisine)"
   ]
  },
  {
   "cell_type": "markdown",
   "metadata": {},
   "source": [
    "There are no duplicated rows and this DataFrame is already clean. It is important to note that some restaurants offer multiple types of cuisine."
   ]
  },
  {
   "cell_type": "markdown",
   "metadata": {},
   "source": [
    "## Restaurant Parking"
   ]
  },
  {
   "cell_type": "code",
   "execution_count": 16,
   "metadata": {},
   "outputs": [
    {
     "name": "stdout",
     "output_type": "stream",
     "text": [
      "0 duplicated rows\n",
      "27 duplicated rows\n"
     ]
    },
    {
     "data": {
      "text/plain": [
       "placeID        0.000\n",
       "parking_lot    0.496\n",
       "dtype: float64"
      ]
     },
     "execution_count": 16,
     "metadata": {},
     "output_type": "execute_result"
    }
   ],
   "source": [
    "restaurant_parking = normalize(restaurant_parking)\n",
    "print(restaurant_parking.duplicated().sum(), \"duplicated rows\")\n",
    "print(restaurant_parking['placeID'].duplicated().sum(), \"duplicated rows\")\n",
    "columns_na_ratio(restaurant_parking)"
   ]
  },
  {
   "cell_type": "markdown",
   "metadata": {},
   "source": [
    "As we have observed before, this DataFrame does not contain duplicated rows but some restaurant offer multiple types of parking. We can also see that nearly half of the restaurants do not have a parking."
   ]
  },
  {
   "cell_type": "markdown",
   "metadata": {},
   "source": [
    "## Payments Accepted"
   ]
  },
  {
   "cell_type": "code",
   "execution_count": 17,
   "metadata": {},
   "outputs": [
    {
     "name": "stdout",
     "output_type": "stream",
     "text": [
      "0 duplicated rows\n"
     ]
    },
    {
     "data": {
      "text/plain": [
       "placeID     0.0\n",
       "Rpayment    0.0\n",
       "dtype: float64"
      ]
     },
     "execution_count": 17,
     "metadata": {},
     "output_type": "execute_result"
    }
   ],
   "source": [
    "accepts = normalize(accepts)\n",
    "print(accepts.duplicated().sum(), \"duplicated rows\")\n",
    "columns_na_ratio(accepts)"
   ]
  },
  {
   "cell_type": "markdown",
   "metadata": {},
   "source": [
    "This DataFrame does not require cleaning."
   ]
  },
  {
   "cell_type": "markdown",
   "metadata": {},
   "source": [
    "---\n",
    "## Questions - Part 1"
   ]
  },
  {
   "cell_type": "markdown",
   "metadata": {},
   "source": [
    "**Question 1**\n",
    "What are the names of different restaurants in the state of 'tamaulipas' ?"
   ]
  },
  {
   "cell_type": "code",
   "execution_count": 18,
   "metadata": {},
   "outputs": [
    {
     "data": {
      "text/plain": [
       "3             little pizza emilio portes gil\n",
       "4                              carnitas_mata\n",
       "6                         taqueria el amigo \n",
       "8                   pollo_frito_buenos_aires\n",
       "19                            tacos el guero\n",
       "41                    hamburguesas la perica\n",
       "73                                palomo tec\n",
       "76                        tacos correcaminos\n",
       "86             carreton de flautas y migadas\n",
       "89                        gorditas dona tota\n",
       "94                             little cesarz\n",
       "103    carnitas mata  calle 16 de septiembre\n",
       "106                       puesto de gorditas\n",
       "109    carnitas mata calle emilio portes gil\n",
       "122                                tacos abi\n",
       "123                    la perica hamburguesa\n",
       "Name: name, dtype: object"
      ]
     },
     "execution_count": 18,
     "metadata": {},
     "output_type": "execute_result"
    }
   ],
   "source": [
    "geoplaces[geoplaces['state'] == 'tamaulipas']['name']"
   ]
  },
  {
   "cell_type": "markdown",
   "metadata": {},
   "source": [
    "**Question 2**\n",
    "How many different customers used public transport for going to the\n",
    "restaurants ?\n",
    "\n",
    "For this question, I assume each entry in 'user profile' is someone who actually went to the restaurants, as this dataset is collected from people going to restaurants."
   ]
  },
  {
   "cell_type": "code",
   "execution_count": 19,
   "metadata": {},
   "outputs": [
    {
     "data": {
      "text/plain": [
       "public       82\n",
       "car owner    35\n",
       "on foot      14\n",
       "Name: transport, dtype: int64"
      ]
     },
     "execution_count": 19,
     "metadata": {},
     "output_type": "execute_result"
    }
   ],
   "source": [
    "user_profile['transport'].value_counts()"
   ]
  },
  {
   "cell_type": "markdown",
   "metadata": {},
   "source": [
    "We see that 82 customers used public transport."
   ]
  },
  {
   "cell_type": "markdown",
   "metadata": {},
   "source": [
    "**Question 3** What is the least popular payment method among customers ?\n"
   ]
  },
  {
   "cell_type": "code",
   "execution_count": 20,
   "metadata": {},
   "outputs": [
    {
     "data": {
      "text/plain": [
       "cash                   131\n",
       "bank_debit_cards        22\n",
       "visa                    17\n",
       "mastercard-eurocard      4\n",
       "american_express         3\n",
       "Name: Upayment, dtype: int64"
      ]
     },
     "execution_count": 20,
     "metadata": {},
     "output_type": "execute_result"
    }
   ],
   "source": [
    "user_payment['Upayment'].value_counts()"
   ]
  },
  {
   "cell_type": "code",
   "execution_count": 21,
   "metadata": {},
   "outputs": [
    {
     "data": {
      "text/plain": [
       "userID      0.016949\n",
       "Upayment    0.016949\n",
       "dtype: float64"
      ]
     },
     "execution_count": 21,
     "metadata": {},
     "output_type": "execute_result"
    }
   ],
   "source": [
    "user_payment[user_payment['Upayment'] == 'american_express'].count() / user_payment.count()"
   ]
  },
  {
   "cell_type": "markdown",
   "metadata": {},
   "source": [
    "The american express is the least popular payment method, with less than 2% of payments done via this method."
   ]
  },
  {
   "cell_type": "markdown",
   "metadata": {},
   "source": [
    "**Question 4** How many (different) restaurants work until 19:00 in the evenings ?"
   ]
  },
  {
   "cell_type": "markdown",
   "metadata": {},
   "source": [
    "This question is ambiguous. Does it mean restaurants working *at least* until 19:00 or restaurants working until 19:00 and then closing ? In the answer, I assume the question seeks to find restaurants closing at 19:00."
   ]
  },
  {
   "cell_type": "code",
   "execution_count": 22,
   "metadata": {},
   "outputs": [
    {
     "data": {
      "text/plain": [
       "28"
      ]
     },
     "execution_count": 22,
     "metadata": {},
     "output_type": "execute_result"
    }
   ],
   "source": [
    "restaurant_hours[restaurant_hours['hours'].str.contains('19:00;')]['placeID'].nunique()"
   ]
  },
  {
   "cell_type": "markdown",
   "metadata": {},
   "source": [
    "28 different restaurants are open until 19:00, and then close."
   ]
  },
  {
   "cell_type": "markdown",
   "metadata": {},
   "source": [
    "**Question 5** Which type of cooking practice (rcuisine) is the most common among\n",
    "restaurants ?"
   ]
  },
  {
   "cell_type": "code",
   "execution_count": 23,
   "metadata": {},
   "outputs": [
    {
     "data": {
      "text/plain": [
       "mexican          239\n",
       "international     62\n",
       "american          59\n",
       "dutch-belgian     55\n",
       "italian           42\n",
       "Name: Rcuisine, dtype: int64"
      ]
     },
     "execution_count": 23,
     "metadata": {},
     "output_type": "execute_result"
    }
   ],
   "source": [
    "restaurant_cuisine['Rcuisine'].value_counts().head()"
   ]
  },
  {
   "cell_type": "code",
   "execution_count": 24,
   "metadata": {},
   "outputs": [
    {
     "data": {
      "text/plain": [
       "placeID     0.260917\n",
       "Rcuisine    0.260917\n",
       "dtype: float64"
      ]
     },
     "execution_count": 24,
     "metadata": {},
     "output_type": "execute_result"
    }
   ],
   "source": [
    "restaurant_cuisine[restaurant_cuisine['Rcuisine'] == 'mexican'].count() / restaurant_cuisine.count()"
   ]
  },
  {
   "cell_type": "markdown",
   "metadata": {},
   "source": [
    "The most common cooking practice is mexican food, with more than 25% of the restaurants serving mexican."
   ]
  },
  {
   "cell_type": "markdown",
   "metadata": {},
   "source": [
    "**Question 6** What is the percentage of customers who were born between 1980 and\n",
    "1990 ?"
   ]
  },
  {
   "cell_type": "code",
   "execution_count": 25,
   "metadata": {},
   "outputs": [
    {
     "data": {
      "text/plain": [
       "0.6304347826086957"
      ]
     },
     "execution_count": 25,
     "metadata": {},
     "output_type": "execute_result"
    }
   ],
   "source": [
    "(user_profile[(user_profile['birth_year'] >= 1980) & (user_profile['birth_year'] <= 1990)].count() / user_profile.count())['userID']"
   ]
  },
  {
   "cell_type": "markdown",
   "metadata": {},
   "source": [
    "63% of customers were born between 1980 and 1990 included."
   ]
  },
  {
   "cell_type": "markdown",
   "metadata": {},
   "source": [
    "**Question 7** What is the percentage of students with a medium budget preferring\n",
    "walking to the restaurants ?"
   ]
  },
  {
   "cell_type": "code",
   "execution_count": 26,
   "metadata": {
    "scrolled": true
   },
   "outputs": [
    {
     "data": {
      "text/plain": [
       "public       43\n",
       "car owner    18\n",
       "on foot       8\n",
       "Name: transport, dtype: int64"
      ]
     },
     "execution_count": 26,
     "metadata": {},
     "output_type": "execute_result"
    }
   ],
   "source": [
    "students_medium = user_profile[(user_profile['activity'] == 'student') & (user_profile['budget'] == 'medium')]\n",
    "students_medium['transport'].value_counts()"
   ]
  },
  {
   "cell_type": "code",
   "execution_count": 27,
   "metadata": {},
   "outputs": [
    {
     "data": {
      "text/plain": [
       "0.11267605633802817"
      ]
     },
     "execution_count": 27,
     "metadata": {},
     "output_type": "execute_result"
    }
   ],
   "source": [
    "(students_medium[students_medium['transport'] == 'on foot'].count() / students_medium.count())['userID']"
   ]
  },
  {
   "cell_type": "markdown",
   "metadata": {},
   "source": [
    "11% of students with a medium budget prefer walking to the restaurants."
   ]
  },
  {
   "cell_type": "markdown",
   "metadata": {},
   "source": [
    "---\n",
    "## Questions - Part 2"
   ]
  },
  {
   "cell_type": "markdown",
   "metadata": {},
   "source": [
    "**Question 8** What are the names of restaurants that do not have public parking lots ?"
   ]
  },
  {
   "cell_type": "markdown",
   "metadata": {},
   "source": [
    "This question is ambiguous. Is 'street' a public parking ? Is a 'fee' parking public ? In the answer, I only retrieve restaurants whose parkings are not 'public'."
   ]
  },
  {
   "cell_type": "code",
   "execution_count": 28,
   "metadata": {},
   "outputs": [
    {
     "data": {
      "text/html": [
       "<div>\n",
       "<style scoped>\n",
       "    .dataframe tbody tr th:only-of-type {\n",
       "        vertical-align: middle;\n",
       "    }\n",
       "\n",
       "    .dataframe tbody tr th {\n",
       "        vertical-align: top;\n",
       "    }\n",
       "\n",
       "    .dataframe thead th {\n",
       "        text-align: right;\n",
       "    }\n",
       "</style>\n",
       "<table border=\"1\" class=\"dataframe\">\n",
       "  <thead>\n",
       "    <tr style=\"text-align: right;\">\n",
       "      <th></th>\n",
       "      <th>name</th>\n",
       "      <th>parking_lot</th>\n",
       "    </tr>\n",
       "  </thead>\n",
       "  <tbody>\n",
       "    <tr>\n",
       "      <td>0</td>\n",
       "      <td>paniroles</td>\n",
       "      <td>NaN</td>\n",
       "    </tr>\n",
       "    <tr>\n",
       "      <td>1</td>\n",
       "      <td>potzocalli</td>\n",
       "      <td>NaN</td>\n",
       "    </tr>\n",
       "    <tr>\n",
       "      <td>2</td>\n",
       "      <td>el rincón de san francisco</td>\n",
       "      <td>NaN</td>\n",
       "    </tr>\n",
       "    <tr>\n",
       "      <td>3</td>\n",
       "      <td>vips</td>\n",
       "      <td>yes</td>\n",
       "    </tr>\n",
       "    <tr>\n",
       "      <td>5</td>\n",
       "      <td>mcdonalds parque tangamanga</td>\n",
       "      <td>yes</td>\n",
       "    </tr>\n",
       "    <tr>\n",
       "      <td>7</td>\n",
       "      <td>la estrella de dimas</td>\n",
       "      <td>NaN</td>\n",
       "    </tr>\n",
       "    <tr>\n",
       "      <td>8</td>\n",
       "      <td>el club</td>\n",
       "      <td>NaN</td>\n",
       "    </tr>\n",
       "    <tr>\n",
       "      <td>9</td>\n",
       "      <td>los toneles</td>\n",
       "      <td>NaN</td>\n",
       "    </tr>\n",
       "    <tr>\n",
       "      <td>10</td>\n",
       "      <td>koye sushi</td>\n",
       "      <td>NaN</td>\n",
       "    </tr>\n",
       "    <tr>\n",
       "      <td>11</td>\n",
       "      <td>restaurante pueblo bonito</td>\n",
       "      <td>yes</td>\n",
       "    </tr>\n",
       "    <tr>\n",
       "      <td>12</td>\n",
       "      <td>mariscos el pescador</td>\n",
       "      <td>yes</td>\n",
       "    </tr>\n",
       "    <tr>\n",
       "      <td>14</td>\n",
       "      <td>restaurante bar el gallinero</td>\n",
       "      <td>yes</td>\n",
       "    </tr>\n",
       "    <tr>\n",
       "      <td>15</td>\n",
       "      <td>sushi itto</td>\n",
       "      <td>NaN</td>\n",
       "    </tr>\n",
       "    <tr>\n",
       "      <td>16</td>\n",
       "      <td>restaurante la cantina</td>\n",
       "      <td>yes</td>\n",
       "    </tr>\n",
       "    <tr>\n",
       "      <td>17</td>\n",
       "      <td>restaurante 75</td>\n",
       "      <td>yes</td>\n",
       "    </tr>\n",
       "    <tr>\n",
       "      <td>18</td>\n",
       "      <td>abondance restaurante bar</td>\n",
       "      <td>yes</td>\n",
       "    </tr>\n",
       "    <tr>\n",
       "      <td>19</td>\n",
       "      <td>restaurante guerra</td>\n",
       "      <td>yes</td>\n",
       "    </tr>\n",
       "    <tr>\n",
       "      <td>20</td>\n",
       "      <td>el angel restaurante</td>\n",
       "      <td>NaN</td>\n",
       "    </tr>\n",
       "    <tr>\n",
       "      <td>21</td>\n",
       "      <td>restaurante el chivero s.a. de c.v.</td>\n",
       "      <td>yes</td>\n",
       "    </tr>\n",
       "    <tr>\n",
       "      <td>22</td>\n",
       "      <td>restaurante alhondiga</td>\n",
       "      <td>NaN</td>\n",
       "    </tr>\n",
       "    <tr>\n",
       "      <td>23</td>\n",
       "      <td>restaurante el cielo potosino</td>\n",
       "      <td>yes</td>\n",
       "    </tr>\n",
       "    <tr>\n",
       "      <td>24</td>\n",
       "      <td>restaurante marisco sam</td>\n",
       "      <td>NaN</td>\n",
       "    </tr>\n",
       "    <tr>\n",
       "      <td>25</td>\n",
       "      <td>restaurant bar hacienda los martinez</td>\n",
       "      <td>yes</td>\n",
       "    </tr>\n",
       "    <tr>\n",
       "      <td>27</td>\n",
       "      <td>el herradero restaurante and bar</td>\n",
       "      <td>yes</td>\n",
       "    </tr>\n",
       "    <tr>\n",
       "      <td>28</td>\n",
       "      <td>la cochinita pibil restaurante yucateco</td>\n",
       "      <td>yes</td>\n",
       "    </tr>\n",
       "    <tr>\n",
       "      <td>29</td>\n",
       "      <td>restaurante y pescaderia tampico</td>\n",
       "      <td>yes</td>\n",
       "    </tr>\n",
       "    <tr>\n",
       "      <td>30</td>\n",
       "      <td>la fontana pizza restaurante and cafe</td>\n",
       "      <td>yes</td>\n",
       "    </tr>\n",
       "    <tr>\n",
       "      <td>31</td>\n",
       "      <td>la cantina restaurante</td>\n",
       "      <td>NaN</td>\n",
       "    </tr>\n",
       "    <tr>\n",
       "      <td>32</td>\n",
       "      <td>restaurante versalles</td>\n",
       "      <td>NaN</td>\n",
       "    </tr>\n",
       "    <tr>\n",
       "      <td>33</td>\n",
       "      <td>restaurante la estrella de dima</td>\n",
       "      <td>yes</td>\n",
       "    </tr>\n",
       "    <tr>\n",
       "      <td>34</td>\n",
       "      <td>restaurante de mariscos la langosta</td>\n",
       "      <td>NaN</td>\n",
       "    </tr>\n",
       "    <tr>\n",
       "      <td>35</td>\n",
       "      <td>restaurante bar fu-hao</td>\n",
       "      <td>yes</td>\n",
       "    </tr>\n",
       "    <tr>\n",
       "      <td>36</td>\n",
       "      <td>restaurante casa de las flores</td>\n",
       "      <td>yes</td>\n",
       "    </tr>\n",
       "    <tr>\n",
       "      <td>37</td>\n",
       "      <td>restaurante el reyecito</td>\n",
       "      <td>yes</td>\n",
       "    </tr>\n",
       "    <tr>\n",
       "      <td>38</td>\n",
       "      <td>restaurante la gran via</td>\n",
       "      <td>yes</td>\n",
       "    </tr>\n",
       "    <tr>\n",
       "      <td>39</td>\n",
       "      <td>restaurant wu zhuo yi</td>\n",
       "      <td>NaN</td>\n",
       "    </tr>\n",
       "    <tr>\n",
       "      <td>40</td>\n",
       "      <td>pizza clasica</td>\n",
       "      <td>NaN</td>\n",
       "    </tr>\n",
       "    <tr>\n",
       "      <td>41</td>\n",
       "      <td>restaurant oriental express</td>\n",
       "      <td>NaN</td>\n",
       "    </tr>\n",
       "    <tr>\n",
       "      <td>42</td>\n",
       "      <td>luna cafe</td>\n",
       "      <td>NaN</td>\n",
       "    </tr>\n",
       "    <tr>\n",
       "      <td>43</td>\n",
       "      <td>restaurant los compadres</td>\n",
       "      <td>yes</td>\n",
       "    </tr>\n",
       "    <tr>\n",
       "      <td>44</td>\n",
       "      <td>restaurant de mariscos de picon</td>\n",
       "      <td>yes</td>\n",
       "    </tr>\n",
       "    <tr>\n",
       "      <td>45</td>\n",
       "      <td>restaurant la chalita</td>\n",
       "      <td>NaN</td>\n",
       "    </tr>\n",
       "    <tr>\n",
       "      <td>46</td>\n",
       "      <td>el mundo de la pasta</td>\n",
       "      <td>yes</td>\n",
       "    </tr>\n",
       "    <tr>\n",
       "      <td>47</td>\n",
       "      <td>michiko restaurant japones</td>\n",
       "      <td>NaN</td>\n",
       "    </tr>\n",
       "    <tr>\n",
       "      <td>48</td>\n",
       "      <td>restaurant el muladar de calzada</td>\n",
       "      <td>NaN</td>\n",
       "    </tr>\n",
       "    <tr>\n",
       "      <td>50</td>\n",
       "      <td>preambulo wifi zone cafe</td>\n",
       "      <td>NaN</td>\n",
       "    </tr>\n",
       "    <tr>\n",
       "      <td>51</td>\n",
       "      <td>la virreina</td>\n",
       "      <td>NaN</td>\n",
       "    </tr>\n",
       "    <tr>\n",
       "      <td>52</td>\n",
       "      <td>restaurant orizatlan</td>\n",
       "      <td>NaN</td>\n",
       "    </tr>\n",
       "    <tr>\n",
       "      <td>53</td>\n",
       "      <td>la cantina</td>\n",
       "      <td>NaN</td>\n",
       "    </tr>\n",
       "    <tr>\n",
       "      <td>54</td>\n",
       "      <td>el rincon de san francisco</td>\n",
       "      <td>NaN</td>\n",
       "    </tr>\n",
       "    <tr>\n",
       "      <td>56</td>\n",
       "      <td>restaurant bar coty y pablo</td>\n",
       "      <td>NaN</td>\n",
       "    </tr>\n",
       "    <tr>\n",
       "      <td>57</td>\n",
       "      <td>el oceano dorado</td>\n",
       "      <td>yes</td>\n",
       "    </tr>\n",
       "    <tr>\n",
       "      <td>58</td>\n",
       "      <td>arrachela grill</td>\n",
       "      <td>NaN</td>\n",
       "    </tr>\n",
       "    <tr>\n",
       "      <td>59</td>\n",
       "      <td>giovannis</td>\n",
       "      <td>NaN</td>\n",
       "    </tr>\n",
       "    <tr>\n",
       "      <td>60</td>\n",
       "      <td>los vikingos</td>\n",
       "      <td>NaN</td>\n",
       "    </tr>\n",
       "    <tr>\n",
       "      <td>61</td>\n",
       "      <td>vips</td>\n",
       "      <td>yes</td>\n",
       "    </tr>\n",
       "    <tr>\n",
       "      <td>62</td>\n",
       "      <td>restaurant los pinos</td>\n",
       "      <td>NaN</td>\n",
       "    </tr>\n",
       "    <tr>\n",
       "      <td>63</td>\n",
       "      <td>kiku cuernavaca</td>\n",
       "      <td>NaN</td>\n",
       "    </tr>\n",
       "    <tr>\n",
       "      <td>64</td>\n",
       "      <td>sanborns casa piedra</td>\n",
       "      <td>yes</td>\n",
       "    </tr>\n",
       "    <tr>\n",
       "      <td>65</td>\n",
       "      <td>restaurant teely</td>\n",
       "      <td>yes</td>\n",
       "    </tr>\n",
       "    <tr>\n",
       "      <td>66</td>\n",
       "      <td>chilis cuernavaca</td>\n",
       "      <td>NaN</td>\n",
       "    </tr>\n",
       "    <tr>\n",
       "      <td>67</td>\n",
       "      <td>restaurant las mananitas</td>\n",
       "      <td>yes</td>\n",
       "    </tr>\n",
       "    <tr>\n",
       "      <td>68</td>\n",
       "      <td>restaurant and bar and clothesline carlos n ch...</td>\n",
       "      <td>yes</td>\n",
       "    </tr>\n",
       "    <tr>\n",
       "      <td>69</td>\n",
       "      <td>log yin</td>\n",
       "      <td>yes</td>\n",
       "    </tr>\n",
       "    <tr>\n",
       "      <td>70</td>\n",
       "      <td>rincon del bife</td>\n",
       "      <td>valet parking</td>\n",
       "    </tr>\n",
       "    <tr>\n",
       "      <td>71</td>\n",
       "      <td>tacos los volcanes</td>\n",
       "      <td>NaN</td>\n",
       "    </tr>\n",
       "    <tr>\n",
       "      <td>72</td>\n",
       "      <td>emilianos</td>\n",
       "      <td>NaN</td>\n",
       "    </tr>\n",
       "    <tr>\n",
       "      <td>73</td>\n",
       "      <td>la parroquia</td>\n",
       "      <td>yes</td>\n",
       "    </tr>\n",
       "    <tr>\n",
       "      <td>74</td>\n",
       "      <td>vips</td>\n",
       "      <td>yes</td>\n",
       "    </tr>\n",
       "    <tr>\n",
       "      <td>75</td>\n",
       "      <td>rockabilly</td>\n",
       "      <td>NaN</td>\n",
       "    </tr>\n",
       "    <tr>\n",
       "      <td>76</td>\n",
       "      <td>el pueblito</td>\n",
       "      <td>NaN</td>\n",
       "    </tr>\n",
       "    <tr>\n",
       "      <td>77</td>\n",
       "      <td>cafe punta del cielo</td>\n",
       "      <td>NaN</td>\n",
       "    </tr>\n",
       "    <tr>\n",
       "      <td>78</td>\n",
       "      <td>crudalia</td>\n",
       "      <td>NaN</td>\n",
       "    </tr>\n",
       "    <tr>\n",
       "      <td>80</td>\n",
       "      <td>dairy queen</td>\n",
       "      <td>NaN</td>\n",
       "    </tr>\n",
       "    <tr>\n",
       "      <td>81</td>\n",
       "      <td>sirloin stockade</td>\n",
       "      <td>NaN</td>\n",
       "    </tr>\n",
       "    <tr>\n",
       "      <td>82</td>\n",
       "      <td>shi ro ie</td>\n",
       "      <td>valet parking</td>\n",
       "    </tr>\n",
       "    <tr>\n",
       "      <td>84</td>\n",
       "      <td>tortas y hamburguesas el gordo</td>\n",
       "      <td>NaN</td>\n",
       "    </tr>\n",
       "    <tr>\n",
       "      <td>85</td>\n",
       "      <td>dominos pizza</td>\n",
       "      <td>yes</td>\n",
       "    </tr>\n",
       "    <tr>\n",
       "      <td>86</td>\n",
       "      <td>chaires</td>\n",
       "      <td>yes</td>\n",
       "    </tr>\n",
       "    <tr>\n",
       "      <td>87</td>\n",
       "      <td>la posada del virrey</td>\n",
       "      <td>valet parking</td>\n",
       "    </tr>\n",
       "    <tr>\n",
       "      <td>88</td>\n",
       "      <td>carls jr</td>\n",
       "      <td>yes</td>\n",
       "    </tr>\n",
       "    <tr>\n",
       "      <td>89</td>\n",
       "      <td>hamburguesas valle dorado</td>\n",
       "      <td>NaN</td>\n",
       "    </tr>\n",
       "    <tr>\n",
       "      <td>90</td>\n",
       "      <td>unicols pizza</td>\n",
       "      <td>NaN</td>\n",
       "    </tr>\n",
       "    <tr>\n",
       "      <td>91</td>\n",
       "      <td>sirlone</td>\n",
       "      <td>yes</td>\n",
       "    </tr>\n",
       "    <tr>\n",
       "      <td>92</td>\n",
       "      <td>kfc</td>\n",
       "      <td>yes</td>\n",
       "    </tr>\n",
       "    <tr>\n",
       "      <td>93</td>\n",
       "      <td>don burguers</td>\n",
       "      <td>NaN</td>\n",
       "    </tr>\n",
       "    <tr>\n",
       "      <td>94</td>\n",
       "      <td>el lechon potosino</td>\n",
       "      <td>NaN</td>\n",
       "    </tr>\n",
       "    <tr>\n",
       "      <td>95</td>\n",
       "      <td>cenaduria el rincã³n de tlaquepaque</td>\n",
       "      <td>NaN</td>\n",
       "    </tr>\n",
       "    <tr>\n",
       "      <td>97</td>\n",
       "      <td>rincon huasteco</td>\n",
       "      <td>NaN</td>\n",
       "    </tr>\n",
       "    <tr>\n",
       "      <td>98</td>\n",
       "      <td>puesto de tacos</td>\n",
       "      <td>NaN</td>\n",
       "    </tr>\n",
       "    <tr>\n",
       "      <td>99</td>\n",
       "      <td>el cotorreo</td>\n",
       "      <td>NaN</td>\n",
       "    </tr>\n",
       "    <tr>\n",
       "      <td>100</td>\n",
       "      <td>mariscos tia licha</td>\n",
       "      <td>NaN</td>\n",
       "    </tr>\n",
       "    <tr>\n",
       "      <td>101</td>\n",
       "      <td>restaurant familiar el chino</td>\n",
       "      <td>yes</td>\n",
       "    </tr>\n",
       "    <tr>\n",
       "      <td>102</td>\n",
       "      <td>mikasa</td>\n",
       "      <td>yes</td>\n",
       "    </tr>\n",
       "    <tr>\n",
       "      <td>104</td>\n",
       "      <td>cabana huasteca</td>\n",
       "      <td>NaN</td>\n",
       "    </tr>\n",
       "    <tr>\n",
       "      <td>105</td>\n",
       "      <td>carreton de flautas y migadas</td>\n",
       "      <td>NaN</td>\n",
       "    </tr>\n",
       "    <tr>\n",
       "      <td>106</td>\n",
       "      <td>little cesarz</td>\n",
       "      <td>yes</td>\n",
       "    </tr>\n",
       "    <tr>\n",
       "      <td>107</td>\n",
       "      <td>taqueria el amigo</td>\n",
       "      <td>NaN</td>\n",
       "    </tr>\n",
       "    <tr>\n",
       "      <td>110</td>\n",
       "      <td>tacos de la estacion</td>\n",
       "      <td>NaN</td>\n",
       "    </tr>\n",
       "    <tr>\n",
       "      <td>112</td>\n",
       "      <td>tacos el guero</td>\n",
       "      <td>NaN</td>\n",
       "    </tr>\n",
       "    <tr>\n",
       "      <td>113</td>\n",
       "      <td>little pizza emilio portes gil</td>\n",
       "      <td>NaN</td>\n",
       "    </tr>\n",
       "    <tr>\n",
       "      <td>114</td>\n",
       "      <td>tacos correcaminos</td>\n",
       "      <td>NaN</td>\n",
       "    </tr>\n",
       "    <tr>\n",
       "      <td>115</td>\n",
       "      <td>tacos abi</td>\n",
       "      <td>NaN</td>\n",
       "    </tr>\n",
       "    <tr>\n",
       "      <td>116</td>\n",
       "      <td>carnitas mata calle emilio portes gil</td>\n",
       "      <td>NaN</td>\n",
       "    </tr>\n",
       "    <tr>\n",
       "      <td>117</td>\n",
       "      <td>carnitas mata  calle 16 de septiembre</td>\n",
       "      <td>NaN</td>\n",
       "    </tr>\n",
       "    <tr>\n",
       "      <td>118</td>\n",
       "      <td>palomo tec</td>\n",
       "      <td>NaN</td>\n",
       "    </tr>\n",
       "    <tr>\n",
       "      <td>119</td>\n",
       "      <td>la perica hamburguesa</td>\n",
       "      <td>yes</td>\n",
       "    </tr>\n",
       "    <tr>\n",
       "      <td>120</td>\n",
       "      <td>carnitas_mata</td>\n",
       "      <td>yes</td>\n",
       "    </tr>\n",
       "    <tr>\n",
       "      <td>121</td>\n",
       "      <td>pollo_frito_buenos_aires</td>\n",
       "      <td>yes</td>\n",
       "    </tr>\n",
       "    <tr>\n",
       "      <td>124</td>\n",
       "      <td>gorditas dona tota</td>\n",
       "      <td>yes</td>\n",
       "    </tr>\n",
       "    <tr>\n",
       "      <td>125</td>\n",
       "      <td>mcdonalds centro</td>\n",
       "      <td>NaN</td>\n",
       "    </tr>\n",
       "    <tr>\n",
       "      <td>126</td>\n",
       "      <td>cafe chaires</td>\n",
       "      <td>yes</td>\n",
       "    </tr>\n",
       "    <tr>\n",
       "      <td>127</td>\n",
       "      <td>churchs</td>\n",
       "      <td>NaN</td>\n",
       "    </tr>\n",
       "    <tr>\n",
       "      <td>128</td>\n",
       "      <td>cafe ambar</td>\n",
       "      <td>NaN</td>\n",
       "    </tr>\n",
       "  </tbody>\n",
       "</table>\n",
       "</div>"
      ],
      "text/plain": [
       "                                                  name    parking_lot\n",
       "0                                            paniroles            NaN\n",
       "1                                           potzocalli            NaN\n",
       "2                           el rincón de san francisco            NaN\n",
       "3                                                 vips            yes\n",
       "5                          mcdonalds parque tangamanga            yes\n",
       "7                                 la estrella de dimas            NaN\n",
       "8                                              el club            NaN\n",
       "9                                          los toneles            NaN\n",
       "10                                          koye sushi            NaN\n",
       "11                           restaurante pueblo bonito            yes\n",
       "12                                mariscos el pescador            yes\n",
       "14                        restaurante bar el gallinero            yes\n",
       "15                                          sushi itto            NaN\n",
       "16                              restaurante la cantina            yes\n",
       "17                                      restaurante 75            yes\n",
       "18                           abondance restaurante bar            yes\n",
       "19                                  restaurante guerra            yes\n",
       "20                                el angel restaurante            NaN\n",
       "21                 restaurante el chivero s.a. de c.v.            yes\n",
       "22                               restaurante alhondiga            NaN\n",
       "23                       restaurante el cielo potosino            yes\n",
       "24                             restaurante marisco sam            NaN\n",
       "25                restaurant bar hacienda los martinez            yes\n",
       "27                    el herradero restaurante and bar            yes\n",
       "28             la cochinita pibil restaurante yucateco            yes\n",
       "29                    restaurante y pescaderia tampico            yes\n",
       "30               la fontana pizza restaurante and cafe            yes\n",
       "31                              la cantina restaurante            NaN\n",
       "32                               restaurante versalles            NaN\n",
       "33                     restaurante la estrella de dima            yes\n",
       "34                 restaurante de mariscos la langosta            NaN\n",
       "35                              restaurante bar fu-hao            yes\n",
       "36                      restaurante casa de las flores            yes\n",
       "37                             restaurante el reyecito            yes\n",
       "38                             restaurante la gran via            yes\n",
       "39                               restaurant wu zhuo yi            NaN\n",
       "40                                       pizza clasica            NaN\n",
       "41                         restaurant oriental express            NaN\n",
       "42                                           luna cafe            NaN\n",
       "43                            restaurant los compadres            yes\n",
       "44                     restaurant de mariscos de picon            yes\n",
       "45                               restaurant la chalita            NaN\n",
       "46                                el mundo de la pasta            yes\n",
       "47                          michiko restaurant japones            NaN\n",
       "48                    restaurant el muladar de calzada            NaN\n",
       "50                            preambulo wifi zone cafe            NaN\n",
       "51                                         la virreina            NaN\n",
       "52                                restaurant orizatlan            NaN\n",
       "53                                          la cantina            NaN\n",
       "54                          el rincon de san francisco            NaN\n",
       "56                         restaurant bar coty y pablo            NaN\n",
       "57                                    el oceano dorado            yes\n",
       "58                                     arrachela grill            NaN\n",
       "59                                           giovannis            NaN\n",
       "60                                        los vikingos            NaN\n",
       "61                                                vips            yes\n",
       "62                                restaurant los pinos            NaN\n",
       "63                                     kiku cuernavaca            NaN\n",
       "64                                sanborns casa piedra            yes\n",
       "65                                    restaurant teely            yes\n",
       "66                                   chilis cuernavaca            NaN\n",
       "67                            restaurant las mananitas            yes\n",
       "68   restaurant and bar and clothesline carlos n ch...            yes\n",
       "69                                             log yin            yes\n",
       "70                                     rincon del bife  valet parking\n",
       "71                                  tacos los volcanes            NaN\n",
       "72                                           emilianos            NaN\n",
       "73                                        la parroquia            yes\n",
       "74                                                vips            yes\n",
       "75                                         rockabilly             NaN\n",
       "76                                         el pueblito            NaN\n",
       "77                                cafe punta del cielo            NaN\n",
       "78                                            crudalia            NaN\n",
       "80                                         dairy queen            NaN\n",
       "81                                    sirloin stockade            NaN\n",
       "82                                           shi ro ie  valet parking\n",
       "84                      tortas y hamburguesas el gordo            NaN\n",
       "85                                       dominos pizza            yes\n",
       "86                                             chaires            yes\n",
       "87                                la posada del virrey  valet parking\n",
       "88                                            carls jr            yes\n",
       "89                           hamburguesas valle dorado            NaN\n",
       "90                                       unicols pizza            NaN\n",
       "91                                             sirlone            yes\n",
       "92                                                 kfc            yes\n",
       "93                                        don burguers            NaN\n",
       "94                                 el lechon potosino             NaN\n",
       "95                 cenaduria el rincã³n de tlaquepaque            NaN\n",
       "97                                     rincon huasteco            NaN\n",
       "98                                     puesto de tacos            NaN\n",
       "99                                         el cotorreo            NaN\n",
       "100                                 mariscos tia licha            NaN\n",
       "101                       restaurant familiar el chino            yes\n",
       "102                                             mikasa            yes\n",
       "104                                    cabana huasteca            NaN\n",
       "105                      carreton de flautas y migadas            NaN\n",
       "106                                      little cesarz            yes\n",
       "107                                 taqueria el amigo             NaN\n",
       "110                               tacos de la estacion            NaN\n",
       "112                                     tacos el guero            NaN\n",
       "113                     little pizza emilio portes gil            NaN\n",
       "114                                 tacos correcaminos            NaN\n",
       "115                                          tacos abi            NaN\n",
       "116              carnitas mata calle emilio portes gil            NaN\n",
       "117              carnitas mata  calle 16 de septiembre            NaN\n",
       "118                                         palomo tec            NaN\n",
       "119                              la perica hamburguesa            yes\n",
       "120                                      carnitas_mata            yes\n",
       "121                           pollo_frito_buenos_aires            yes\n",
       "124                                 gorditas dona tota            yes\n",
       "125                                   mcdonalds centro            NaN\n",
       "126                                       cafe chaires            yes\n",
       "127                                            churchs            NaN\n",
       "128                                         cafe ambar            NaN"
      ]
     },
     "execution_count": 28,
     "metadata": {},
     "output_type": "execute_result"
    }
   ],
   "source": [
    "parking_names = restaurant_parking.merge(geoplaces, on='placeID')[['placeID', 'parking_lot', 'name']]\n",
    "parking_names[parking_names['parking_lot'] != 'public'] [['name', 'parking_lot']]"
   ]
  },
  {
   "cell_type": "markdown",
   "metadata": {},
   "source": [
    "**Question 9** What are the addresses of restaurants which only accept cash ?"
   ]
  },
  {
   "cell_type": "code",
   "execution_count": 29,
   "metadata": {},
   "outputs": [
    {
     "data": {
      "text/html": [
       "<div>\n",
       "<style scoped>\n",
       "    .dataframe tbody tr th:only-of-type {\n",
       "        vertical-align: middle;\n",
       "    }\n",
       "\n",
       "    .dataframe tbody tr th {\n",
       "        vertical-align: top;\n",
       "    }\n",
       "\n",
       "    .dataframe thead th {\n",
       "        text-align: right;\n",
       "    }\n",
       "</style>\n",
       "<table border=\"1\" class=\"dataframe\">\n",
       "  <thead>\n",
       "    <tr style=\"text-align: right;\">\n",
       "      <th></th>\n",
       "      <th>placeID</th>\n",
       "      <th>Rpayment</th>\n",
       "      <th>address</th>\n",
       "    </tr>\n",
       "  </thead>\n",
       "  <tbody>\n",
       "    <tr>\n",
       "      <td>7</td>\n",
       "      <td>135088</td>\n",
       "      <td>cash</td>\n",
       "      <td>interior internado palmira sn</td>\n",
       "    </tr>\n",
       "    <tr>\n",
       "      <td>11</td>\n",
       "      <td>135085</td>\n",
       "      <td>cash</td>\n",
       "      <td>venustiano carranza 719 centro</td>\n",
       "    </tr>\n",
       "    <tr>\n",
       "      <td>12</td>\n",
       "      <td>135082</td>\n",
       "      <td>cash</td>\n",
       "      <td>villa de pozos 192 villa de pozos</td>\n",
       "    </tr>\n",
       "    <tr>\n",
       "      <td>26</td>\n",
       "      <td>135075</td>\n",
       "      <td>cash</td>\n",
       "      <td>himno nacional 2104 tangamanga</td>\n",
       "    </tr>\n",
       "    <tr>\n",
       "      <td>41</td>\n",
       "      <td>135070</td>\n",
       "      <td>cash</td>\n",
       "      <td>villa de pozos 4497 villa de pozos</td>\n",
       "    </tr>\n",
       "    <tr>\n",
       "      <td>42</td>\n",
       "      <td>135069</td>\n",
       "      <td>cash</td>\n",
       "      <td>industrias 908 valle dorado</td>\n",
       "    </tr>\n",
       "    <tr>\n",
       "      <td>53</td>\n",
       "      <td>135063</td>\n",
       "      <td>cash</td>\n",
       "      <td>alhondiga 62 centro</td>\n",
       "    </tr>\n",
       "    <tr>\n",
       "      <td>54</td>\n",
       "      <td>135062</td>\n",
       "      <td>cash</td>\n",
       "      <td>julian de los reyes 400 centro</td>\n",
       "    </tr>\n",
       "    <tr>\n",
       "      <td>55</td>\n",
       "      <td>135060</td>\n",
       "      <td>cash</td>\n",
       "      <td>ignacio allende 785 centro</td>\n",
       "    </tr>\n",
       "    <tr>\n",
       "      <td>56</td>\n",
       "      <td>135059</td>\n",
       "      <td>cash</td>\n",
       "      <td>santos degollado 745 los alamitos</td>\n",
       "    </tr>\n",
       "    <tr>\n",
       "      <td>78</td>\n",
       "      <td>135051</td>\n",
       "      <td>cash</td>\n",
       "      <td>francisco i. madero 145 centro</td>\n",
       "    </tr>\n",
       "    <tr>\n",
       "      <td>83</td>\n",
       "      <td>135049</td>\n",
       "      <td>cash</td>\n",
       "      <td>cordillera de los alpes 675 loma verde</td>\n",
       "    </tr>\n",
       "    <tr>\n",
       "      <td>98</td>\n",
       "      <td>135044</td>\n",
       "      <td>cash</td>\n",
       "      <td>himno nacional 100 avenida</td>\n",
       "    </tr>\n",
       "    <tr>\n",
       "      <td>99</td>\n",
       "      <td>135043</td>\n",
       "      <td>cash</td>\n",
       "      <td>524 soledad de graciano sanchez</td>\n",
       "    </tr>\n",
       "    <tr>\n",
       "      <td>100</td>\n",
       "      <td>135042</td>\n",
       "      <td>cash</td>\n",
       "      <td>tangamanga 7 tangamanga</td>\n",
       "    </tr>\n",
       "    <tr>\n",
       "      <td>101</td>\n",
       "      <td>135041</td>\n",
       "      <td>cash</td>\n",
       "      <td>francisco i. madero 215</td>\n",
       "    </tr>\n",
       "    <tr>\n",
       "      <td>105</td>\n",
       "      <td>135039</td>\n",
       "      <td>cash</td>\n",
       "      <td>miguel barragan 46 centro</td>\n",
       "    </tr>\n",
       "    <tr>\n",
       "      <td>106</td>\n",
       "      <td>135038</td>\n",
       "      <td>cash</td>\n",
       "      <td>guajardo sn san luis potosi centro</td>\n",
       "    </tr>\n",
       "    <tr>\n",
       "      <td>122</td>\n",
       "      <td>135030</td>\n",
       "      <td>cash</td>\n",
       "      <td>anahuac 805</td>\n",
       "    </tr>\n",
       "    <tr>\n",
       "      <td>135</td>\n",
       "      <td>135021</td>\n",
       "      <td>cash</td>\n",
       "      <td>rio mayo 17 vista hermosa</td>\n",
       "    </tr>\n",
       "    <tr>\n",
       "      <td>140</td>\n",
       "      <td>135016</td>\n",
       "      <td>cash</td>\n",
       "      <td>69 tres de mayo</td>\n",
       "    </tr>\n",
       "    <tr>\n",
       "      <td>141</td>\n",
       "      <td>135013</td>\n",
       "      <td>cash</td>\n",
       "      <td>40 norte civac 1ra. seccion</td>\n",
       "    </tr>\n",
       "    <tr>\n",
       "      <td>142</td>\n",
       "      <td>135011</td>\n",
       "      <td>cash</td>\n",
       "      <td>36 sur civac</td>\n",
       "    </tr>\n",
       "    <tr>\n",
       "      <td>147</td>\n",
       "      <td>135000</td>\n",
       "      <td>cash</td>\n",
       "      <td>federal mexico - acapulco 10 3 de mayo</td>\n",
       "    </tr>\n",
       "    <tr>\n",
       "      <td>148</td>\n",
       "      <td>134996</td>\n",
       "      <td>cash</td>\n",
       "      <td>lomas del mirador</td>\n",
       "    </tr>\n",
       "    <tr>\n",
       "      <td>152</td>\n",
       "      <td>134987</td>\n",
       "      <td>cash</td>\n",
       "      <td>rio mayo colonia vista hermosa esq. rio balsas</td>\n",
       "    </tr>\n",
       "    <tr>\n",
       "      <td>178</td>\n",
       "      <td>132951</td>\n",
       "      <td>cash</td>\n",
       "      <td>nicolas zapata 300</td>\n",
       "    </tr>\n",
       "    <tr>\n",
       "      <td>179</td>\n",
       "      <td>132937</td>\n",
       "      <td>cash</td>\n",
       "      <td>agustin de iturbide</td>\n",
       "    </tr>\n",
       "    <tr>\n",
       "      <td>183</td>\n",
       "      <td>132885</td>\n",
       "      <td>cash</td>\n",
       "      <td>av. saan luis enttre moctezuma y salinas</td>\n",
       "    </tr>\n",
       "    <tr>\n",
       "      <td>191</td>\n",
       "      <td>132870</td>\n",
       "      <td>cash</td>\n",
       "      <td>ricardo b. anaya</td>\n",
       "    </tr>\n",
       "    <tr>\n",
       "      <td>192</td>\n",
       "      <td>132869</td>\n",
       "      <td>cash</td>\n",
       "      <td>ricardo b. anaya</td>\n",
       "    </tr>\n",
       "    <tr>\n",
       "      <td>193</td>\n",
       "      <td>132866</td>\n",
       "      <td>cash</td>\n",
       "      <td>ricardo b. anaya</td>\n",
       "    </tr>\n",
       "    <tr>\n",
       "      <td>204</td>\n",
       "      <td>132858</td>\n",
       "      <td>cash</td>\n",
       "      <td>av. coral</td>\n",
       "    </tr>\n",
       "    <tr>\n",
       "      <td>205</td>\n",
       "      <td>132856</td>\n",
       "      <td>cash</td>\n",
       "      <td>plaza del carmen</td>\n",
       "    </tr>\n",
       "    <tr>\n",
       "      <td>210</td>\n",
       "      <td>132847</td>\n",
       "      <td>cash</td>\n",
       "      <td>r.b. anaya esq. florencia</td>\n",
       "    </tr>\n",
       "    <tr>\n",
       "      <td>211</td>\n",
       "      <td>132846</td>\n",
       "      <td>cash</td>\n",
       "      <td>circuito oriente esq. carretera 57</td>\n",
       "    </tr>\n",
       "    <tr>\n",
       "      <td>212</td>\n",
       "      <td>132845</td>\n",
       "      <td>cash</td>\n",
       "      <td>av. seminario</td>\n",
       "    </tr>\n",
       "    <tr>\n",
       "      <td>213</td>\n",
       "      <td>132834</td>\n",
       "      <td>cash</td>\n",
       "      <td>sevilla y olmedo 715 a</td>\n",
       "    </tr>\n",
       "    <tr>\n",
       "      <td>214</td>\n",
       "      <td>132825</td>\n",
       "      <td>cash</td>\n",
       "      <td>esquina santos degollado y leon guzman</td>\n",
       "    </tr>\n",
       "    <tr>\n",
       "      <td>215</td>\n",
       "      <td>132773</td>\n",
       "      <td>cash</td>\n",
       "      <td>emiliano zapata col. tres de mayo</td>\n",
       "    </tr>\n",
       "    <tr>\n",
       "      <td>221</td>\n",
       "      <td>132766</td>\n",
       "      <td>cash</td>\n",
       "      <td>himno nacional esq. blvd. juarez</td>\n",
       "    </tr>\n",
       "    <tr>\n",
       "      <td>226</td>\n",
       "      <td>132754</td>\n",
       "      <td>cash</td>\n",
       "      <td>cuauhtemoc 455</td>\n",
       "    </tr>\n",
       "    <tr>\n",
       "      <td>232</td>\n",
       "      <td>132732</td>\n",
       "      <td>cash</td>\n",
       "      <td>calle mezquite fracc framboyanes</td>\n",
       "    </tr>\n",
       "    <tr>\n",
       "      <td>239</td>\n",
       "      <td>132667</td>\n",
       "      <td>cash</td>\n",
       "      <td>calle emilio portes gil</td>\n",
       "    </tr>\n",
       "    <tr>\n",
       "      <td>242</td>\n",
       "      <td>132613</td>\n",
       "      <td>cash</td>\n",
       "      <td>lic. emilio portes gil</td>\n",
       "    </tr>\n",
       "    <tr>\n",
       "      <td>243</td>\n",
       "      <td>132609</td>\n",
       "      <td>cash</td>\n",
       "      <td>tampico</td>\n",
       "    </tr>\n",
       "    <tr>\n",
       "      <td>244</td>\n",
       "      <td>132608</td>\n",
       "      <td>cash</td>\n",
       "      <td>cd. mier</td>\n",
       "    </tr>\n",
       "    <tr>\n",
       "      <td>252</td>\n",
       "      <td>132560</td>\n",
       "      <td>cash</td>\n",
       "      <td>frente al tecnologico</td>\n",
       "    </tr>\n",
       "  </tbody>\n",
       "</table>\n",
       "</div>"
      ],
      "text/plain": [
       "     placeID Rpayment                                         address\n",
       "7     135088     cash                   interior internado palmira sn\n",
       "11    135085     cash                  venustiano carranza 719 centro\n",
       "12    135082     cash               villa de pozos 192 villa de pozos\n",
       "26    135075     cash                  himno nacional 2104 tangamanga\n",
       "41    135070     cash              villa de pozos 4497 villa de pozos\n",
       "42    135069     cash                     industrias 908 valle dorado\n",
       "53    135063     cash                             alhondiga 62 centro\n",
       "54    135062     cash                  julian de los reyes 400 centro\n",
       "55    135060     cash                      ignacio allende 785 centro\n",
       "56    135059     cash               santos degollado 745 los alamitos\n",
       "78    135051     cash                  francisco i. madero 145 centro\n",
       "83    135049     cash          cordillera de los alpes 675 loma verde\n",
       "98    135044     cash                      himno nacional 100 avenida\n",
       "99    135043     cash                 524 soledad de graciano sanchez\n",
       "100   135042     cash                         tangamanga 7 tangamanga\n",
       "101   135041     cash                         francisco i. madero 215\n",
       "105   135039     cash                       miguel barragan 46 centro\n",
       "106   135038     cash              guajardo sn san luis potosi centro\n",
       "122   135030     cash                                     anahuac 805\n",
       "135   135021     cash                       rio mayo 17 vista hermosa\n",
       "140   135016     cash                                 69 tres de mayo\n",
       "141   135013     cash                     40 norte civac 1ra. seccion\n",
       "142   135011     cash                                    36 sur civac\n",
       "147   135000     cash          federal mexico - acapulco 10 3 de mayo\n",
       "148   134996     cash                               lomas del mirador\n",
       "152   134987     cash  rio mayo colonia vista hermosa esq. rio balsas\n",
       "178   132951     cash                              nicolas zapata 300\n",
       "179   132937     cash                             agustin de iturbide\n",
       "183   132885     cash        av. saan luis enttre moctezuma y salinas\n",
       "191   132870     cash                                ricardo b. anaya\n",
       "192   132869     cash                                ricardo b. anaya\n",
       "193   132866     cash                                ricardo b. anaya\n",
       "204   132858     cash                                       av. coral\n",
       "205   132856     cash                                plaza del carmen\n",
       "210   132847     cash                       r.b. anaya esq. florencia\n",
       "211   132846     cash              circuito oriente esq. carretera 57\n",
       "212   132845     cash                                   av. seminario\n",
       "213   132834     cash                          sevilla y olmedo 715 a\n",
       "214   132825     cash          esquina santos degollado y leon guzman\n",
       "215   132773     cash               emiliano zapata col. tres de mayo\n",
       "221   132766     cash                himno nacional esq. blvd. juarez\n",
       "226   132754     cash                                  cuauhtemoc 455\n",
       "232   132732     cash                calle mezquite fracc framboyanes\n",
       "239   132667     cash                         calle emilio portes gil\n",
       "242   132613     cash                          lic. emilio portes gil\n",
       "243   132609     cash                                         tampico\n",
       "244   132608     cash                                        cd. mier\n",
       "252   132560     cash                           frente al tecnologico"
      ]
     },
     "execution_count": 29,
     "metadata": {},
     "output_type": "execute_result"
    }
   ],
   "source": [
    "payment_names = accepts.merge(geoplaces, on='placeID')[['placeID', 'Rpayment', 'address']]\n",
    "cash_restaurants = payment_names[payment_names['Rpayment'] == 'cash']\n",
    "other_restaurants = payment_names[payment_names['Rpayment'] != 'cash']\n",
    "only_cash_restaurants = cash_restaurants[~cash_restaurants['placeID'].isin(other_restaurants['placeID'])].dropna(axis='index')\n",
    "only_cash_restaurants"
   ]
  },
  {
   "cell_type": "markdown",
   "metadata": {},
   "source": [
    "In this question, we have to take care of restaurants accepting cash but also other forms of payment. This is why we remove this kind of restaurant in the second to last instruction."
   ]
  },
  {
   "cell_type": "markdown",
   "metadata": {},
   "source": [
    "**Question 10** Name the cities where the restaurants cook and serve ‘fast food’."
   ]
  },
  {
   "cell_type": "code",
   "execution_count": 30,
   "metadata": {},
   "outputs": [
    {
     "data": {
      "text/plain": [
       "array(['san luis potosi', 'soledad', 'cuernavaca', 'victoria'],\n",
       "      dtype=object)"
      ]
     },
     "execution_count": 30,
     "metadata": {},
     "output_type": "execute_result"
    }
   ],
   "source": [
    "cuisine_cities = restaurant_cuisine.merge(geoplaces, on='placeID')[['placeID', 'city', 'Rcuisine']].dropna(axis='index')\n",
    "cuisine_cities[cuisine_cities['Rcuisine'] == 'fast_food']['city'].unique()"
   ]
  },
  {
   "cell_type": "markdown",
   "metadata": {},
   "source": [
    "The cities where customers can find fast food are San Luis Potosi, Soledad, Cuernavaca and Victoria."
   ]
  },
  {
   "cell_type": "markdown",
   "metadata": {},
   "source": [
    "**Question 11** What is the most common 'rating' among customers with family ?"
   ]
  },
  {
   "cell_type": "markdown",
   "metadata": {},
   "source": [
    "This question is ambiguous. Does having a family means being married, having kids, both ? In this answer, I assume it means 'having kids'."
   ]
  },
  {
   "cell_type": "code",
   "execution_count": 31,
   "metadata": {},
   "outputs": [
    {
     "data": {
      "text/plain": [
       "0    39\n",
       "2    28\n",
       "1    15\n",
       "Name: rating, dtype: int64"
      ]
     },
     "execution_count": 31,
     "metadata": {},
     "output_type": "execute_result"
    }
   ],
   "source": [
    "family_rating = user_rating.merge(user_profile, on='userID')[['rating', 'hijos']]\n",
    "family_rating[family_rating['hijos'] == 'kids']['rating'].value_counts()"
   ]
  },
  {
   "cell_type": "markdown",
   "metadata": {},
   "source": [
    "The most common rating for customers with kids is 0, apparently children prevent people from enjoying their dinner !"
   ]
  },
  {
   "cell_type": "markdown",
   "metadata": {},
   "source": [
    "**Question 12** What types of 'rcuisine' received the highest rank from people with 'low'\n",
    "budget ?"
   ]
  },
  {
   "cell_type": "markdown",
   "metadata": {},
   "source": [
    "In this answer, I assume 'highest rank' means highest rating ('rating' == 2)."
   ]
  },
  {
   "cell_type": "code",
   "execution_count": 56,
   "metadata": {},
   "outputs": [
    {
     "data": {
      "text/plain": [
       "mexican             20\n",
       "bar                 16\n",
       "cafeteria           11\n",
       "fast_food            8\n",
       "international        8\n",
       "seafood              7\n",
       "pizzeria             6\n",
       "american             5\n",
       "chinese              4\n",
       "bar_pub_brewery      3\n",
       "contemporary         3\n",
       "burgers              2\n",
       "bakery               1\n",
       "game                 1\n",
       "cafe-coffee_shop     1\n",
       "Name: Rcuisine, dtype: int64"
      ]
     },
     "execution_count": 56,
     "metadata": {},
     "output_type": "execute_result"
    }
   ],
   "source": [
    "cuisine_rating = user_rating.merge(user_profile, on='userID')\n",
    "cuisine_rating = cuisine_rating.merge(restaurant_cuisine, on='placeID')\n",
    "cuisine_rating[(cuisine_rating['budget'] == 'low') & (cuisine_rating['rating'] == 2)]['Rcuisine'].value_counts()"
   ]
  },
  {
   "cell_type": "markdown",
   "metadata": {},
   "source": [
    "Among low budget customers, mexican cuisine recieved the most number of highest ratings. We should note that this question could have been understood as \"What kind of cuisine has the highest average rating ?\", in which case the answer is 'international'."
   ]
  },
  {
   "cell_type": "code",
   "execution_count": 57,
   "metadata": {},
   "outputs": [
    {
     "data": {
      "text/plain": [
       "Rcuisine\n",
       "international       1.615\n",
       "bakery              1.500\n",
       "cafe-coffee_shop    1.500\n",
       "game                1.333\n",
       "american            1.214\n",
       "cafeteria           1.179\n",
       "bar                 1.178\n",
       "seafood             1.176\n",
       "chinese             1.111\n",
       "contemporary        1.091\n",
       "bar_pub_brewery     1.083\n",
       "mexican             1.052\n",
       "fast_food           1.040\n",
       "burgers             1.000\n",
       "pizzeria            1.000\n",
       "vietnamese          1.000\n",
       "japanese            0.857\n",
       "italian             0.600\n",
       "breakfast-brunch    0.000\n",
       "Name: rating, dtype: float64"
      ]
     },
     "execution_count": 57,
     "metadata": {},
     "output_type": "execute_result"
    }
   ],
   "source": [
    "cuisine_rating[cuisine_rating['budget'] == 'low'].groupby('Rcuisine').mean()['rating'].round(3).sort_values(ascending=False)"
   ]
  },
  {
   "cell_type": "markdown",
   "metadata": {},
   "source": [
    "**Question 13** What is the average of 'service rating', received from 'social drinkers'\n",
    "about restaurants which just served 'Wine-Beer' ?"
   ]
  },
  {
   "cell_type": "code",
   "execution_count": 58,
   "metadata": {},
   "outputs": [
    {
     "data": {
      "text/plain": [
       "1.386"
      ]
     },
     "execution_count": 58,
     "metadata": {},
     "output_type": "execute_result"
    }
   ],
   "source": [
    "social_rating = user_rating.merge(user_profile, on='userID')\n",
    "social_rating = social_rating.merge(geoplaces, on='placeID')[['service_rating', 'drink_level', 'alcohol']]\n",
    "filter_ = (social_rating['drink_level'] == 'social drinker') & (social_rating['alcohol'] == 'wine-beer') \n",
    "social_rating[filter_]['service_rating'].mean().round(3)"
   ]
  },
  {
   "cell_type": "markdown",
   "metadata": {},
   "source": [
    "**Question 14** How many smokers gave zero 'service rating' to the restaurants without an\n",
    "open area ?"
   ]
  },
  {
   "cell_type": "code",
   "execution_count": 85,
   "metadata": {},
   "outputs": [
    {
     "data": {
      "text/plain": [
       "15"
      ]
     },
     "execution_count": 85,
     "metadata": {},
     "output_type": "execute_result"
    }
   ],
   "source": [
    "smokers_rating = user_rating.merge(user_profile, on='userID')\n",
    "smokers_rating = smokers_rating.merge(geoplaces, on='placeID')[['service_rating', 'smoker', 'area', 'userID']]\n",
    "filter_ = (smokers_rating['smoker'] == 'true') & (smokers_rating['area'] == 'closed') & (smokers_rating['service_rating'] == 0)\n",
    "smokers_rating[filter_]['userID'].unique().size"
   ]
  },
  {
   "cell_type": "markdown",
   "metadata": {},
   "source": [
    "15 smokers gave a score of 0 service rating to restaurants. To answer this question, we had to take care not to count smoker who rated multiple restaurants with a 0 service rating. This is done with the `unique()` method in the last instruction."
   ]
  },
  {
   "cell_type": "markdown",
   "metadata": {},
   "source": [
    "**Question 15** Find the correlation between different rating categories\n",
    "((general) rating, food_rating, service_rating) with the price levels of the\n",
    "restaurants."
   ]
  }
 ],
 "metadata": {
  "kernelspec": {
   "display_name": "Python 3",
   "language": "python",
   "name": "python3"
  },
  "language_info": {
   "codemirror_mode": {
    "name": "ipython",
    "version": 3
   },
   "file_extension": ".py",
   "mimetype": "text/x-python",
   "name": "python",
   "nbconvert_exporter": "python",
   "pygments_lexer": "ipython3",
   "version": "3.6.8"
  }
 },
 "nbformat": 4,
 "nbformat_minor": 2
}

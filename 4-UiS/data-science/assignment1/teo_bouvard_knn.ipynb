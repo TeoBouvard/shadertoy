{
 "cells": [
  {
   "cell_type": "markdown",
   "metadata": {},
   "source": [
    "# Implementation of the k-nearest neighbors algorithm\n",
    "---"
   ]
  },
  {
   "cell_type": "markdown",
   "metadata": {},
   "source": [
    "## Importing the data\n",
    "\n",
    "We are using the iris dataset, so let's import it and add labels to the columns.\n"
   ]
  },
  {
   "cell_type": "code",
   "execution_count": 1,
   "metadata": {},
   "outputs": [],
   "source": [
    "import pandas as pd\n",
    "\n",
    "dataset = pd.read_csv('iris.csv', names=['sepal length', 'sepal width', 'petal length', 'petal width', 'class'])"
   ]
  },
  {
   "cell_type": "markdown",
   "metadata": {},
   "source": [
    "## Splitting the data \n",
    "\n",
    "Even though k-NN classification doesn't require a training phase, it needs a labeled set of points which will be used to predict the class of unkown points.\n"
   ]
  },
  {
   "cell_type": "code",
   "execution_count": 2,
   "metadata": {},
   "outputs": [],
   "source": [
    "RANDOM_SEED = 42\n",
    "\n",
    "def train_test_split(dataset, test_ratio=0.34):\n",
    "\n",
    "    # suffle dataframe rows\n",
    "    shuffled_dataset = dataset.sample(frac=1, random_state=RANDOM_SEED)\n",
    "\n",
    "    # compute number of elements in test split\n",
    "    n_test = int(test_ratio*len(dataset))\n",
    "\n",
    "    # split dataset\n",
    "    x_train = shuffled_dataset[n_test:].drop(columns='class', axis=1)\n",
    "    y_train = shuffled_dataset[n_test:]['class']\n",
    "    x_test = shuffled_dataset[:n_test].drop(columns='class', axis=1)\n",
    "    y_test = shuffled_dataset[:n_test]['class']\n",
    "            \n",
    "    return x_train, y_train, x_test, y_test"
   ]
  },
  {
   "cell_type": "code",
   "execution_count": 29,
   "metadata": {},
   "outputs": [],
   "source": [
    "x_train, y_train, x_test, y_test = train_test_split(dataset)"
   ]
  },
  {
   "cell_type": "markdown",
   "metadata": {},
   "source": [
    "## Classification of unseen data - the slow way"
   ]
  },
  {
   "cell_type": "code",
   "execution_count": 4,
   "metadata": {},
   "outputs": [],
   "source": [
    "import numpy as np\n",
    "from collections import Counter\n",
    "\n",
    "K = 5\n",
    "\n",
    "def predict(x_train, y_train, x_test):\n",
    "    \n",
    "    y_pred = []\n",
    "    \n",
    "    for unknown_flower in x_test.iterrows():\n",
    "        distances = []\n",
    "\n",
    "        for known_flower in x_train.iterrows():\n",
    "            distance = np.linalg.norm(unknown_flower[1]-known_flower[1])\n",
    "            distances.append((known_flower[0], distance))\n",
    "\n",
    "        distances.sort(key=lambda x: x[1])\n",
    "\n",
    "        neighbors = {}\n",
    "\n",
    "        for distance in distances[:K]:\n",
    "            if y_train[distance[0]] not in neighbors:\n",
    "                neighbors[y_train[distance[0]]] = 1\n",
    "            else :\n",
    "                neighbors[y_train[distance[0]]] += 1\n",
    "        \n",
    "        y_pred.append(Counter(neighbors).most_common(1)[0][0])\n",
    "\n",
    "    return y_pred"
   ]
  },
  {
   "cell_type": "code",
   "execution_count": 26,
   "metadata": {},
   "outputs": [
    {
     "name": "stdout",
     "output_type": "stream",
     "text": [
      "1.62 s ± 37.7 ms per loop (mean ± std. dev. of 7 runs, 1 loop each)\n"
     ]
    }
   ],
   "source": [
    "%timeit y_pred = predict(x_train, y_train, x_test)"
   ]
  },
  {
   "cell_type": "markdown",
   "metadata": {},
   "source": [
    "## Evaluate predictions"
   ]
  },
  {
   "cell_type": "code",
   "execution_count": 15,
   "metadata": {},
   "outputs": [],
   "source": [
    "def evaluate(predections, ground_truth):\n",
    "    \n",
    "    correctly_classified = 0\n",
    "\n",
    "    for prediction, truth in zip(predections, ground_truth):\n",
    "        if prediction == truth:\n",
    "            correctly_classified += 1\n",
    "\n",
    "    return correctly_classified/len(ground_truth)"
   ]
  },
  {
   "cell_type": "code",
   "execution_count": 16,
   "metadata": {},
   "outputs": [],
   "source": [
    "score = evaluate(y_pred, y_test)"
   ]
  },
  {
   "cell_type": "code",
   "execution_count": 27,
   "metadata": {},
   "outputs": [
    {
     "name": "stdout",
     "output_type": "stream",
     "text": [
      "Accuracy : 0.9804\n"
     ]
    }
   ],
   "source": [
    "print(\"Accuracy : {0:.4f}\".format(score))"
   ]
  },
  {
   "cell_type": "code",
   "execution_count": 43,
   "metadata": {},
   "outputs": [
    {
     "name": "stdout",
     "output_type": "stream",
     "text": [
      "1.56 s ± 18.2 ms per loop (mean ± std. dev. of 7 runs, 1 loop each)\n"
     ]
    }
   ],
   "source": [
    "%timeit %run knn_naive.py"
   ]
  },
  {
   "cell_type": "code",
   "execution_count": 37,
   "metadata": {},
   "outputs": [],
   "source": [
    "\n"
   ]
  }
 ],
 "metadata": {
  "kernelspec": {
   "display_name": "Python 3",
   "language": "python",
   "name": "python3"
  },
  "language_info": {
   "codemirror_mode": {
    "name": "ipython",
    "version": 3
   },
   "file_extension": ".py",
   "mimetype": "text/x-python",
   "name": "python",
   "nbconvert_exporter": "python",
   "pygments_lexer": "ipython3",
   "version": "3.6.8"
  }
 },
 "nbformat": 4,
 "nbformat_minor": 2
}

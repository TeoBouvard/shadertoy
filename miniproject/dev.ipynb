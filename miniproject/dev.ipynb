{
 "cells": [
  {
   "cell_type": "code",
   "execution_count": 8,
   "metadata": {},
   "outputs": [],
   "source": [
    "import tensorflow as tf\n",
    "import tensorflow_datasets as tfds\n",
    "\n",
    "from matplotlib import pyplot as plt\n",
    "import numpy as np\n",
    "\n",
    "# which one is it ?\n",
    "#gpus = tf.config.experimental.list_physical_devices('GPU')\n",
    "#tf.config.experimental.set_virtual_device_configuration(gpus[0], [tf.config.experimental.VirtualDeviceConfiguration(memory_limit=1024)])\n",
    "\n",
    "import os\n",
    "os.environ['TF_FORCE_GPU_ALLOW_GROWTH'] = 'true'\n",
    "\n",
    "#ds, ds_info = tfds.load('cifar10', with_info=True)\n",
    "#fig = tfds.show_examples(ds_info, ds[\"train\"])"
   ]
  },
  {
   "cell_type": "code",
   "execution_count": 2,
   "metadata": {},
   "outputs": [],
   "source": [
    "(x_train, y_train), (x_test, y_test) = tf.keras.datasets.cifar10.load_data()\n",
    "x_train, x_test = x_train / 255.0, x_test / 255.0"
   ]
  },
  {
   "cell_type": "code",
   "execution_count": 3,
   "metadata": {},
   "outputs": [],
   "source": [
    "model = tf.keras.models.Sequential([\n",
    "  tf.keras.layers.Flatten(input_shape=(32, 32, 3)),\n",
    "  tf.keras.layers.Dense(512, activation='relu'),\n",
    "  tf.keras.layers.Dense(256, activation='relu'),\n",
    "  tf.keras.layers.Dropout(0.2),\n",
    "  tf.keras.layers.Dense(10)\n",
    "])\n",
    "loss_fn = tf.keras.losses.SparseCategoricalCrossentropy(from_logits=True)\n",
    "model.compile(optimizer='adam', loss=loss_fn, metrics=['accuracy'])"
   ]
  },
  {
   "cell_type": "code",
   "execution_count": 11,
   "metadata": {},
   "outputs": [],
   "source": [
    "# https://arxiv.org/pdf/1608.06037.pdf\n",
    "\n",
    "model = tf.keras.models.Sequential([\n",
    "  tf.keras.layers.Conv2D(64, kernel_size=3, input_shape=x_train.shape[1:], activation='relu'),\n",
    "    \n",
    "  tf.keras.layers.Conv2D(128, kernel_size=3, activation='relu'),\n",
    "  #tf.keras.layers.MaxPool2D(pool_size=2),\n",
    "  tf.keras.layers.Conv2D(128, kernel_size=3, activation='relu'),\n",
    "  #tf.keras.layers.MaxPool2D(pool_size=2),\n",
    "  tf.keras.layers.Conv2D(128, kernel_size=3, activation='relu'),\n",
    "  tf.keras.layers.MaxPool2D(pool_size=2),\n",
    "    \n",
    "  #tf.keras.layers.Conv2D(128, kernel_size=3, activation='relu'),\n",
    "    \n",
    "  tf.keras.layers.Flatten(),\n",
    "  tf.keras.layers.Dense(10)\n",
    "])\n",
    "\n",
    "loss_fn = tf.keras.losses.SparseCategoricalCrossentropy(from_logits=True)\n",
    "model.compile(optimizer='adam', loss=loss_fn, metrics=['accuracy'])"
   ]
  },
  {
   "cell_type": "code",
   "execution_count": 7,
   "metadata": {},
   "outputs": [
    {
     "name": "stdout",
     "output_type": "stream",
     "text": [
      "Train on 50000 samples, validate on 10000 samples\n",
      "Epoch 1/5\n",
      "50000/50000 [==============================] - 11s 227us/sample - loss: 1.5462 - accuracy: 0.4397 - val_loss: 1.3063 - val_accuracy: 0.5381\n",
      "Epoch 2/5\n",
      "50000/50000 [==============================] - 10s 196us/sample - loss: 1.1228 - accuracy: 0.6054 - val_loss: 1.0334 - val_accuracy: 0.6387\n",
      "Epoch 3/5\n",
      "50000/50000 [==============================] - 10s 197us/sample - loss: 0.9307 - accuracy: 0.6762 - val_loss: 0.9470 - val_accuracy: 0.6732\n",
      "Epoch 4/5\n",
      "50000/50000 [==============================] - 10s 197us/sample - loss: 0.8206 - accuracy: 0.7152 - val_loss: 0.8256 - val_accuracy: 0.7176\n",
      "Epoch 5/5\n",
      "50000/50000 [==============================] - 10s 199us/sample - loss: 0.7287 - accuracy: 0.7472 - val_loss: 0.7997 - val_accuracy: 0.7270\n"
     ]
    },
    {
     "data": {
      "text/plain": [
       "<tensorflow.python.keras.callbacks.History at 0x7f328c6e4670>"
      ]
     },
     "execution_count": 7,
     "metadata": {},
     "output_type": "execute_result"
    }
   ],
   "source": [
    "model.fit(x_train, y_train, batch_size=100, epochs=5, validation_data=(x_test,y_test), verbose=True)"
   ]
  },
  {
   "cell_type": "code",
   "execution_count": 10,
   "metadata": {},
   "outputs": [
    {
     "name": "stdout",
     "output_type": "stream",
     "text": [
      "Train on 50000 samples, validate on 10000 samples\n",
      "Epoch 1/5\n",
      "50000/50000 [==============================] - 20s 409us/sample - loss: 1.4475 - accuracy: 0.4811 - val_loss: 1.1312 - val_accuracy: 0.6012\n",
      "Epoch 2/5\n",
      "50000/50000 [==============================] - 20s 396us/sample - loss: 1.0075 - accuracy: 0.6496 - val_loss: 0.9618 - val_accuracy: 0.6702\n",
      "Epoch 3/5\n",
      "50000/50000 [==============================] - 20s 396us/sample - loss: 0.8291 - accuracy: 0.7147 - val_loss: 0.9492 - val_accuracy: 0.6805\n",
      "Epoch 4/5\n",
      "50000/50000 [==============================] - 20s 397us/sample - loss: 0.7086 - accuracy: 0.7589 - val_loss: 0.8535 - val_accuracy: 0.7148\n",
      "Epoch 5/5\n",
      "50000/50000 [==============================] - 20s 407us/sample - loss: 0.5985 - accuracy: 0.7939 - val_loss: 0.8239 - val_accuracy: 0.7289\n"
     ]
    },
    {
     "data": {
      "text/plain": [
       "<tensorflow.python.keras.callbacks.History at 0x7f33f621f1f0>"
      ]
     },
     "execution_count": 10,
     "metadata": {},
     "output_type": "execute_result"
    }
   ],
   "source": [
    "model.fit(x_train, y_train, batch_size=100, epochs=5, validation_data=(x_test,y_test), verbose=True)"
   ]
  }
 ],
 "metadata": {
  "file_extension": ".py",
  "kernelspec": {
   "display_name": "Python 3",
   "language": "python",
   "name": "python3"
  },
  "language_info": {
   "codemirror_mode": {
    "name": "ipython",
    "version": 3
   },
   "file_extension": ".py",
   "mimetype": "text/x-python",
   "name": "python",
   "nbconvert_exporter": "python",
   "pygments_lexer": "ipython3",
   "version": "3.8.2"
  },
  "mimetype": "text/x-python",
  "name": "python",
  "npconvert_exporter": "python",
  "pygments_lexer": "ipython3",
  "version": 3
 },
 "nbformat": 4,
 "nbformat_minor": 2
}

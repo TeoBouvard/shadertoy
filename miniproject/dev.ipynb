{
 "cells": [
  {
   "cell_type": "code",
   "execution_count": 1,
   "metadata": {},
   "outputs": [],
   "source": [
    "import os\n",
    "import random\n",
    "from hashlib import sha256\n",
    "from itertools import accumulate\n",
    "\n",
    "import numpy as np\n",
    "import tensorflow as tf\n",
    "from tensorflow.keras import datasets\n",
    "from matplotlib import pyplot as plt\n",
    "plt.rcParams['figure.figsize'] = [16, 8]\n",
    "\n",
    "# fix gpu memory management \n",
    "os.environ['TF_FORCE_GPU_ALLOW_GROWTH'] = 'true'\n",
    "\n",
    "# enable reproducibility\n",
    "SEED = 42\n",
    "os.environ['TF_DETERMINISTIC_OPS'] = '1'\n",
    "os.environ['PYTHONHASHSEED']=str(SEED)\n",
    "random.seed(SEED)\n",
    "np.random.seed(SEED)\n",
    "tf.random.set_seed(SEED)"
   ]
  },
  {
   "cell_type": "code",
   "execution_count": 2,
   "metadata": {},
   "outputs": [],
   "source": [
    "labels = ['airplane', 'automobile', 'bird', 'cat', 'deer', 'dog', 'frog', 'horse', 'ship', 'truck']\n",
    "(x_train, y_train), (x_test, y_test) = tf.keras.datasets.cifar10.load_data()\n",
    "\n",
    "x_train, x_test = x_train / 255.0, x_test / 255.0"
   ]
  },
  {
   "cell_type": "code",
   "execution_count": 3,
   "metadata": {
    "scrolled": false
   },
   "outputs": [
    {
     "data": {
      "text/plain": [
       "Text(0.5, 1.0, 'ship')"
      ]
     },
     "execution_count": 3,
     "metadata": {},
     "output_type": "execute_result"
    },
    {
     "data": {
      "image/png": "[encoded data removed]",
      "text/plain": [
       "<Figure size 1152x576 with 1 Axes>"
      ]
     },
     "metadata": {
      "needs_background": "light"
     },
     "output_type": "display_data"
    }
   ],
   "source": [
    "idx = np.random.choice(len(x_train))\n",
    "plt.imshow(x_train[idx])\n",
    "plt.title(labels[y_train[idx, 0]])"
   ]
  },
  {
   "cell_type": "code",
   "execution_count": 4,
   "metadata": {},
   "outputs": [],
   "source": [
    "class Signature:\n",
    "    def __init__(self, data, model, ratio=0.01, hash_fn=sha256):\n",
    "        self.rand_gen = self.gen_state(data, hash_fn)\n",
    "        n_total = model.count_params()\n",
    "        n_frozen = int(ratio*n_total)\n",
    "        self.weights = self.gen_weights(n_frozen)\n",
    "        self.idx = self.gen_indices(n_frozen, n_total)\n",
    "        print(f'Created signature with {n_frozen} parameters')\n",
    "    \n",
    "    def gen_state(self, data, hash_fn):\n",
    "        \"\"\"\n",
    "        Generates a random state that can be used as number generator from a bytes object\n",
    "        \"\"\"\n",
    "        h = hash_fn(data).hexdigest()\n",
    "        seed = int(h, 16) % pow(2, 32) # random state needs an integer between 0 and 2^32-1 \n",
    "        return np.random.RandomState(seed)\n",
    "    \n",
    "    def gen_weights(self, n):\n",
    "        \"\"\"\n",
    "        Generate size random weights from a normal distribution seeded with seed\n",
    "        \"\"\"\n",
    "        return self.rand_gen.normal(loc=0, scale=0.1, size=n).astype('float32')\n",
    "    \n",
    "    def gen_indices(self, n: int, upper_bound:int, distribution=\"uniform\"):\n",
    "        \"\"\"\n",
    "        Generate n indices in the interval [0, upper_bound-1] from a uniform distribution seeded with seed\n",
    "        \"\"\"\n",
    "        idx = np.arange(upper_bound)\n",
    "        if distribution == \"uniform\":\n",
    "            return self.rand_gen.choice(idx, n, replace=False)\n",
    "        else:\n",
    "            print(distribution)\n",
    "            raise NotImplementedError()"
   ]
  },
  {
   "cell_type": "code",
   "execution_count": 5,
   "metadata": {},
   "outputs": [],
   "source": [
    "class WeightsFreezer(tf.keras.callbacks.Callback):\n",
    "    def __init__(self, signature):\n",
    "        self.sig = signature\n",
    "        \n",
    "    def on_batch_end(self, batch, logs):\n",
    "        self.apply_weights()\n",
    "        \n",
    "    def apply_weights(self):\n",
    "        \"\"\"\n",
    "        Replaces the model weights at indices by weights\n",
    "        \"\"\"\n",
    "        model_weights = self.model.get_weights()\n",
    "        shapes = [layer.shape for layer in model_weights]\n",
    "        flat_weights = [layer.flatten() for layer in model_weights]\n",
    "        # keeping the last cut index creates an empty split, so we do not consider it\n",
    "        cuts = list(accumulate(len(layer) for layer in flat_weights[:-1]))\n",
    "        flat_weights = np.concatenate(flat_weights)   \n",
    "        flat_weights[self.sig.idx] = self.sig.weights\n",
    "        rebuilt_weights = np.hsplit(flat_weights, cuts)\n",
    "        rebuilt_weights = [layer.reshape(shapes[i]) for i, layer in enumerate(rebuilt_weights)]\n",
    "        self.model.set_weights(rebuilt_weights)"
   ]
  },
  {
   "cell_type": "code",
   "execution_count": 6,
   "metadata": {},
   "outputs": [],
   "source": [
    "# https://arxiv.org/pdf/1608.06037.pdf\n",
    "from tensorflow.keras import models\n",
    "from tensorflow.keras.layers import Conv2D, BatchNormalization, Flatten, Dense, MaxPooling2D, Dropout, ReLU\n",
    "from tensorflow.keras.losses import SparseCategoricalCrossentropy\n",
    "\n",
    "class SimpleNet(models.Sequential):\n",
    "    \n",
    "    def __init__(self):\n",
    "        super().__init__()\n",
    "        self.initialize_layers()\n",
    "        loss_fn = SparseCategoricalCrossentropy(from_logits=True)\n",
    "        self.compile(optimizer='adam', loss=loss_fn, metrics=['accuracy'])\n",
    "        print(f'Model compiled with {self.count_params():,} parameters')\n",
    "        self.history = []\n",
    "        \n",
    "    def initialize_layers(self):\n",
    "        kernel_size = 3\n",
    "        drop_rate = 0.2\n",
    "        pool_size = 2\n",
    "        \n",
    "        # Block 1\n",
    "        self.add(Conv2D(64, kernel_size, padding=\"same\", input_shape=x_train.shape[1:]))\n",
    "        self.add(BatchNormalization())\n",
    "        self.add(ReLU())\n",
    "        self.add(Dropout(drop_rate))\n",
    "\n",
    "        # Block 2\n",
    "        for _ in range(3):\n",
    "            self.add(Conv2D(128, kernel_size, padding=\"same\"))\n",
    "            self.add(BatchNormalization())\n",
    "            self.add(ReLU())\n",
    "            self.add(Dropout(drop_rate))\n",
    "        self.add(MaxPooling2D())\n",
    "\n",
    "\n",
    "        # Block 3\n",
    "        for _ in range(2):\n",
    "            self.add(Conv2D(128, kernel_size, padding=\"same\"))\n",
    "            self.add(BatchNormalization())\n",
    "            self.add(ReLU())\n",
    "            self.add(Dropout(drop_rate))\n",
    "\n",
    "        # Block 4\n",
    "        self.add(Conv2D(128, kernel_size, padding=\"same\"))\n",
    "        self.add(BatchNormalization())\n",
    "        self.add(ReLU())\n",
    "        self.add(Dropout(drop_rate))\n",
    "        self.add(MaxPooling2D())\n",
    "\n",
    "        # Block 5\n",
    "        for _ in range(2):\n",
    "            self.add(Conv2D(128, kernel_size, padding=\"same\"))\n",
    "            self.add(BatchNormalization())\n",
    "            self.add(ReLU())\n",
    "            self.add(Dropout(drop_rate))\n",
    "        self.add(MaxPooling2D())\n",
    "\n",
    "        # Block 6\n",
    "        self.add(Conv2D(128, kernel_size, padding=\"same\"))\n",
    "        self.add(BatchNormalization())\n",
    "        self.add(ReLU())\n",
    "        self.add(Dropout(drop_rate))\n",
    "\n",
    "        # Block 7\n",
    "        self.add(Conv2D(128, 1, padding=\"same\"))\n",
    "        self.add(BatchNormalization())\n",
    "        self.add(ReLU())\n",
    "        self.add(Dropout(drop_rate))\n",
    "\n",
    "        # Block 8\n",
    "        self.add(Conv2D(128, 1, padding=\"same\"))\n",
    "        self.add(BatchNormalization())\n",
    "        self.add(ReLU())\n",
    "        self.add(Dropout(drop_rate))\n",
    "        self.add(MaxPooling2D())\n",
    "\n",
    "        # Block 9\n",
    "        self.add(Conv2D(128, kernel_size, padding=\"same\"))\n",
    "        self.add(BatchNormalization())\n",
    "        self.add(ReLU())\n",
    "        self.add(Dropout(drop_rate))\n",
    "\n",
    "        # Classifier block    \n",
    "        self.add(Flatten()),\n",
    "        self.add(Dense(np.unique(y_train).size, activation='softmax'))\n",
    "        \n",
    "    def verify(self, signature):\n",
    "        \"\"\"\n",
    "        Verifies the signature of the model\n",
    "        \"\"\"\n",
    "        flat_weights = [layer.flatten() for layer in self.get_weights()]\n",
    "        flat_weights = np.concatenate(flat_weights)\n",
    "        return np.abs(flat_weights[signature.idx] - signature.weights).max() < 1e-8\n",
    "    \n",
    "    def train(self, *args, **kwargs):\n",
    "        self.history = self.fit(*args, **kwargs)\n",
    "    \n",
    "    def plot_training(self):\n",
    "        if not self.history:\n",
    "            raise ValueError(\"Model has not been trained yet\")\n",
    "        else:\n",
    "            fig, ax = plt.subplots(1, 2)\n",
    "    \n",
    "            ax[0].plot(history.history['accuracy'], label='Train')\n",
    "            ax[0].plot(history.history['val_accuracy'], label='Test')\n",
    "            ax[0].set(xlabel='Epoch', ylabel='Accuracy', title='Model accuracy')\n",
    "            ax[0].legend(loc='upper left')\n",
    "\n",
    "            ax[1].plot(history.history['loss'], label='Train')\n",
    "            ax[1].plot(history.history['val_loss'], label='Test')\n",
    "            ax[1].set(xlabel='Epoch', ylabel='Loss', title='Model loss')\n",
    "            ax[1].legend(loc='upper left')\n",
    "\n",
    "            return fig, ax"
   ]
  },
  {
   "cell_type": "code",
   "execution_count": 7,
   "metadata": {},
   "outputs": [
    {
     "name": "stdout",
     "output_type": "stream",
     "text": [
      "Model compiled with 1,448,458 parameters\n",
      "Created signature with 144 parameters\n",
      "Created signature with 14484 parameters\n"
     ]
    }
   ],
   "source": [
    "model = SimpleNet()\n",
    "sig = Signature(b'Some block information', model, ratio=0.0001)\n",
    "other_sig = Signature(b\"Some other block information\", model)\n",
    "wf = WeightsFreezer(sig)"
   ]
  },
  {
   "cell_type": "code",
   "execution_count": null,
   "metadata": {},
   "outputs": [
    {
     "name": "stdout",
     "output_type": "stream",
     "text": [
      "Train on 50000 samples, validate on 10000 samples\n",
      "Epoch 1/50\n",
      "50000/50000 [==============================] - 77s 2ms/sample - loss: 2.1013 - accuracy: 0.3498 - val_loss: 2.1305 - val_accuracy: 0.3188\n",
      "Epoch 2/50\n",
      "50000/50000 [==============================] - 75s 2ms/sample - loss: 1.9799 - accuracy: 0.4771 - val_loss: 2.0649 - val_accuracy: 0.3881\n",
      "Epoch 3/50\n",
      "50000/50000 [==============================] - 75s 2ms/sample - loss: 1.8980 - accuracy: 0.5595 - val_loss: 2.2150 - val_accuracy: 0.2354\n",
      "Epoch 4/50\n",
      "50000/50000 [==============================] - 75s 2ms/sample - loss: 1.8480 - accuracy: 0.6116 - val_loss: 1.9840 - val_accuracy: 0.4734\n",
      "Epoch 5/50\n",
      "50000/50000 [==============================] - 77s 2ms/sample - loss: 1.8176 - accuracy: 0.6411 - val_loss: 1.9559 - val_accuracy: 0.5023\n",
      "Epoch 6/50\n",
      "33800/50000 [===================>..........] - ETA: 23s - loss: 1.7947 - accuracy: 0.6653"
     ]
    }
   ],
   "source": [
    "history = model.fit(x_train, y_train, steps_per_epoch=None, batch_size=100, \n",
    "                    epochs=50, validation_data=(x_test,y_test), callbacks=[wf])"
   ]
  },
  {
   "cell_type": "code",
   "execution_count": null,
   "metadata": {},
   "outputs": [],
   "source": [
    "model.verify(sig)"
   ]
  },
  {
   "cell_type": "code",
   "execution_count": null,
   "metadata": {},
   "outputs": [],
   "source": [
    "model.verify(other_sig)"
   ]
  },
  {
   "cell_type": "code",
   "execution_count": null,
   "metadata": {},
   "outputs": [],
   "source": [
    "model.save('models/50epochs_ratio4.h5')"
   ]
  },
  {
   "cell_type": "code",
   "execution_count": null,
   "metadata": {},
   "outputs": [],
   "source": [
    "_, _ = model.plot_training()"
   ]
  }
 ],
 "metadata": {
  "file_extension": ".py",
  "kernelspec": {
   "display_name": "Python 3",
   "language": "python",
   "name": "python3"
  },
  "language_info": {
   "codemirror_mode": {
    "name": "ipython",
    "version": 3
   },
   "file_extension": ".py",
   "mimetype": "text/x-python",
   "name": "python",
   "nbconvert_exporter": "python",
   "pygments_lexer": "ipython3",
   "version": "3.8.2"
  },
  "mimetype": "text/x-python",
  "name": "python",
  "npconvert_exporter": "python",
  "pygments_lexer": "ipython3",
  "version": 3
 },
 "nbformat": 4,
 "nbformat_minor": 2
}
